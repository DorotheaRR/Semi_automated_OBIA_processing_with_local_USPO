{
 "cells": [
  {
   "cell_type": "markdown",
   "metadata": {},
   "source": [
    "<center> <font size=5> <h1>Define working environment</h1> </font> </center> "
   ]
  },
  {
   "cell_type": "markdown",
   "metadata": {},
   "source": [
    "The following cells are used to: \n",
    "- Import needed libraries\n",
    "- Set the environment variables for Python, Anaconda, GRASS GIS and R statistical computing \n",
    "- Define the [\"GRASSDATA\" folder](https://grass.osgeo.org/grass73/manuals/helptext.html), the name of \"location\" and \"mapset\" where you will to work."
   ]
  },
  {
   "cell_type": "markdown",
   "metadata": {},
   "source": [
    "**Import libraries**"
   ]
  },
  {
   "cell_type": "code",
   "execution_count": 1,
   "metadata": {
    "collapsed": true
   },
   "outputs": [],
   "source": [
    "## Import libraries needed for setting parameters of operating system \n",
    "import os\n",
    "import sys\n",
    "\n",
    "## Import library for temporary files creation \n",
    "import tempfile \n",
    "\n",
    "## Import Pandas library\n",
    "import pandas as pd\n",
    "\n",
    "## Import Numpy library\n",
    "import numpy\n",
    "\n",
    "## Import Psycopg2 library (interection with postgres database)\n",
    "import psycopg2 as pg\n",
    "\n",
    "# Import Math library (usefull for rounding number, e.g.)\n",
    "import math\n",
    "\n",
    "## Import Subprocess + subprocess.call\n",
    "import subprocess\n",
    "from subprocess import call, Popen, PIPE, STDOUT"
   ]
  },
  {
   "cell_type": "markdown",
   "metadata": {},
   "source": [
    "<center> <font size=3> <h3>Environment variables when working on Linux Mint</h3> </font> </center> "
   ]
  },
  {
   "cell_type": "markdown",
   "metadata": {},
   "source": [
    "**Set 'Python' and 'GRASS GIS' environment variables**"
   ]
  },
  {
   "cell_type": "markdown",
   "metadata": {},
   "source": [
    "Here, we set [the environment variables allowing to use of GRASS GIS](https://grass.osgeo.org/grass64/manuals/variables.html) inside this Jupyter notebook. Please change the directory path according to your own system configuration."
   ]
  },
  {
   "cell_type": "code",
   "execution_count": 2,
   "metadata": {
    "collapsed": true
   },
   "outputs": [],
   "source": [
    "### Define GRASS GIS environment variables for LINUX UBUNTU Mint 18.1 (Serena)\n",
    "# Check is environmental variables exists and create them (empty) if not exists.\n",
    "if not 'PYTHONPATH' in os.environ:\n",
    "    os.environ['PYTHONPATH']=''\n",
    "if not 'LD_LIBRARY_PATH' in os.environ:\n",
    "    os.environ['LD_LIBRARY_PATH']=''\n",
    "# Set environmental variables\n",
    "os.environ['GISBASE'] = '/home/tais/SRC/GRASS/grass_trunk/dist.x86_64-pc-linux-gnu'\n",
    "os.environ['PATH'] += os.pathsep + os.path.join(os.environ['GISBASE'],'bin')\n",
    "os.environ['PATH'] += os.pathsep + os.path.join(os.environ['GISBASE'],'script')\n",
    "os.environ['PATH'] += os.pathsep + os.path.join(os.environ['GISBASE'],'lib')\n",
    "#os.environ['PATH'] += os.pathsep + os.path.join(os.environ['GISBASE'],'etc','python')\n",
    "os.environ['PYTHONPATH'] += os.pathsep + os.path.join(os.environ['GISBASE'],'etc','python')\n",
    "os.environ['PYTHONPATH'] += os.pathsep + os.path.join(os.environ['GISBASE'],'etc','python','grass')\n",
    "os.environ['PYTHONPATH'] += os.pathsep + os.path.join(os.environ['GISBASE'],'etc','python','grass','script')\n",
    "os.environ['PYTHONLIB'] = '/usr/lib/python2.7'\n",
    "os.environ['LD_LIBRARY_PATH'] += os.pathsep + os.path.join(os.environ['GISBASE'],'lib')\n",
    "os.environ['GIS_LOCK'] = '$$'\n",
    "os.environ['GISRC'] = os.path.join(os.environ['HOME'],'.grass7','rc')\n",
    "os.environ['PATH'] += os.pathsep + os.path.join(os.environ['HOME'],'.grass7','addons')\n",
    "os.environ['PATH'] += os.pathsep + os.path.join(os.environ['HOME'],'.grass7','addons','bin')\n",
    "os.environ['PATH'] += os.pathsep + os.path.join(os.environ['HOME'],'.grass7','addons')\n",
    "os.environ['PATH'] += os.pathsep + os.path.join(os.environ['HOME'],'.grass7','addons','scripts')\n",
    "\n",
    "## Define GRASS-Python environment\n",
    "sys.path.append(os.path.join(os.environ['GISBASE'],'etc','python'))"
   ]
  },
  {
   "cell_type": "markdown",
   "metadata": {},
   "source": [
    "**-_-_-_-_-_-_-_-_-_-_-_-_-_-_-_-_-_-_-_-_-_-_-_-_-_-_-_-_-_-_-_-_-_-_-_-_-_-_-_-_-_-_-_-_-_-_-_-_-_-_-_-_-_-_-_-_-_-_-_-_-**"
   ]
  },
  {
   "cell_type": "markdown",
   "metadata": {
    "collapsed": true
   },
   "source": [
    "**Display current environment variables of your computer**"
   ]
  },
  {
   "cell_type": "code",
   "execution_count": 3,
   "metadata": {
    "scrolled": true
   },
   "outputs": [
    {
     "name": "stdout",
     "output_type": "stream",
     "text": [
      "MDMSESSION = mate \t\n",
      "MANDATORY_PATH = /usr/share/gconf/mate.mandatory.path \t\n",
      "MATE_DESKTOP_SESSION_ID = this-is-deprecated \t\n",
      "LESSOPEN = | /usr/bin/lesspipe %s \t\n",
      "MDM_LANG = fr_BE.UTF-8 \t\n",
      "LOGNAME = tais \t\n",
      "USER = tais \t\n",
      "HOME = /home/tais \t\n",
      "XDG_VTNR = 8 \t\n",
      "PATH = /usr/local/bin:/home/tais/BIN:/home/tais/bin:/home/tais/.local/bin:/usr/local/sbin:/usr/local/bin:/usr/sbin:/usr/bin:/sbin:/bin:/usr/games:/usr/local/games:/home/tais/SRC/GRASS/grass_trunk/dist.x86_64-pc-linux-gnu/bin:/home/tais/SRC/GRASS/grass_trunk/dist.x86_64-pc-linux-gnu/script:/home/tais/SRC/GRASS/grass_trunk/dist.x86_64-pc-linux-gnu/lib:/home/tais/.grass7/addons:/home/tais/.grass7/addons/bin:/home/tais/.grass7/addons:/home/tais/.grass7/addons/scripts \t\n",
      "CLICOLOR = 1 \t\n",
      "DISPLAY = :0.0 \t\n",
      "SSH_AGENT_PID = 2066 \t\n",
      "LANG = fr_BE.UTF-8 \t\n",
      "TERM = xterm-color \t\n",
      "SHELL = /bin/bash \t\n",
      "GIS_LOCK = $$ \t\n",
      "XAUTHORITY = /home/tais/.Xauthority \t\n",
      "SESSION_MANAGER = local/tais-HP-Z620-Workstation:@/tmp/.ICE-unix/1995,unix/tais-HP-Z620-Workstation:/tmp/.ICE-unix/1995 \t\n",
      "SHLVL = 1 \t\n",
      "QT_LINUX_ACCESSIBILITY_ALWAYS_ON = 1 \t\n",
      "INSIDE_CAJA_PYTHON =  \t\n",
      "QT_ACCESSIBILITY = 1 \t\n",
      "LD_LIBRARY_PATH = :/home/tais/SRC/GRASS/grass_trunk/dist.x86_64-pc-linux-gnu/lib \t\n",
      "COMPIZ_CONFIG_PROFILE = mate \t\n",
      "WINDOWPATH = 8 \t\n",
      "GTK_OVERLAY_SCROLLING = 0 \t\n",
      "PYTHONPATH = :/home/tais/SRC/GRASS/grass_trunk/dist.x86_64-pc-linux-gnu/etc/python:/home/tais/SRC/GRASS/grass_trunk/dist.x86_64-pc-linux-gnu/etc/python/grass:/home/tais/SRC/GRASS/grass_trunk/dist.x86_64-pc-linux-gnu/etc/python/grass/script \t\n",
      "GISBASE = /home/tais/SRC/GRASS/grass_trunk/dist.x86_64-pc-linux-gnu \t\n",
      "CLUTTER_BACKEND = x11 \t\n",
      "USERNAME = tais \t\n",
      "XDG_SESSION_DESKTOP = mate \t\n",
      "GDM_XSERVER_LOCATION = local \t\n",
      "XDG_RUNTIME_DIR = /run/user/1000 \t\n",
      "JPY_PARENT_PID = 19202 \t\n",
      "QT_STYLE_OVERRIDE = gtk \t\n",
      "SSH_AUTH_SOCK = /run/user/1000/keyring/ssh \t\n",
      "VTE_VERSION = 4205 \t\n",
      "GDMSESSION = mate \t\n",
      "GISRC = /home/tais/.grass7/rc \t\n",
      "GIT_PAGER = cat \t\n",
      "XDG_CONFIG_DIRS = /etc/xdg/xdg-mate:/etc/xdg \t\n",
      "XDG_CURRENT_DESKTOP = MATE \t\n",
      "XDG_SESSION_ID = c1 \t\n",
      "DBUS_SESSION_BUS_ADDRESS = unix:abstract=/tmp/dbus-HQg01KxGx1,guid=5adb60f2fb9cb695876d89a05a25171e \t\n",
      "_ = /usr/local/bin/jupyter \t\n",
      "XDG_SESSION_COOKIE = 8441891e86e24d76b9616edf516d5734-1512380190.44057-252399727 \t\n",
      "DESKTOP_SESSION = mate \t\n",
      "WINDOWID = 111149062 \t\n",
      "LESSCLOSE = /usr/bin/lesspipe %s %s \t\n",
      "DEFAULTS_PATH = /usr/share/gconf/mate.default.path \t\n",
      "MPLBACKEND = module://ipykernel.pylab.backend_inline \t\n",
      "MDM_XSERVER_LOCATION = local \t\n",
      "GTK_MODULES = gail:atk-bridge \t\n",
      "XDG_DATA_DIRS = /usr/share/mate:/usr/local/share/:/usr/share/:/usr/share/mdm/ \t\n",
      "PWD = /media/tais/My_Book_1/MAUPP/Traitement/Ouagadougou/Segmentation_fullAOI_localapproach \t\n",
      "COLORTERM = mate-terminal \t\n",
      "PYTHONLIB = /usr/lib/python2.7 \t\n",
      "LS_COLORS = rs=0:di=01;34:ln=01;36:mh=00:pi=40;33:so=01;35:do=01;35:bd=40;33;01:cd=40;33;01:or=40;31;01:mi=00:su=37;41:sg=30;43:ca=30;41:tw=30;42:ow=34;42:st=37;44:ex=01;32:*.tar=01;31:*.tgz=01;31:*.arc=01;31:*.arj=01;31:*.taz=01;31:*.lha=01;31:*.lz4=01;31:*.lzh=01;31:*.lzma=01;31:*.tlz=01;31:*.txz=01;31:*.tzo=01;31:*.t7z=01;31:*.zip=01;31:*.z=01;31:*.Z=01;31:*.dz=01;31:*.gz=01;31:*.lrz=01;31:*.lz=01;31:*.lzo=01;31:*.xz=01;31:*.bz2=01;31:*.bz=01;31:*.tbz=01;31:*.tbz2=01;31:*.tz=01;31:*.deb=01;31:*.rpm=01;31:*.jar=01;31:*.war=01;31:*.ear=01;31:*.sar=01;31:*.rar=01;31:*.alz=01;31:*.ace=01;31:*.zoo=01;31:*.cpio=01;31:*.7z=01;31:*.rz=01;31:*.cab=01;31:*.jpg=01;35:*.jpeg=01;35:*.gif=01;35:*.bmp=01;35:*.pbm=01;35:*.pgm=01;35:*.ppm=01;35:*.tga=01;35:*.xbm=01;35:*.xpm=01;35:*.tif=01;35:*.tiff=01;35:*.png=01;35:*.svg=01;35:*.svgz=01;35:*.mng=01;35:*.pcx=01;35:*.mov=01;35:*.mpg=01;35:*.mpeg=01;35:*.m2v=01;35:*.mkv=01;35:*.webm=01;35:*.ogm=01;35:*.mp4=01;35:*.m4v=01;35:*.mp4v=01;35:*.vob=01;35:*.qt=01;35:*.nuv=01;35:*.wmv=01;35:*.asf=01;35:*.rm=01;35:*.rmvb=01;35:*.flc=01;35:*.avi=01;35:*.fli=01;35:*.flv=01;35:*.gl=01;35:*.dl=01;35:*.xcf=01;35:*.xwd=01;35:*.yuv=01;35:*.cgm=01;35:*.emf=01;35:*.ogv=01;35:*.ogx=01;35:*.aac=00;36:*.au=00;36:*.flac=00;36:*.m4a=00;36:*.mid=00;36:*.midi=00;36:*.mka=00;36:*.mp3=00;36:*.mpc=00;36:*.ogg=00;36:*.ra=00;36:*.wav=00;36:*.oga=00;36:*.opus=00;36:*.spx=00;36:*.xspf=00;36: \t\n",
      "PAGER = cat \t\n",
      "XDG_SEAT = seat0 \t\n"
     ]
    }
   ],
   "source": [
    "## Display the current defined environment variables\n",
    "for key in os.environ.keys():\n",
    "    print \"%s = %s \\t\" % (key,os.environ[key])"
   ]
  },
  {
   "cell_type": "markdown",
   "metadata": {},
   "source": [
    "**-_-_-_-_-_-_-_-_-_-_-_-_-_-_-_-_-_-_-_-_-_-_-_-_-_-_-_-_-_-_-_-_-_-_-_-_-_-_-_-_-_-_-_-_-_-_-_-_-_-_-_-_-_-_-_-_-_-_-_-_-**"
   ]
  },
  {
   "cell_type": "markdown",
   "metadata": {},
   "source": [
    "<center> <font size=5> <h1>User inputs</h1> </font> </center> "
   ]
  },
  {
   "cell_type": "code",
   "execution_count": 4,
   "metadata": {
    "collapsed": true
   },
   "outputs": [],
   "source": [
    "## Define a empty dictionnary for saving user inputs\n",
    "user={}"
   ]
  },
  {
   "cell_type": "markdown",
   "metadata": {},
   "source": [
    "Here after:\n",
    "- Enter the path to the directory you want to use as \"[GRASSDATA](https://grass.osgeo.org/programming7/loc_struct.png)\". \n",
    "- Enter the name of the location in which you want to work and its projection information in [EPSG code](http://spatialreference.org/ref/epsg/) format. Please note that the GRASSDATA folder and locations will be automatically created if not existing yet. If the location name already exists, the projection information will not be used.  \n",
    "- Enter the name you want for the mapsets which will be used later for Unsupervised Segmentation Parameter Optimization (USPO), Segmentation and Classification steps."
   ]
  },
  {
   "cell_type": "code",
   "execution_count": 5,
   "metadata": {
    "collapsed": true
   },
   "outputs": [],
   "source": [
    "## Enter the path to GRASSDATA folder\n",
    "user[\"gisdb\"] = \"/media/tais/My_Book_1/MAUPP/Traitement/Ouagadougou/Segmentation_fullAOI_localapproach/GRASSDATA\"\n",
    "\n",
    "## Enter the name of the location (existing or for a new one)\n",
    "user[\"location\"] = \"Ouaga_32630\"\n",
    "\n",
    "## Enter the EPSG code for this location \n",
    "user[\"locationepsg\"] = \"32630\"\n",
    "\n",
    "## Enter the name of the mapset to use for segmentation\n",
    "user[\"segmentation_mapsetname\"] = \"LOCAL_SEGMENT\"\n",
    "\n",
    "## Enter the name of the mapset to use for classification\n",
    "user[\"classificationA_mapsetname\"] = \"CLASSIF\""
   ]
  },
  {
   "cell_type": "markdown",
   "metadata": {},
   "source": [
    "**-_-_-_-_-_-_-_-_-_-_-_-_-_-_-_-_-_-_-_-_-_-_-_-_-_-_-_-_-_-_-_-_-_-_-_-_-_-_-_-_-_-_-_-_-_-_-_-_-_-_-_-_-_-_-_-_-_-_-_-_-**"
   ]
  },
  {
   "cell_type": "markdown",
   "metadata": {},
   "source": [
    "<center> <font size=5> <h1>Define GRASSDATA folder and create GRASS' location and mapsets</h1> </font> </center> "
   ]
  },
  {
   "cell_type": "markdown",
   "metadata": {},
   "source": [
    "Here after, the python script will check if GRASSDATA folder, locations and mapsets already exist. If not, they will be automatically created."
   ]
  },
  {
   "cell_type": "markdown",
   "metadata": {
    "collapsed": true
   },
   "source": [
    "**Import GRASS Python packages**"
   ]
  },
  {
   "cell_type": "code",
   "execution_count": 6,
   "metadata": {
    "collapsed": true
   },
   "outputs": [],
   "source": [
    "## Import libraries needed to launch GRASS GIS in the jupyter notebook\n",
    "import grass.script.setup as gsetup\n",
    "\n",
    "## Import libraries needed to call GRASS using Python\n",
    "import grass.script as grass"
   ]
  },
  {
   "cell_type": "markdown",
   "metadata": {
    "collapsed": true
   },
   "source": [
    "**Define GRASSDATA folder and create location and mapsets**"
   ]
  },
  {
   "cell_type": "code",
   "execution_count": 7,
   "metadata": {},
   "outputs": [
    {
     "name": "stdout",
     "output_type": "stream",
     "text": [
      "GRASSDATA folder already exist\n"
     ]
    }
   ],
   "source": [
    "## Automatic creation of GRASSDATA folder\n",
    "if os.path.exists(user[\"gisdb\"]):\n",
    "    print \"GRASSDATA folder already exist\" \n",
    "else: \n",
    "    os.makedirs(user[\"gisdb\"]) \n",
    "    print \"GRASSDATA folder created in \"+user[\"gisdb\"]"
   ]
  },
  {
   "cell_type": "code",
   "execution_count": 8,
   "metadata": {
    "scrolled": false
   },
   "outputs": [
    {
     "name": "stdout",
     "output_type": "stream",
     "text": [
      "Location Ouaga_32630 already exist\n"
     ]
    }
   ],
   "source": [
    "## Automatic creation of GRASS location is doesn't exist\n",
    "if os.path.exists(os.path.join(user[\"gisdb\"],user[\"location\"])):\n",
    "    print \"Location \"+user[\"location\"]+\" already exist\" \n",
    "else : \n",
    "    grass.core.create_location(user[\"gisdb\"], user[\"location\"], epsg=user[\"locationepsg\"], overwrite=False)\n",
    "    print \"Location \"+user[\"location\"]+\" created\""
   ]
  },
  {
   "cell_type": "code",
   "execution_count": 9,
   "metadata": {},
   "outputs": [
    {
     "name": "stdout",
     "output_type": "stream",
     "text": [
      "'CLASSIF' mapset already exist\n"
     ]
    }
   ],
   "source": [
    "### Automatic creation of GRASS GIS mapsets\n",
    "\n",
    "## Import library for file copying \n",
    "import shutil\n",
    "\n",
    "mapsetname=user[\"classificationA_mapsetname\"]\n",
    "if os.path.exists(os.path.join(user[\"gisdb\"],user[\"location\"],mapsetname)):\n",
    "    if not os.path.exists(os.path.join(user[\"gisdb\"],user[\"location\"],mapsetname,'WIND')):\n",
    "        print \"WARNING: '\"+mapsetname+\"' mapset already exist, but a 'WIND' file is missing. Please solve this issue.\"\n",
    "    else: print \"'\"+mapsetname+\"' mapset already exist\" \n",
    "else: \n",
    "    os.makedirs(os.path.join(user[\"gisdb\"],user[\"location\"],mapsetname))\n",
    "    shutil.copy(os.path.join(user[\"gisdb\"],user[\"location\"],'PERMANENT','WIND'),os.path.join(user[\"gisdb\"],user[\"location\"],mapsetname,'WIND'))\n",
    "    print \"'\"+mapsetname+\"' mapset created in location '\"+user[\"location\"]+\"'\""
   ]
  },
  {
   "cell_type": "code",
   "execution_count": 10,
   "metadata": {},
   "outputs": [
    {
     "name": "stdout",
     "output_type": "stream",
     "text": [
      "'LOCAL_SEGMENT' mapset already exist\n"
     ]
    }
   ],
   "source": [
    "### Automatic creation of GRASS GIS mapsets\n",
    "\n",
    "## Import library for file copying \n",
    "import shutil\n",
    "\n",
    "mapsetname=user[\"segmentation_mapsetname\"]\n",
    "if os.path.exists(os.path.join(user[\"gisdb\"],user[\"location\"],mapsetname)):\n",
    "    if not os.path.exists(os.path.join(user[\"gisdb\"],user[\"location\"],mapsetname,'WIND')):\n",
    "        print \"WARNING: '\"+mapsetname+\"' mapset already exist, but a 'WIND' file is missing. Please solve this issue.\"\n",
    "    else: print \"'\"+mapsetname+\"' mapset already exist\" \n",
    "else: \n",
    "    os.makedirs(os.path.join(user[\"gisdb\"],user[\"location\"],mapsetname))\n",
    "    shutil.copy(os.path.join(user[\"gisdb\"],user[\"location\"],'PERMANENT','WIND'),os.path.join(user[\"gisdb\"],user[\"location\"],mapsetname,'WIND'))\n",
    "    print \"'\"+mapsetname+\"' mapset created in location '\"+user[\"location\"]+\"'\""
   ]
  },
  {
   "cell_type": "markdown",
   "metadata": {},
   "source": [
    "**-_-_-_-_-_-_-_-_-_-_-_-_-_-_-_-_-_-_-_-_-_-_-_-_-_-_-_-_-_-_-_-_-_-_-_-_-_-_-_-_-_-_-_-_-_-_-_-_-_-_-_-_-_-_-_-_-_-_-_-_-**"
   ]
  },
  {
   "cell_type": "markdown",
   "metadata": {},
   "source": [
    "<center> <font size=5> <h1>Define functions</h1> </font> </center> "
   ]
  },
  {
   "cell_type": "markdown",
   "metadata": {},
   "source": [
    "This section of the notebook is dedicated to defining functions which will then be called later in the script. If you want to create your own functions, define them here."
   ]
  },
  {
   "cell_type": "markdown",
   "metadata": {},
   "source": [
    "### Function for computing processing time"
   ]
  },
  {
   "cell_type": "markdown",
   "metadata": {},
   "source": [
    "The \"print_processing_time\" is used to calculate and display the processing time for various stages of the processing chain. At the beginning of each major step, the current time is stored in a new variable, using [time.time() function](https://docs.python.org/2/library/time.html). At the end of the stage in question, the \"print_processing_time\" function is called and takes as argument the name of this new variable containing the recorded time at the beginning of the stage, and an output message."
   ]
  },
  {
   "cell_type": "code",
   "execution_count": 11,
   "metadata": {
    "collapsed": true
   },
   "outputs": [],
   "source": [
    "## Import library for managing time in python\n",
    "import time  \n",
    "\n",
    "## Function \"print_processing_time()\" compute processing time and printing it.\n",
    "# The argument \"begintime\" wait for a variable containing the begintime (result of time.time()) of the process for which to compute processing time.\n",
    "# The argument \"printmessage\" wait for a string format with information about the process. \n",
    "def print_processing_time(begintime, printmessage):    \n",
    "    endtime=time.time()           \n",
    "    processtime=endtime-begintime\n",
    "    remainingtime=processtime\n",
    "\n",
    "    days=int((remainingtime)/86400)\n",
    "    remainingtime-=(days*86400)\n",
    "    hours=int((remainingtime)/3600)\n",
    "    remainingtime-=(hours*3600)\n",
    "    minutes=int((remainingtime)/60)\n",
    "    remainingtime-=(minutes*60)\n",
    "    seconds=round((remainingtime)%60,1)\n",
    "\n",
    "    if processtime<60:\n",
    "        finalprintmessage=str(printmessage)+str(seconds)+\" seconds\"\n",
    "    elif processtime<3600:\n",
    "        finalprintmessage=str(printmessage)+str(minutes)+\" minutes and \"+str(seconds)+\" seconds\"\n",
    "    elif processtime<86400:\n",
    "        finalprintmessage=str(printmessage)+str(hours)+\" hours and \"+str(minutes)+\" minutes and \"+str(seconds)+\" seconds\"\n",
    "    elif processtime>=86400:\n",
    "        finalprintmessage=str(printmessage)+str(days)+\" days, \"+str(hours)+\" hours and \"+str(minutes)+\" minutes and \"+str(seconds)+\" seconds\"\n",
    "    \n",
    "    return finalprintmessage"
   ]
  },
  {
   "cell_type": "markdown",
   "metadata": {
    "collapsed": true
   },
   "source": [
    "### Function for Postgres database vaccum"
   ]
  },
  {
   "cell_type": "code",
   "execution_count": 12,
   "metadata": {
    "collapsed": true
   },
   "outputs": [],
   "source": [
    "# Do a VACUUM on the current Postgresql database\n",
    "def vacuum(db):\n",
    "    old_isolation_level = db.isolation_level\n",
    "    db.set_isolation_level(0)\n",
    "    query = \"VACUUM\"\n",
    "    cur.execute(query)\n",
    "    db.set_isolation_level(old_isolation_level)"
   ]
  },
  {
   "cell_type": "markdown",
   "metadata": {},
   "source": [
    "**-_-_-_-_-_-_-_-_-_-_-_-_-_-_-_-_-_-_-_-_-_-_-_-_-_-_-_-_-_-_-_-_-_-_-_-_-_-_-_-_-_-_-_-_-_-_-_-_-_-_-_-_-_-_-_-_-_-_-_-_-**"
   ]
  },
  {
   "cell_type": "code",
   "execution_count": 13,
   "metadata": {
    "collapsed": true
   },
   "outputs": [],
   "source": [
    "## Saving current time for processing time management\n",
    "begintime_full=time.time()"
   ]
  },
  {
   "cell_type": "markdown",
   "metadata": {},
   "source": [
    "**-_-_-_-_-_-_-_-_-_-_-_-_-_-_-_-_-_-_-_-_-_-_-_-_-_-_-_-_-_-_-_-_-_-_-_-_-_-_-_-_-_-_-_-_-_-_-_-_-_-_-_-_-_-_-_-_-_-_-_-_-**"
   ]
  },
  {
   "cell_type": "markdown",
   "metadata": {},
   "source": [
    "# Set parameter for Postgresql database connection"
   ]
  },
  {
   "cell_type": "code",
   "execution_count": 14,
   "metadata": {
    "collapsed": true
   },
   "outputs": [],
   "source": [
    "# User for postgresql connexion\n",
    "dbuser=\"tais\"\n",
    "# Password of user\n",
    "dbpassword=\"tais\"\n",
    "# Host of database\n",
    "host=\"localhost\"\n",
    "# Name of the new database\n",
    "dbname=\"ouaga_fullaoi_localsegment\"\n",
    "# Set name of schema for objects statistics\n",
    "stat_schema=\"statistics\"\n",
    "# Set name of schema for samples\n",
    "sample_schema=\"samples\"\n",
    "# Set name of schema for classification optical only\n",
    "classifA_schema=\"classif_A\"\n",
    "# Set name of schema for classification optical and nDSM\n",
    "classifB_schema=\"classif_B\"\n",
    "# Set name of schema for classification SAR only\n",
    "classifC_schema=\"classif_C\"\n",
    "# Set name of schema for classification SAR and optical\n",
    "classifD_schema=\"classif_D\""
   ]
  },
  {
   "cell_type": "code",
   "execution_count": 15,
   "metadata": {
    "collapsed": true
   },
   "outputs": [],
   "source": [
    "# Set name of table with statistics of segmentobject_stats_table=\"object_stats_sar\"s - FOR OPTICAL\n",
    "object_stats_optical=\"object_stats_optical\"\n",
    "# Set name of table with statistics of segmentobject_stats_table=\"object_stats_sar\"s - FOR SAR\n",
    "object_stats_sar=\"object_stats_sar\"\n",
    "# Set name of table with all the samples\n",
    "samples_labels=\"sample_labels\"\n",
    "# Set name of table with samples without outliers\n",
    "samples_labels_ok=\"sample_labels_ok\"\n",
    "# Set name of table with extension of the AOI where SAR and optical exists\n",
    "sar_aoi=\"sar_aoi\"\n",
    "# Set name of table with samples without outliers in SAR AOI\n",
    "sample_sar=\"sample_sar\"\n",
    "# Set name of table with samples without outliers in SAR AOI - Test set\n",
    "sample_test=\"sample_test\"\n",
    "# Set name of table with samples without outliers in SAR AOI - Training set\n",
    "sample_training=\"sample_training\"\n",
    "# Set name of table with results of classification\n",
    "classif=\"classif\"\n",
    "# Set name of table with results of classification and ground truth\n",
    "groundtruth_classif=\"groundtruth_classif\""
   ]
  },
  {
   "cell_type": "markdown",
   "metadata": {},
   "source": [
    "<center> <font size=5> <h1>Select samples in segmentation layer</h1> </font>  </center> "
   ]
  },
  {
   "cell_type": "markdown",
   "metadata": {
    "collapsed": true
   },
   "source": [
    "**Launch GRASS GIS working session**"
   ]
  },
  {
   "cell_type": "code",
   "execution_count": 16,
   "metadata": {},
   "outputs": [
    {
     "name": "stdout",
     "output_type": "stream",
     "text": [
      "'classif_B' mapset already exist\n"
     ]
    }
   ],
   "source": [
    "### Automatic creation of GRASS GIS mapsets\n",
    "\n",
    "## Import library for file copying \n",
    "import shutil\n",
    "\n",
    "## Set the name of the mapset in which to work\n",
    "mapsetname=classifB_schema\n",
    "\n",
    "if os.path.exists(os.path.join(user[\"gisdb\"],user[\"location\"],mapsetname)):\n",
    "    if not os.path.exists(os.path.join(user[\"gisdb\"],user[\"location\"],mapsetname,'WIND')):\n",
    "        print \"WARNING: '\"+mapsetname+\"' mapset already exist, but a 'WIND' file is missing. Please solve this issue.\"\n",
    "    else: print \"'\"+mapsetname+\"' mapset already exist\" \n",
    "else: \n",
    "    os.makedirs(os.path.join(user[\"gisdb\"],user[\"location\"],mapsetname))\n",
    "    shutil.copy(os.path.join(user[\"gisdb\"],user[\"location\"],'PERMANENT','WIND'),os.path.join(user[\"gisdb\"],user[\"location\"],mapsetname,'WIND'))\n",
    "    print \"'\"+mapsetname+\"' mapset created in location '\"+user[\"location\"]+\"'\""
   ]
  },
  {
   "cell_type": "code",
   "execution_count": 17,
   "metadata": {},
   "outputs": [
    {
     "name": "stdout",
     "output_type": "stream",
     "text": [
      "You are now working in mapset 'classif_B'\n"
     ]
    }
   ],
   "source": [
    "## Launch GRASS GIS working session in the mapset\n",
    "if os.path.exists(os.path.join(user[\"gisdb\"],user[\"location\"],mapsetname)):\n",
    "    gsetup.init(os.environ['GISBASE'], user[\"gisdb\"], user[\"location\"], mapsetname)\n",
    "    print \"You are now working in mapset '\"+mapsetname+\"'\" \n",
    "else: \n",
    "    print \"'\"+mapsetname+\"' mapset doesn't exists in \"+user[\"gisdb\"]"
   ]
  },
  {
   "cell_type": "markdown",
   "metadata": {
    "collapsed": true
   },
   "source": [
    "### Create new schema"
   ]
  },
  {
   "cell_type": "code",
   "execution_count": 20,
   "metadata": {},
   "outputs": [
    {
     "name": "stdout",
     "output_type": "stream",
     "text": [
      "Exception occured : ERREUR:  le schéma « classif_b » existe déjà\n",
      "\n"
     ]
    }
   ],
   "source": [
    "from psycopg2.extensions import ISOLATION_LEVEL_AUTOCOMMIT\n",
    "\n",
    "# Connect to postgres database\n",
    "db=None\n",
    "db=pg.connect(dbname=dbname, user='tais', password='tais', host='localhost')\n",
    "\n",
    "# Allow to create a new database\n",
    "db.set_isolation_level(ISOLATION_LEVEL_AUTOCOMMIT)\n",
    "\n",
    "# Execute the CREATE DATABASE query\n",
    "cur=db.cursor()\n",
    "#cur.execute('DROP SCHEMA IF EXISTS '+classifB_schema+' CASCADE') #Comment this to avoid deleting existing DB\n",
    "try:\n",
    "    cur.execute('CREATE SCHEMA '+classifB_schema)\n",
    "except Exception as e:\n",
    "    print (\"Exception occured : \"+str(e))\n",
    "cur.close()\n",
    "db.close()"
   ]
  },
  {
   "cell_type": "markdown",
   "metadata": {},
   "source": [
    "## Define the folder where to save the results and create it if necessary"
   ]
  },
  {
   "cell_type": "markdown",
   "metadata": {},
   "source": [
    "In the next cell, please adapt the path to the directory where you want to save the .csv output of i.segment.uspo."
   ]
  },
  {
   "cell_type": "code",
   "execution_count": 18,
   "metadata": {
    "collapsed": true
   },
   "outputs": [],
   "source": [
    "general_path=\"/media/tais/My_Book_1/MAUPP/Traitement/Ouagadougou/Segmentation_fullAOI_localapproach/Results/CLASSIF\"\n",
    "resultfolder=os.path.join(general_path, classifB_schema)\n",
    "## Create the folder if does not exists\n",
    "if not os.path.exists(resultfolder):\n",
    "    os.makedirs(resultfolder)\n",
    "    print \"Folder '\"+resultfolder+\"' created\""
   ]
  },
  {
   "cell_type": "code",
   "execution_count": 19,
   "metadata": {
    "collapsed": true
   },
   "outputs": [],
   "source": [
    "outputfolder=os.path.join(resultfolder, \"classification\")\n",
    "## Create the folder if does not exists\n",
    "if not os.path.exists(outputfolder):\n",
    "    os.makedirs(outputfolder)\n",
    "    print \"Folder '\"+outputfolder+\"' created\""
   ]
  },
  {
   "cell_type": "markdown",
   "metadata": {},
   "source": [
    "## Create a README.txt file informing about the classification methodology"
   ]
  },
  {
   "cell_type": "code",
   "execution_count": 23,
   "metadata": {
    "collapsed": true
   },
   "outputs": [],
   "source": [
    "## Set-up a message\n",
    "message=\"\"\n",
    "message+=classifB_schema+\" : Classification using optical and nDSM\"\n",
    "## Write it in the .txt file\n",
    "f=open(os.path.join(outputfolder,\"readme.txt\"),'w')\n",
    "f.write(message)\n",
    "f.close()"
   ]
  },
  {
   "cell_type": "markdown",
   "metadata": {},
   "source": [
    "## Display test and training samples"
   ]
  },
  {
   "cell_type": "code",
   "execution_count": 24,
   "metadata": {
    "collapsed": true
   },
   "outputs": [],
   "source": [
    "# Connect to an existing database\n",
    "db=pg.connect(database=dbname, user=dbuser, password=dbpassword, host=host)\n",
    "# Open a cursor to perform database operations\n",
    "cur=db.cursor()"
   ]
  },
  {
   "cell_type": "code",
   "execution_count": 25,
   "metadata": {
    "scrolled": true
   },
   "outputs": [
    {
     "data": {
      "text/html": [
       "<div>\n",
       "<table border=\"1\" class=\"dataframe\">\n",
       "  <thead>\n",
       "    <tr style=\"text-align: right;\">\n",
       "      <th></th>\n",
       "      <th>class</th>\n",
       "      <th>class_num</th>\n",
       "      <th>count</th>\n",
       "    </tr>\n",
       "  </thead>\n",
       "  <tbody>\n",
       "    <tr>\n",
       "      <th>0</th>\n",
       "      <td>Buildings</td>\n",
       "      <td>11</td>\n",
       "      <td>40</td>\n",
       "    </tr>\n",
       "    <tr>\n",
       "      <th>1</th>\n",
       "      <td>Swimming pools</td>\n",
       "      <td>13</td>\n",
       "      <td>40</td>\n",
       "    </tr>\n",
       "    <tr>\n",
       "      <th>2</th>\n",
       "      <td>Asphalt surfaces</td>\n",
       "      <td>14</td>\n",
       "      <td>40</td>\n",
       "    </tr>\n",
       "    <tr>\n",
       "      <th>3</th>\n",
       "      <td>Brown/red bare soil</td>\n",
       "      <td>21</td>\n",
       "      <td>40</td>\n",
       "    </tr>\n",
       "    <tr>\n",
       "      <th>4</th>\n",
       "      <td>White/grey bare soil</td>\n",
       "      <td>22</td>\n",
       "      <td>40</td>\n",
       "    </tr>\n",
       "    <tr>\n",
       "      <th>5</th>\n",
       "      <td>Trees</td>\n",
       "      <td>31</td>\n",
       "      <td>40</td>\n",
       "    </tr>\n",
       "    <tr>\n",
       "      <th>6</th>\n",
       "      <td>Mixed bare soil/vegetation</td>\n",
       "      <td>32</td>\n",
       "      <td>40</td>\n",
       "    </tr>\n",
       "    <tr>\n",
       "      <th>7</th>\n",
       "      <td>Dry vegetation</td>\n",
       "      <td>33</td>\n",
       "      <td>40</td>\n",
       "    </tr>\n",
       "    <tr>\n",
       "      <th>8</th>\n",
       "      <td>Other vegetation</td>\n",
       "      <td>34</td>\n",
       "      <td>40</td>\n",
       "    </tr>\n",
       "    <tr>\n",
       "      <th>9</th>\n",
       "      <td>Inland waters</td>\n",
       "      <td>41</td>\n",
       "      <td>40</td>\n",
       "    </tr>\n",
       "  </tbody>\n",
       "</table>\n",
       "</div>"
      ],
      "text/plain": [
       "                        class class_num  count\n",
       "0                   Buildings        11     40\n",
       "1              Swimming pools        13     40\n",
       "2            Asphalt surfaces        14     40\n",
       "3         Brown/red bare soil        21     40\n",
       "4        White/grey bare soil        22     40\n",
       "5                       Trees        31     40\n",
       "6  Mixed bare soil/vegetation        32     40\n",
       "7              Dry vegetation        33     40\n",
       "8            Other vegetation        34     40\n",
       "9               Inland waters        41     40"
      ]
     },
     "execution_count": 25,
     "metadata": {},
     "output_type": "execute_result"
    }
   ],
   "source": [
    "# Query to find the number of row in the test samples\n",
    "query=\"SELECT class, min(class_num) as class_num, count(*) FROM \"+sample_schema+\".\"+sample_test+\" \\\n",
    "GROUP BY class \\\n",
    "ORDER BY max(class_num) ASC\"\n",
    "# Execute query through panda\n",
    "df_countperclass=pd.read_sql(query, db)\n",
    "# Show dataframe\n",
    "df_countperclass.head(5000)"
   ]
  },
  {
   "cell_type": "code",
   "execution_count": 26,
   "metadata": {},
   "outputs": [
    {
     "name": "stdout",
     "output_type": "stream",
     "text": [
      "Test samples counts 400 points.\n"
     ]
    }
   ],
   "source": [
    "# Print the total number in sample \n",
    "print \"Test samples counts \"+str(sum(df_countperclass['count']))+\" points.\""
   ]
  },
  {
   "cell_type": "code",
   "execution_count": 27,
   "metadata": {},
   "outputs": [
    {
     "data": {
      "text/html": [
       "<div>\n",
       "<table border=\"1\" class=\"dataframe\">\n",
       "  <thead>\n",
       "    <tr style=\"text-align: right;\">\n",
       "      <th></th>\n",
       "      <th>class</th>\n",
       "      <th>class_num</th>\n",
       "      <th>count</th>\n",
       "    </tr>\n",
       "  </thead>\n",
       "  <tbody>\n",
       "    <tr>\n",
       "      <th>0</th>\n",
       "      <td>Buildings</td>\n",
       "      <td>11</td>\n",
       "      <td>362</td>\n",
       "    </tr>\n",
       "    <tr>\n",
       "      <th>1</th>\n",
       "      <td>Swimming pools</td>\n",
       "      <td>13</td>\n",
       "      <td>127</td>\n",
       "    </tr>\n",
       "    <tr>\n",
       "      <th>2</th>\n",
       "      <td>Asphalt surfaces</td>\n",
       "      <td>14</td>\n",
       "      <td>99</td>\n",
       "    </tr>\n",
       "    <tr>\n",
       "      <th>3</th>\n",
       "      <td>Brown/red bare soil</td>\n",
       "      <td>21</td>\n",
       "      <td>156</td>\n",
       "    </tr>\n",
       "    <tr>\n",
       "      <th>4</th>\n",
       "      <td>White/grey bare soil</td>\n",
       "      <td>22</td>\n",
       "      <td>122</td>\n",
       "    </tr>\n",
       "    <tr>\n",
       "      <th>5</th>\n",
       "      <td>Trees</td>\n",
       "      <td>31</td>\n",
       "      <td>146</td>\n",
       "    </tr>\n",
       "    <tr>\n",
       "      <th>6</th>\n",
       "      <td>Mixed bare soil/vegetation</td>\n",
       "      <td>32</td>\n",
       "      <td>153</td>\n",
       "    </tr>\n",
       "    <tr>\n",
       "      <th>7</th>\n",
       "      <td>Dry vegetation</td>\n",
       "      <td>33</td>\n",
       "      <td>131</td>\n",
       "    </tr>\n",
       "    <tr>\n",
       "      <th>8</th>\n",
       "      <td>Other vegetation</td>\n",
       "      <td>34</td>\n",
       "      <td>260</td>\n",
       "    </tr>\n",
       "    <tr>\n",
       "      <th>9</th>\n",
       "      <td>Inland waters</td>\n",
       "      <td>41</td>\n",
       "      <td>148</td>\n",
       "    </tr>\n",
       "  </tbody>\n",
       "</table>\n",
       "</div>"
      ],
      "text/plain": [
       "                        class class_num  count\n",
       "0                   Buildings        11    362\n",
       "1              Swimming pools        13    127\n",
       "2            Asphalt surfaces        14     99\n",
       "3         Brown/red bare soil        21    156\n",
       "4        White/grey bare soil        22    122\n",
       "5                       Trees        31    146\n",
       "6  Mixed bare soil/vegetation        32    153\n",
       "7              Dry vegetation        33    131\n",
       "8            Other vegetation        34    260\n",
       "9               Inland waters        41    148"
      ]
     },
     "execution_count": 27,
     "metadata": {},
     "output_type": "execute_result"
    }
   ],
   "source": [
    "# Query to find the number of row in the sample table\n",
    "query=\"SELECT class, min(class_num) as class_num, count(*) FROM \"+sample_schema+\".\"+sample_training+\" \\\n",
    "GROUP BY class \\\n",
    "ORDER BY max(class_num) ASC\"\n",
    "# Execute query through panda\n",
    "df_countperclass=pd.read_sql(query, db)\n",
    "# Show dataframe\n",
    "df_countperclass.head(5000)"
   ]
  },
  {
   "cell_type": "code",
   "execution_count": 28,
   "metadata": {},
   "outputs": [
    {
     "name": "stdout",
     "output_type": "stream",
     "text": [
      "Training samples counts 1704 points.\n"
     ]
    }
   ],
   "source": [
    "# Print the total number in sample \n",
    "print \"Training samples counts \"+str(sum(df_countperclass['count']))+\" points.\""
   ]
  },
  {
   "cell_type": "markdown",
   "metadata": {},
   "source": [
    "## Create csv with statistics for training"
   ]
  },
  {
   "cell_type": "code",
   "execution_count": 29,
   "metadata": {
    "collapsed": true
   },
   "outputs": [],
   "source": [
    "# Drop table if exists:\n",
    "cur.execute(\"DROP TABLE IF EXISTS \"+classifB_schema+\".\"+sample_training)\n",
    "# Make the changes to the database persistent\n",
    "db.commit()"
   ]
  },
  {
   "cell_type": "code",
   "execution_count": 30,
   "metadata": {
    "collapsed": true
   },
   "outputs": [],
   "source": [
    "# Create table with \n",
    "query=\"CREATE TABLE \"+classifB_schema+\".\"+sample_training+\" AS(\\\n",
    "SELECT a.seg_id, a.class_num, b.* FROM \"+sample_schema+\".\"+sample_training+\" AS a \\\n",
    "INNER JOIN \"+stat_schema+\".\"+object_stats_optical+\" AS b \\\n",
    "ON a.seg_id=b.cat)\"\n",
    "# Execute the query \n",
    "cur.execute(query)\n",
    "# Make the changes to the database persistent\n",
    "db.commit()"
   ]
  },
  {
   "cell_type": "code",
   "execution_count": 31,
   "metadata": {
    "collapsed": true
   },
   "outputs": [],
   "source": [
    "# Drop some non wanted columns\n",
    "query=\"ALTER TABLE \"+classifB_schema+\".\"+sample_training+\" DROP COLUMN cat\"\n",
    "# Execute the query \n",
    "cur.execute(query)\n",
    "# Make the changes to the database persistent\n",
    "db.commit()"
   ]
  },
  {
   "cell_type": "code",
   "execution_count": 32,
   "metadata": {},
   "outputs": [
    {
     "data": {
      "text/html": [
       "<div>\n",
       "<table border=\"1\" class=\"dataframe\">\n",
       "  <thead>\n",
       "    <tr style=\"text-align: right;\">\n",
       "      <th></th>\n",
       "      <th>seg_id</th>\n",
       "      <th>class_num</th>\n",
       "      <th>area</th>\n",
       "      <th>perimeter</th>\n",
       "      <th>compact_circle</th>\n",
       "      <th>compact_square</th>\n",
       "      <th>fd</th>\n",
       "      <th>opt_blue_min</th>\n",
       "      <th>opt_blue_max</th>\n",
       "      <th>opt_blue_range</th>\n",
       "      <th>...</th>\n",
       "      <th>ndsm_perc_90</th>\n",
       "      <th>ndvi_min</th>\n",
       "      <th>ndvi_max</th>\n",
       "      <th>ndvi_range</th>\n",
       "      <th>ndvi_mean</th>\n",
       "      <th>ndvi_stddev</th>\n",
       "      <th>ndvi_median</th>\n",
       "      <th>ndvi_first_quart</th>\n",
       "      <th>ndvi_third_quart</th>\n",
       "      <th>ndvi_perc_90</th>\n",
       "    </tr>\n",
       "  </thead>\n",
       "  <tbody>\n",
       "    <tr>\n",
       "      <th>0</th>\n",
       "      <td>3627475</td>\n",
       "      <td>11</td>\n",
       "      <td>81</td>\n",
       "      <td>52</td>\n",
       "      <td>1.629881</td>\n",
       "      <td>0.692308</td>\n",
       "      <td>1.798283</td>\n",
       "      <td>340</td>\n",
       "      <td>517</td>\n",
       "      <td>177</td>\n",
       "      <td>...</td>\n",
       "      <td>0.921844</td>\n",
       "      <td>-0.024700</td>\n",
       "      <td>0.109208</td>\n",
       "      <td>0.133908</td>\n",
       "      <td>0.026219</td>\n",
       "      <td>0.032277</td>\n",
       "      <td>0.020000</td>\n",
       "      <td>0.000786</td>\n",
       "      <td>0.048626</td>\n",
       "      <td>0.074045</td>\n",
       "    </tr>\n",
       "    <tr>\n",
       "      <th>1</th>\n",
       "      <td>4292478</td>\n",
       "      <td>11</td>\n",
       "      <td>32</td>\n",
       "      <td>24</td>\n",
       "      <td>1.196827</td>\n",
       "      <td>0.942809</td>\n",
       "      <td>1.833968</td>\n",
       "      <td>358</td>\n",
       "      <td>417</td>\n",
       "      <td>59</td>\n",
       "      <td>...</td>\n",
       "      <td>3.671480</td>\n",
       "      <td>0.003589</td>\n",
       "      <td>0.097931</td>\n",
       "      <td>0.094342</td>\n",
       "      <td>0.045771</td>\n",
       "      <td>0.021169</td>\n",
       "      <td>0.044261</td>\n",
       "      <td>0.031821</td>\n",
       "      <td>0.057249</td>\n",
       "      <td>0.069552</td>\n",
       "    </tr>\n",
       "    <tr>\n",
       "      <th>2</th>\n",
       "      <td>2416875</td>\n",
       "      <td>11</td>\n",
       "      <td>2353</td>\n",
       "      <td>382</td>\n",
       "      <td>2.221506</td>\n",
       "      <td>0.507934</td>\n",
       "      <td>1.531645</td>\n",
       "      <td>277</td>\n",
       "      <td>608</td>\n",
       "      <td>331</td>\n",
       "      <td>...</td>\n",
       "      <td>8.749240</td>\n",
       "      <td>0.037727</td>\n",
       "      <td>0.401734</td>\n",
       "      <td>0.364007</td>\n",
       "      <td>0.130912</td>\n",
       "      <td>0.022166</td>\n",
       "      <td>0.129074</td>\n",
       "      <td>0.123288</td>\n",
       "      <td>0.134809</td>\n",
       "      <td>0.145917</td>\n",
       "    </tr>\n",
       "    <tr>\n",
       "      <th>3</th>\n",
       "      <td>5387846</td>\n",
       "      <td>11</td>\n",
       "      <td>568</td>\n",
       "      <td>252</td>\n",
       "      <td>2.982782</td>\n",
       "      <td>0.378298</td>\n",
       "      <td>1.743715</td>\n",
       "      <td>227</td>\n",
       "      <td>436</td>\n",
       "      <td>209</td>\n",
       "      <td>...</td>\n",
       "      <td>3.649410</td>\n",
       "      <td>-0.063592</td>\n",
       "      <td>0.237226</td>\n",
       "      <td>0.300818</td>\n",
       "      <td>0.042486</td>\n",
       "      <td>0.044135</td>\n",
       "      <td>0.028361</td>\n",
       "      <td>0.010526</td>\n",
       "      <td>0.064250</td>\n",
       "      <td>0.100787</td>\n",
       "    </tr>\n",
       "    <tr>\n",
       "      <th>4</th>\n",
       "      <td>13223032</td>\n",
       "      <td>11</td>\n",
       "      <td>487</td>\n",
       "      <td>128</td>\n",
       "      <td>1.636216</td>\n",
       "      <td>0.689627</td>\n",
       "      <td>1.568139</td>\n",
       "      <td>264</td>\n",
       "      <td>447</td>\n",
       "      <td>183</td>\n",
       "      <td>...</td>\n",
       "      <td>4.702580</td>\n",
       "      <td>0.000762</td>\n",
       "      <td>0.273784</td>\n",
       "      <td>0.273022</td>\n",
       "      <td>0.049758</td>\n",
       "      <td>0.027252</td>\n",
       "      <td>0.042749</td>\n",
       "      <td>0.036254</td>\n",
       "      <td>0.053922</td>\n",
       "      <td>0.076680</td>\n",
       "    </tr>\n",
       "    <tr>\n",
       "      <th>5</th>\n",
       "      <td>13107233</td>\n",
       "      <td>11</td>\n",
       "      <td>273</td>\n",
       "      <td>84</td>\n",
       "      <td>1.434145</td>\n",
       "      <td>0.786796</td>\n",
       "      <td>1.579762</td>\n",
       "      <td>265</td>\n",
       "      <td>350</td>\n",
       "      <td>85</td>\n",
       "      <td>...</td>\n",
       "      <td>5.147610</td>\n",
       "      <td>0.053902</td>\n",
       "      <td>0.184481</td>\n",
       "      <td>0.130580</td>\n",
       "      <td>0.143139</td>\n",
       "      <td>0.016689</td>\n",
       "      <td>0.144960</td>\n",
       "      <td>0.138032</td>\n",
       "      <td>0.150470</td>\n",
       "      <td>0.158488</td>\n",
       "    </tr>\n",
       "    <tr>\n",
       "      <th>6</th>\n",
       "      <td>6309784</td>\n",
       "      <td>11</td>\n",
       "      <td>2386</td>\n",
       "      <td>402</td>\n",
       "      <td>2.321592</td>\n",
       "      <td>0.486037</td>\n",
       "      <td>1.542025</td>\n",
       "      <td>332</td>\n",
       "      <td>493</td>\n",
       "      <td>161</td>\n",
       "      <td>...</td>\n",
       "      <td>10.873700</td>\n",
       "      <td>-0.122765</td>\n",
       "      <td>0.091023</td>\n",
       "      <td>0.213788</td>\n",
       "      <td>0.026692</td>\n",
       "      <td>0.015509</td>\n",
       "      <td>0.023868</td>\n",
       "      <td>0.019007</td>\n",
       "      <td>0.032141</td>\n",
       "      <td>0.049031</td>\n",
       "    </tr>\n",
       "    <tr>\n",
       "      <th>7</th>\n",
       "      <td>5555509</td>\n",
       "      <td>11</td>\n",
       "      <td>88</td>\n",
       "      <td>50</td>\n",
       "      <td>1.503570</td>\n",
       "      <td>0.750467</td>\n",
       "      <td>1.747473</td>\n",
       "      <td>330</td>\n",
       "      <td>418</td>\n",
       "      <td>88</td>\n",
       "      <td>...</td>\n",
       "      <td>0.032349</td>\n",
       "      <td>-0.036624</td>\n",
       "      <td>0.131860</td>\n",
       "      <td>0.168485</td>\n",
       "      <td>0.026967</td>\n",
       "      <td>0.039175</td>\n",
       "      <td>0.023313</td>\n",
       "      <td>-0.002320</td>\n",
       "      <td>0.046407</td>\n",
       "      <td>0.086121</td>\n",
       "    </tr>\n",
       "    <tr>\n",
       "      <th>8</th>\n",
       "      <td>2819489</td>\n",
       "      <td>11</td>\n",
       "      <td>637</td>\n",
       "      <td>134</td>\n",
       "      <td>1.497718</td>\n",
       "      <td>0.753399</td>\n",
       "      <td>1.517117</td>\n",
       "      <td>369</td>\n",
       "      <td>764</td>\n",
       "      <td>395</td>\n",
       "      <td>...</td>\n",
       "      <td>5.507170</td>\n",
       "      <td>-0.078014</td>\n",
       "      <td>0.129242</td>\n",
       "      <td>0.207256</td>\n",
       "      <td>0.006912</td>\n",
       "      <td>0.017037</td>\n",
       "      <td>0.008712</td>\n",
       "      <td>0.002962</td>\n",
       "      <td>0.012488</td>\n",
       "      <td>0.016828</td>\n",
       "    </tr>\n",
       "    <tr>\n",
       "      <th>9</th>\n",
       "      <td>10302617</td>\n",
       "      <td>11</td>\n",
       "      <td>330</td>\n",
       "      <td>124</td>\n",
       "      <td>1.925572</td>\n",
       "      <td>0.585997</td>\n",
       "      <td>1.662425</td>\n",
       "      <td>295</td>\n",
       "      <td>405</td>\n",
       "      <td>110</td>\n",
       "      <td>...</td>\n",
       "      <td>3.602870</td>\n",
       "      <td>-0.021144</td>\n",
       "      <td>0.312586</td>\n",
       "      <td>0.333731</td>\n",
       "      <td>0.033792</td>\n",
       "      <td>0.038444</td>\n",
       "      <td>0.019218</td>\n",
       "      <td>0.011509</td>\n",
       "      <td>0.046557</td>\n",
       "      <td>0.084088</td>\n",
       "    </tr>\n",
       "  </tbody>\n",
       "</table>\n",
       "<p>10 rows × 61 columns</p>\n",
       "</div>"
      ],
      "text/plain": [
       "     seg_id class_num  area  perimeter  compact_circle  compact_square  \\\n",
       "0   3627475        11    81         52        1.629881        0.692308   \n",
       "1   4292478        11    32         24        1.196827        0.942809   \n",
       "2   2416875        11  2353        382        2.221506        0.507934   \n",
       "3   5387846        11   568        252        2.982782        0.378298   \n",
       "4  13223032        11   487        128        1.636216        0.689627   \n",
       "5  13107233        11   273         84        1.434145        0.786796   \n",
       "6   6309784        11  2386        402        2.321592        0.486037   \n",
       "7   5555509        11    88         50        1.503570        0.750467   \n",
       "8   2819489        11   637        134        1.497718        0.753399   \n",
       "9  10302617        11   330        124        1.925572        0.585997   \n",
       "\n",
       "         fd  opt_blue_min  opt_blue_max  opt_blue_range      ...       \\\n",
       "0  1.798283           340           517             177      ...        \n",
       "1  1.833968           358           417              59      ...        \n",
       "2  1.531645           277           608             331      ...        \n",
       "3  1.743715           227           436             209      ...        \n",
       "4  1.568139           264           447             183      ...        \n",
       "5  1.579762           265           350              85      ...        \n",
       "6  1.542025           332           493             161      ...        \n",
       "7  1.747473           330           418              88      ...        \n",
       "8  1.517117           369           764             395      ...        \n",
       "9  1.662425           295           405             110      ...        \n",
       "\n",
       "   ndsm_perc_90  ndvi_min  ndvi_max  ndvi_range  ndvi_mean  ndvi_stddev  \\\n",
       "0      0.921844 -0.024700  0.109208    0.133908   0.026219     0.032277   \n",
       "1      3.671480  0.003589  0.097931    0.094342   0.045771     0.021169   \n",
       "2      8.749240  0.037727  0.401734    0.364007   0.130912     0.022166   \n",
       "3      3.649410 -0.063592  0.237226    0.300818   0.042486     0.044135   \n",
       "4      4.702580  0.000762  0.273784    0.273022   0.049758     0.027252   \n",
       "5      5.147610  0.053902  0.184481    0.130580   0.143139     0.016689   \n",
       "6     10.873700 -0.122765  0.091023    0.213788   0.026692     0.015509   \n",
       "7      0.032349 -0.036624  0.131860    0.168485   0.026967     0.039175   \n",
       "8      5.507170 -0.078014  0.129242    0.207256   0.006912     0.017037   \n",
       "9      3.602870 -0.021144  0.312586    0.333731   0.033792     0.038444   \n",
       "\n",
       "   ndvi_median  ndvi_first_quart  ndvi_third_quart  ndvi_perc_90  \n",
       "0     0.020000          0.000786          0.048626      0.074045  \n",
       "1     0.044261          0.031821          0.057249      0.069552  \n",
       "2     0.129074          0.123288          0.134809      0.145917  \n",
       "3     0.028361          0.010526          0.064250      0.100787  \n",
       "4     0.042749          0.036254          0.053922      0.076680  \n",
       "5     0.144960          0.138032          0.150470      0.158488  \n",
       "6     0.023868          0.019007          0.032141      0.049031  \n",
       "7     0.023313         -0.002320          0.046407      0.086121  \n",
       "8     0.008712          0.002962          0.012488      0.016828  \n",
       "9     0.019218          0.011509          0.046557      0.084088  \n",
       "\n",
       "[10 rows x 61 columns]"
      ]
     },
     "execution_count": 32,
     "metadata": {},
     "output_type": "execute_result"
    }
   ],
   "source": [
    "# Query to find the number of row in the sample table\n",
    "query=\"SELECT * FROM \"+classifB_schema+\".\"+sample_training\n",
    "# Execute query through panda\n",
    "df_countperclass=pd.read_sql(query, db)\n",
    "# Show dataframe\n",
    "df_countperclass.head(10)"
   ]
  },
  {
   "cell_type": "markdown",
   "metadata": {
    "collapsed": true
   },
   "source": [
    "### Export training sample as .csv for archive"
   ]
  },
  {
   "cell_type": "code",
   "execution_count": 20,
   "metadata": {},
   "outputs": [
    {
     "data": {
      "text/plain": [
       "'/media/tais/My_Book_1/MAUPP/Traitement/Ouagadougou/Segmentation_fullAOI_localapproach/Results/CLASSIF/classif_B/classification'"
      ]
     },
     "execution_count": 20,
     "metadata": {},
     "output_type": "execute_result"
    }
   ],
   "source": [
    "outputfolder"
   ]
  },
  {
   "cell_type": "code",
   "execution_count": 34,
   "metadata": {
    "collapsed": true
   },
   "outputs": [],
   "source": [
    "## Define the path to the .csv output\n",
    "sample_training_csv=os.path.join(outputfolder,\"sample_training.csv\")"
   ]
  },
  {
   "cell_type": "code",
   "execution_count": 35,
   "metadata": {
    "collapsed": true
   },
   "outputs": [],
   "source": [
    "# Connect to an existing database\n",
    "db=pg.connect(database=dbname, user=dbuser, password=dbpassword, host=host)\n",
    "# Open a cursor to perform database operations\n",
    "cur=db.cursor()"
   ]
  },
  {
   "cell_type": "code",
   "execution_count": 36,
   "metadata": {
    "collapsed": true
   },
   "outputs": [],
   "source": [
    "#### Export as .csv\n",
    "# Query\n",
    "query=\"COPY \"+classifB_schema+\".\"+sample_training+\" TO '\"+sample_training_csv+\"' DELIMITER ',' CSV HEADER\"\n",
    "# Execute the CREATE TABLE query \n",
    "cur.execute(query)\n",
    "# Make the changes to the database persistent\n",
    "db.commit()"
   ]
  },
  {
   "cell_type": "code",
   "execution_count": 37,
   "metadata": {
    "collapsed": true
   },
   "outputs": [],
   "source": [
    "# Close cursor and communication with the database\n",
    "cur.close()\n",
    "db.close()"
   ]
  },
  {
   "cell_type": "markdown",
   "metadata": {
    "collapsed": true
   },
   "source": [
    "<center> <font size=5> <h1>Feature selection</h1> </font> </center>  "
   ]
  },
  {
   "cell_type": "markdown",
   "metadata": {
    "collapsed": true
   },
   "source": [
    "### Import and load extension rpy2"
   ]
  },
  {
   "cell_type": "code",
   "execution_count": 38,
   "metadata": {
    "collapsed": true
   },
   "outputs": [],
   "source": [
    "import rpy2"
   ]
  },
  {
   "cell_type": "code",
   "execution_count": 39,
   "metadata": {
    "collapsed": true
   },
   "outputs": [],
   "source": [
    "%load_ext rpy2.ipython"
   ]
  },
  {
   "cell_type": "markdown",
   "metadata": {
    "collapsed": true
   },
   "source": [
    "### Import training set in R"
   ]
  },
  {
   "cell_type": "code",
   "execution_count": 40,
   "metadata": {
    "collapsed": true
   },
   "outputs": [],
   "source": [
    "%%R -i sample_training_csv -o training\n",
    "# Import training\n",
    "training <- read.csv(sample_training_csv, sep=\",\", header=TRUE, row.names=1)\n",
    "training$class_num <- as.factor(training$class_num)"
   ]
  },
  {
   "cell_type": "code",
   "execution_count": 41,
   "metadata": {},
   "outputs": [
    {
     "data": {
      "text/html": [
       "<div>\n",
       "<table border=\"1\" class=\"dataframe\">\n",
       "  <thead>\n",
       "    <tr style=\"text-align: right;\">\n",
       "      <th></th>\n",
       "      <th>class_num</th>\n",
       "      <th>area</th>\n",
       "      <th>perimeter</th>\n",
       "      <th>compact_circle</th>\n",
       "      <th>compact_square</th>\n",
       "      <th>fd</th>\n",
       "      <th>opt_blue_min</th>\n",
       "      <th>opt_blue_max</th>\n",
       "      <th>opt_blue_range</th>\n",
       "      <th>opt_blue_mean</th>\n",
       "      <th>...</th>\n",
       "      <th>ndsm_perc_90</th>\n",
       "      <th>ndvi_min</th>\n",
       "      <th>ndvi_max</th>\n",
       "      <th>ndvi_range</th>\n",
       "      <th>ndvi_mean</th>\n",
       "      <th>ndvi_stddev</th>\n",
       "      <th>ndvi_median</th>\n",
       "      <th>ndvi_first_quart</th>\n",
       "      <th>ndvi_third_quart</th>\n",
       "      <th>ndvi_perc_90</th>\n",
       "    </tr>\n",
       "  </thead>\n",
       "  <tbody>\n",
       "    <tr>\n",
       "      <th>3627475</th>\n",
       "      <td>11</td>\n",
       "      <td>81</td>\n",
       "      <td>52</td>\n",
       "      <td>1.629881</td>\n",
       "      <td>0.692308</td>\n",
       "      <td>1.798283</td>\n",
       "      <td>340</td>\n",
       "      <td>517</td>\n",
       "      <td>177</td>\n",
       "      <td>429.901235</td>\n",
       "      <td>...</td>\n",
       "      <td>0.921844</td>\n",
       "      <td>-0.024700</td>\n",
       "      <td>0.109208</td>\n",
       "      <td>0.133908</td>\n",
       "      <td>0.026219</td>\n",
       "      <td>0.032277</td>\n",
       "      <td>0.020000</td>\n",
       "      <td>0.000786</td>\n",
       "      <td>0.048626</td>\n",
       "      <td>0.074045</td>\n",
       "    </tr>\n",
       "    <tr>\n",
       "      <th>4292478</th>\n",
       "      <td>11</td>\n",
       "      <td>32</td>\n",
       "      <td>24</td>\n",
       "      <td>1.196827</td>\n",
       "      <td>0.942809</td>\n",
       "      <td>1.833968</td>\n",
       "      <td>358</td>\n",
       "      <td>417</td>\n",
       "      <td>59</td>\n",
       "      <td>390.093750</td>\n",
       "      <td>...</td>\n",
       "      <td>3.671480</td>\n",
       "      <td>0.003589</td>\n",
       "      <td>0.097931</td>\n",
       "      <td>0.094342</td>\n",
       "      <td>0.045771</td>\n",
       "      <td>0.021169</td>\n",
       "      <td>0.044261</td>\n",
       "      <td>0.031821</td>\n",
       "      <td>0.057249</td>\n",
       "      <td>0.069552</td>\n",
       "    </tr>\n",
       "    <tr>\n",
       "      <th>2416875</th>\n",
       "      <td>11</td>\n",
       "      <td>2353</td>\n",
       "      <td>382</td>\n",
       "      <td>2.221506</td>\n",
       "      <td>0.507934</td>\n",
       "      <td>1.531645</td>\n",
       "      <td>277</td>\n",
       "      <td>608</td>\n",
       "      <td>331</td>\n",
       "      <td>452.959626</td>\n",
       "      <td>...</td>\n",
       "      <td>8.749240</td>\n",
       "      <td>0.037727</td>\n",
       "      <td>0.401734</td>\n",
       "      <td>0.364007</td>\n",
       "      <td>0.130912</td>\n",
       "      <td>0.022166</td>\n",
       "      <td>0.129074</td>\n",
       "      <td>0.123288</td>\n",
       "      <td>0.134809</td>\n",
       "      <td>0.145917</td>\n",
       "    </tr>\n",
       "    <tr>\n",
       "      <th>5387846</th>\n",
       "      <td>11</td>\n",
       "      <td>568</td>\n",
       "      <td>252</td>\n",
       "      <td>2.982782</td>\n",
       "      <td>0.378298</td>\n",
       "      <td>1.743715</td>\n",
       "      <td>227</td>\n",
       "      <td>436</td>\n",
       "      <td>209</td>\n",
       "      <td>330.936620</td>\n",
       "      <td>...</td>\n",
       "      <td>3.649410</td>\n",
       "      <td>-0.063592</td>\n",
       "      <td>0.237226</td>\n",
       "      <td>0.300818</td>\n",
       "      <td>0.042486</td>\n",
       "      <td>0.044135</td>\n",
       "      <td>0.028361</td>\n",
       "      <td>0.010526</td>\n",
       "      <td>0.064250</td>\n",
       "      <td>0.100787</td>\n",
       "    </tr>\n",
       "    <tr>\n",
       "      <th>13223032</th>\n",
       "      <td>11</td>\n",
       "      <td>487</td>\n",
       "      <td>128</td>\n",
       "      <td>1.636216</td>\n",
       "      <td>0.689627</td>\n",
       "      <td>1.568139</td>\n",
       "      <td>264</td>\n",
       "      <td>447</td>\n",
       "      <td>183</td>\n",
       "      <td>347.416838</td>\n",
       "      <td>...</td>\n",
       "      <td>4.702580</td>\n",
       "      <td>0.000762</td>\n",
       "      <td>0.273784</td>\n",
       "      <td>0.273022</td>\n",
       "      <td>0.049758</td>\n",
       "      <td>0.027252</td>\n",
       "      <td>0.042749</td>\n",
       "      <td>0.036254</td>\n",
       "      <td>0.053922</td>\n",
       "      <td>0.076680</td>\n",
       "    </tr>\n",
       "  </tbody>\n",
       "</table>\n",
       "<p>5 rows × 60 columns</p>\n",
       "</div>"
      ],
      "text/plain": [
       "         class_num  area  perimeter  compact_circle  compact_square        fd  \\\n",
       "3627475         11    81         52        1.629881        0.692308  1.798283   \n",
       "4292478         11    32         24        1.196827        0.942809  1.833968   \n",
       "2416875         11  2353        382        2.221506        0.507934  1.531645   \n",
       "5387846         11   568        252        2.982782        0.378298  1.743715   \n",
       "13223032        11   487        128        1.636216        0.689627  1.568139   \n",
       "\n",
       "          opt_blue_min  opt_blue_max  opt_blue_range  opt_blue_mean  \\\n",
       "3627475            340           517             177     429.901235   \n",
       "4292478            358           417              59     390.093750   \n",
       "2416875            277           608             331     452.959626   \n",
       "5387846            227           436             209     330.936620   \n",
       "13223032           264           447             183     347.416838   \n",
       "\n",
       "              ...       ndsm_perc_90  ndvi_min  ndvi_max  ndvi_range  \\\n",
       "3627475       ...           0.921844 -0.024700  0.109208    0.133908   \n",
       "4292478       ...           3.671480  0.003589  0.097931    0.094342   \n",
       "2416875       ...           8.749240  0.037727  0.401734    0.364007   \n",
       "5387846       ...           3.649410 -0.063592  0.237226    0.300818   \n",
       "13223032      ...           4.702580  0.000762  0.273784    0.273022   \n",
       "\n",
       "          ndvi_mean  ndvi_stddev  ndvi_median  ndvi_first_quart  \\\n",
       "3627475    0.026219     0.032277     0.020000          0.000786   \n",
       "4292478    0.045771     0.021169     0.044261          0.031821   \n",
       "2416875    0.130912     0.022166     0.129074          0.123288   \n",
       "5387846    0.042486     0.044135     0.028361          0.010526   \n",
       "13223032   0.049758     0.027252     0.042749          0.036254   \n",
       "\n",
       "          ndvi_third_quart  ndvi_perc_90  \n",
       "3627475           0.048626      0.074045  \n",
       "4292478           0.057249      0.069552  \n",
       "2416875           0.134809      0.145917  \n",
       "5387846           0.064250      0.100787  \n",
       "13223032          0.053922      0.076680  \n",
       "\n",
       "[5 rows x 60 columns]"
      ]
     },
     "execution_count": 41,
     "metadata": {},
     "output_type": "execute_result"
    }
   ],
   "source": [
    "training.head()"
   ]
  },
  {
   "cell_type": "code",
   "execution_count": 42,
   "metadata": {
    "collapsed": true
   },
   "outputs": [],
   "source": [
    "%%R -o colname\n",
    "colname<-colnames(training)"
   ]
  },
  {
   "cell_type": "code",
   "execution_count": 43,
   "metadata": {},
   "outputs": [
    {
     "name": "stdout",
     "output_type": "stream",
     "text": [
      "['class_num', 'area', 'perimeter', 'compact_circle', 'compact_square', 'fd', 'opt_blue_min', 'opt_blue_max', 'opt_blue_range', 'opt_blue_mean', 'opt_blue_stddev', 'opt_blue_median', 'opt_blue_first_quart', 'opt_blue_third_quart', 'opt_blue_perc_90', 'opt_green_min', 'opt_green_max', 'opt_green_range', 'opt_green_mean', 'opt_green_stddev', 'opt_green_median', 'opt_green_first_quart', 'opt_green_third_quart', 'opt_green_perc_90', 'opt_red_min', 'opt_red_max', 'opt_red_range', 'opt_red_mean', 'opt_red_stddev', 'opt_red_median', 'opt_red_first_quart', 'opt_red_third_quart', 'opt_red_perc_90', 'opt_nir_min', 'opt_nir_max', 'opt_nir_range', 'opt_nir_mean', 'opt_nir_stddev', 'opt_nir_median', 'opt_nir_first_quart', 'opt_nir_third_quart', 'opt_nir_perc_90', 'ndsm_min', 'ndsm_max', 'ndsm_range', 'ndsm_mean', 'ndsm_stddev', 'ndsm_median', 'ndsm_first_quart', 'ndsm_third_quart', 'ndsm_perc_90', 'ndvi_min', 'ndvi_max', 'ndvi_range', 'ndvi_mean', 'ndvi_stddev', 'ndvi_median', 'ndvi_first_quart', 'ndvi_third_quart', 'ndvi_perc_90']\n"
     ]
    }
   ],
   "source": [
    "# Create a list with the column name\n",
    "print list(colname)"
   ]
  },
  {
   "cell_type": "code",
   "execution_count": 44,
   "metadata": {
    "collapsed": true
   },
   "outputs": [],
   "source": [
    "# Set the name of the colum with class\n",
    "class_column='class_num'\n",
    "# Set the name of the colum with the first feature to be used\n",
    "first_feature='area'\n",
    "# Set the name of the colum with the last feature to be used\n",
    "last_feature='ndsm_perc_90'"
   ]
  },
  {
   "cell_type": "code",
   "execution_count": 45,
   "metadata": {
    "collapsed": true
   },
   "outputs": [],
   "source": [
    "%%R -i class_column,first_feature,last_feature -o features\n",
    "\n",
    "# Save the index of the column\n",
    "classnumindex=match(c(class_column),colname)\n",
    "# Save the index where object's features to be used start\n",
    "startindex=match(c(first_feature),colname)\n",
    "# Save the index where object's features to be used stop\n",
    "stopindex=match(c(last_feature),colname)\n",
    "\n",
    "# Create dataframe with only columns to be used features\n",
    "temp1<-as.data.frame(training[classnumindex])\n",
    "temp2<-as.data.frame(training[startindex:stopindex])\n",
    "merged_df=merge(temp1,temp2, by=0, all=TRUE)\n",
    "features<-transform(merged_df, row.names=Row.names, Row.names=NULL)\n",
    "# Set class column as factor\n",
    "features$class_num <- as.factor(features$class_num)"
   ]
  },
  {
   "cell_type": "code",
   "execution_count": 46,
   "metadata": {},
   "outputs": [
    {
     "data": {
      "text/html": [
       "<div>\n",
       "<table border=\"1\" class=\"dataframe\">\n",
       "  <thead>\n",
       "    <tr style=\"text-align: right;\">\n",
       "      <th></th>\n",
       "      <th>class_num</th>\n",
       "      <th>area</th>\n",
       "      <th>perimeter</th>\n",
       "      <th>compact_circle</th>\n",
       "      <th>compact_square</th>\n",
       "      <th>fd</th>\n",
       "      <th>opt_blue_min</th>\n",
       "      <th>opt_blue_max</th>\n",
       "      <th>opt_blue_range</th>\n",
       "      <th>opt_blue_mean</th>\n",
       "      <th>...</th>\n",
       "      <th>opt_nir_perc_90</th>\n",
       "      <th>ndsm_min</th>\n",
       "      <th>ndsm_max</th>\n",
       "      <th>ndsm_range</th>\n",
       "      <th>ndsm_mean</th>\n",
       "      <th>ndsm_stddev</th>\n",
       "      <th>ndsm_median</th>\n",
       "      <th>ndsm_first_quart</th>\n",
       "      <th>ndsm_third_quart</th>\n",
       "      <th>ndsm_perc_90</th>\n",
       "    </tr>\n",
       "  </thead>\n",
       "  <tbody>\n",
       "    <tr>\n",
       "      <th>10013785</th>\n",
       "      <td>34</td>\n",
       "      <td>792</td>\n",
       "      <td>214</td>\n",
       "      <td>2.145094</td>\n",
       "      <td>0.526028</td>\n",
       "      <td>1.607888</td>\n",
       "      <td>215</td>\n",
       "      <td>298</td>\n",
       "      <td>83</td>\n",
       "      <td>250.354798</td>\n",
       "      <td>...</td>\n",
       "      <td>989</td>\n",
       "      <td>-0.295227</td>\n",
       "      <td>1.291351</td>\n",
       "      <td>1.586578</td>\n",
       "      <td>0.144693</td>\n",
       "      <td>0.231972</td>\n",
       "      <td>0.000000</td>\n",
       "      <td>0.000000</td>\n",
       "      <td>0.273102</td>\n",
       "      <td>0.468445</td>\n",
       "    </tr>\n",
       "    <tr>\n",
       "      <th>10024905</th>\n",
       "      <td>34</td>\n",
       "      <td>122</td>\n",
       "      <td>60</td>\n",
       "      <td>1.532380</td>\n",
       "      <td>0.736357</td>\n",
       "      <td>1.704546</td>\n",
       "      <td>232</td>\n",
       "      <td>264</td>\n",
       "      <td>32</td>\n",
       "      <td>248.327869</td>\n",
       "      <td>...</td>\n",
       "      <td>1141</td>\n",
       "      <td>0.055786</td>\n",
       "      <td>1.597626</td>\n",
       "      <td>1.541840</td>\n",
       "      <td>0.361013</td>\n",
       "      <td>0.237129</td>\n",
       "      <td>0.344131</td>\n",
       "      <td>0.198212</td>\n",
       "      <td>0.441498</td>\n",
       "      <td>0.618286</td>\n",
       "    </tr>\n",
       "    <tr>\n",
       "      <th>10026972</th>\n",
       "      <td>34</td>\n",
       "      <td>85632</td>\n",
       "      <td>15490</td>\n",
       "      <td>14.932360</td>\n",
       "      <td>0.075566</td>\n",
       "      <td>1.698910</td>\n",
       "      <td>173</td>\n",
       "      <td>397</td>\n",
       "      <td>224</td>\n",
       "      <td>264.252195</td>\n",
       "      <td>...</td>\n",
       "      <td>1039</td>\n",
       "      <td>-0.799255</td>\n",
       "      <td>4.672241</td>\n",
       "      <td>5.471497</td>\n",
       "      <td>0.157858</td>\n",
       "      <td>0.463173</td>\n",
       "      <td>0.000000</td>\n",
       "      <td>0.000000</td>\n",
       "      <td>0.108185</td>\n",
       "      <td>0.401947</td>\n",
       "    </tr>\n",
       "    <tr>\n",
       "      <th>10035873</th>\n",
       "      <td>11</td>\n",
       "      <td>288</td>\n",
       "      <td>104</td>\n",
       "      <td>1.728750</td>\n",
       "      <td>0.652714</td>\n",
       "      <td>1.640269</td>\n",
       "      <td>293</td>\n",
       "      <td>401</td>\n",
       "      <td>108</td>\n",
       "      <td>365.697917</td>\n",
       "      <td>...</td>\n",
       "      <td>748</td>\n",
       "      <td>3.644867</td>\n",
       "      <td>6.959656</td>\n",
       "      <td>3.314789</td>\n",
       "      <td>5.082944</td>\n",
       "      <td>0.415453</td>\n",
       "      <td>4.980680</td>\n",
       "      <td>4.815030</td>\n",
       "      <td>5.352020</td>\n",
       "      <td>5.643620</td>\n",
       "    </tr>\n",
       "    <tr>\n",
       "      <th>10037786</th>\n",
       "      <td>11</td>\n",
       "      <td>112</td>\n",
       "      <td>76</td>\n",
       "      <td>2.025814</td>\n",
       "      <td>0.557000</td>\n",
       "      <td>1.835637</td>\n",
       "      <td>328</td>\n",
       "      <td>429</td>\n",
       "      <td>101</td>\n",
       "      <td>376.035714</td>\n",
       "      <td>...</td>\n",
       "      <td>702</td>\n",
       "      <td>0.656982</td>\n",
       "      <td>3.042542</td>\n",
       "      <td>2.385559</td>\n",
       "      <td>2.239591</td>\n",
       "      <td>0.805937</td>\n",
       "      <td>2.629330</td>\n",
       "      <td>1.410460</td>\n",
       "      <td>2.790710</td>\n",
       "      <td>2.986300</td>\n",
       "    </tr>\n",
       "  </tbody>\n",
       "</table>\n",
       "<p>5 rows × 51 columns</p>\n",
       "</div>"
      ],
      "text/plain": [
       "         class_num   area  perimeter  compact_circle  compact_square  \\\n",
       "10013785        34    792        214        2.145094        0.526028   \n",
       "10024905        34    122         60        1.532380        0.736357   \n",
       "10026972        34  85632      15490       14.932360        0.075566   \n",
       "10035873        11    288        104        1.728750        0.652714   \n",
       "10037786        11    112         76        2.025814        0.557000   \n",
       "\n",
       "                fd  opt_blue_min  opt_blue_max  opt_blue_range  opt_blue_mean  \\\n",
       "10013785  1.607888           215           298              83     250.354798   \n",
       "10024905  1.704546           232           264              32     248.327869   \n",
       "10026972  1.698910           173           397             224     264.252195   \n",
       "10035873  1.640269           293           401             108     365.697917   \n",
       "10037786  1.835637           328           429             101     376.035714   \n",
       "\n",
       "              ...       opt_nir_perc_90  ndsm_min  ndsm_max  ndsm_range  \\\n",
       "10013785      ...                   989 -0.295227  1.291351    1.586578   \n",
       "10024905      ...                  1141  0.055786  1.597626    1.541840   \n",
       "10026972      ...                  1039 -0.799255  4.672241    5.471497   \n",
       "10035873      ...                   748  3.644867  6.959656    3.314789   \n",
       "10037786      ...                   702  0.656982  3.042542    2.385559   \n",
       "\n",
       "          ndsm_mean  ndsm_stddev  ndsm_median  ndsm_first_quart  \\\n",
       "10013785   0.144693     0.231972     0.000000          0.000000   \n",
       "10024905   0.361013     0.237129     0.344131          0.198212   \n",
       "10026972   0.157858     0.463173     0.000000          0.000000   \n",
       "10035873   5.082944     0.415453     4.980680          4.815030   \n",
       "10037786   2.239591     0.805937     2.629330          1.410460   \n",
       "\n",
       "          ndsm_third_quart  ndsm_perc_90  \n",
       "10013785          0.273102      0.468445  \n",
       "10024905          0.441498      0.618286  \n",
       "10026972          0.108185      0.401947  \n",
       "10035873          5.352020      5.643620  \n",
       "10037786          2.790710      2.986300  \n",
       "\n",
       "[5 rows x 51 columns]"
      ]
     },
     "execution_count": 46,
     "metadata": {},
     "output_type": "execute_result"
    }
   ],
   "source": [
    "features.head()"
   ]
  },
  {
   "cell_type": "code",
   "execution_count": 48,
   "metadata": {
    "collapsed": true
   },
   "outputs": [],
   "source": [
    "%%R \n",
    "# Instal library\n",
    "if(!is.element('parallel', installed.packages()[,1])){\n",
    "    cat('\\n\\nInstalling parallel package from CRAN')\n",
    "    chooseCRANmirror(ind=1)\n",
    "    install.packages('parallel')}\n",
    "\n",
    "if(!is.element('doParallel', installed.packages()[,1])){\n",
    "    cat('\\n\\nInstalling doParallel package from CRAN')\n",
    "    chooseCRANmirror(ind=1)\n",
    "    install.packages('doParallel')}\n",
    "\n",
    "if(!is.element('VSURF', installed.packages()[,1])){\n",
    "    cat('\\n\\nInstalling VSURF package from CRAN')\n",
    "    chooseCRANmirror(ind=1)\n",
    "    install.packages('VSURF')}\n",
    "\n",
    "library(parallel)\n",
    "require(parallel)\n",
    "library(doParallel)\n",
    "require(doParallel)\n",
    "library(VSURF)\n",
    "require(VSURF)"
   ]
  },
  {
   "cell_type": "code",
   "execution_count": 49,
   "metadata": {
    "collapsed": true
   },
   "outputs": [],
   "source": [
    "%%R -i class_column,first_feature,last_feature -o Surf\n",
    "\n",
    "# Save column names\n",
    "colname<-colnames(features)\n",
    "# Save the index of the column\n",
    "classnumindex<-match(c(class_column),colname)\n",
    "# Save the index where object's features to be used start\n",
    "startindex<-match(c(first_feature),colname)\n",
    "# Save the index where object's features to be used stop\n",
    "stopindex<-match(c(last_feature),colname)\n",
    "\n",
    "# Set number of cores to use\n",
    "usedcores=detectCores()-5\n",
    "registerDoParallel(usedcores)\n",
    "# Feature Selection using VSURF\n",
    "Surf=VSURF(features[startindex:stopindex],features$class_num, parallel=TRUE, ncores=usedcores)"
   ]
  },
  {
   "cell_type": "code",
   "execution_count": 50,
   "metadata": {
    "collapsed": true
   },
   "outputs": [],
   "source": [
    "## Set the path to the output .txt file with summary of VSURF\n",
    "output_summary=os.path.join(outputfolder,\"VSURF_summary.txt\")"
   ]
  },
  {
   "cell_type": "code",
   "execution_count": 51,
   "metadata": {},
   "outputs": [
    {
     "data": {
      "text/plain": [
       "\n",
       " VSURF computation time: 19 mins \n",
       "\n",
       " VSURF selected: \n",
       "\t50 variables at thresholding step (in 1.4 mins)\n",
       "\t33 variables at interpretation step (in 2.6 mins)\n",
       "\t22 variables at prediction step (in 15.1 mins)\n",
       "\n",
       " VSURF ran in parallel on a PSOCK cluster and used 27 cores \n",
       "NULL\n"
      ]
     },
     "metadata": {},
     "output_type": "display_data"
    }
   ],
   "source": [
    "%%R -i output_summary\n",
    "\n",
    "# Print and save summary of VSRUF\n",
    "summaryVSRUF<-summary(Surf)\n",
    "output<-capture.output(summary(Surf))\n",
    "print (summaryVSRUF)\n",
    "cat(output,file=output_summary,sep=\"\\n\")"
   ]
  },
  {
   "cell_type": "code",
   "execution_count": 52,
   "metadata": {
    "collapsed": true
   },
   "outputs": [],
   "source": [
    "## Set the path to the output csv with results of VSURF\n",
    "output_interp=os.path.join(outputfolder,\"VSURF_interp.csv\")\n",
    "output_pred=os.path.join(outputfolder,\"VSURF_pred.csv\")"
   ]
  },
  {
   "cell_type": "code",
   "execution_count": 53,
   "metadata": {
    "collapsed": true
   },
   "outputs": [],
   "source": [
    "%%R -i output_interp,output_pred -o Surf_interp_features,Surf_pred_features\n",
    "\n",
    "# Save interpretation step and prediction step results\n",
    "Surf_interp<-Surf$varselect.interp\n",
    "Surf_pred<-Surf$varselect.pred\n",
    "\n",
    "# Save name of feature in a list ranked with the same index as VSURF output\n",
    "colname<-colnames(features[startindex:stopindex])\n",
    "\n",
    "# Declare empty variables of type 'character'\n",
    "Surf_interp_features <- character()\n",
    "\n",
    "# Loop on indexes of features selecteds by VSURF to find the corresponding feature name\n",
    "count<-0\n",
    "for (x in Surf_interp){\n",
    "  count<-count+1\n",
    "  Surf_interp_features[count]<-colname[x]\n",
    "}\n",
    "\n",
    "# Write CSV\n",
    "write.csv(Surf_interp_features, file=output_interp, row.names=TRUE)\n",
    "\n",
    "# Declare empty variables of type 'character'\n",
    "Surf_pred_features <- character()\n",
    "\n",
    "# Loop on indexes of features selecteds by VSURF to find the corresponding feature name\n",
    "count<-0\n",
    "for (x in Surf_pred){\n",
    "  count<-count+1\n",
    "  Surf_pred_features[count]<-colname[x]\n",
    "}\n",
    "\n",
    "# Write CSV\n",
    "write.csv(Surf_pred_features, file=output_pred, row.names=TRUE)"
   ]
  },
  {
   "cell_type": "code",
   "execution_count": 54,
   "metadata": {
    "scrolled": true
   },
   "outputs": [
    {
     "name": "stdout",
     "output_type": "stream",
     "text": [
      "Interpretation results\n",
      "1    opt_red_first_quart\n",
      "2    opt_red_median\n",
      "3    opt_nir_median\n",
      "4    opt_nir_first_quart\n",
      "5    opt_nir_third_quart\n",
      "6    opt_nir_mean\n",
      "7    opt_red_mean\n",
      "8    opt_red_third_quart\n",
      "9    opt_nir_perc_90\n",
      "10    opt_blue_median\n",
      "11    ndsm_median\n",
      "12    ndsm_mean\n",
      "13    opt_blue_third_quart\n",
      "14    opt_blue_perc_90\n",
      "15    opt_red_perc_90\n",
      "16    opt_nir_min\n",
      "17    perimeter\n",
      "18    ndsm_first_quart\n",
      "19    compact_square\n",
      "20    opt_blue_first_quart\n",
      "21    compact_circle\n",
      "22    opt_blue_mean\n",
      "23    ndsm_third_quart\n",
      "24    opt_green_first_quart\n",
      "25    area\n",
      "26    opt_green_median\n",
      "27    opt_nir_max\n",
      "28    ndsm_perc_90\n",
      "29    opt_blue_stddev\n",
      "30    opt_green_mean\n",
      "31    opt_green_min\n",
      "32    opt_blue_max\n",
      "33    ndsm_max\n"
     ]
    }
   ],
   "source": [
    "## Print features selected by VSURF at interpretation step\n",
    "print \"Interpretation results\"\n",
    "for i in range(len(Surf_interp_features)):\n",
    "    print str(i+1)+\"    \"+Surf_interp_features[i] "
   ]
  },
  {
   "cell_type": "code",
   "execution_count": 55,
   "metadata": {
    "scrolled": true
   },
   "outputs": [
    {
     "name": "stdout",
     "output_type": "stream",
     "text": [
      "Prediction results\n",
      "1    opt_red_first_quart\n",
      "2    opt_red_median\n",
      "3    opt_nir_median\n",
      "4    opt_nir_first_quart\n",
      "5    opt_nir_third_quart\n",
      "6    opt_red_mean\n",
      "7    opt_red_third_quart\n",
      "8    opt_blue_median\n",
      "9    ndsm_median\n",
      "10    ndsm_mean\n",
      "11    opt_blue_third_quart\n",
      "12    opt_nir_min\n",
      "13    perimeter\n",
      "14    ndsm_first_quart\n",
      "15    compact_square\n",
      "16    opt_green_first_quart\n",
      "17    area\n",
      "18    opt_green_median\n",
      "19    ndsm_perc_90\n",
      "20    opt_blue_stddev\n",
      "21    opt_blue_max\n",
      "22    ndsm_max\n"
     ]
    }
   ],
   "source": [
    "## Print features selected by VSURF at interpretation step\n",
    "print \"Prediction results\"\n",
    "for i in range(len(Surf_pred_features)):\n",
    "    print str(i+1)+\"    \"+Surf_pred_features[i] "
   ]
  },
  {
   "cell_type": "code",
   "execution_count": 56,
   "metadata": {
    "collapsed": true
   },
   "outputs": [],
   "source": [
    "## Set the path to the output plot (PDF)\n",
    "outputgraph=os.path.join(outputfolder,\"VSURF_opt_plot.pdf\")"
   ]
  },
  {
   "cell_type": "code",
   "execution_count": 57,
   "metadata": {},
   "outputs": [
    {
     "data": {
      "text/plain": [
       "png \n",
       "  2 \n"
      ]
     },
     "metadata": {},
     "output_type": "display_data"
    }
   ],
   "source": [
    "%%R -i outputgraph\n",
    "\n",
    "# Export the plot in pdf\n",
    "VSURF_plot_export=outputgraph\n",
    "pdf(VSURF_plot_export)\n",
    "plot(Surf, var.names = FALSE,\n",
    "     nvar.interp = length(Surf_pred))\n",
    "dev.off()"
   ]
  },
  {
   "cell_type": "code",
   "execution_count": 58,
   "metadata": {},
   "outputs": [
    {
     "data": {
      "image/png": "[encoded data removed]",
      "text/plain": [
       "<wand.image.Image: a508833 'PNG' (504x504)>"
      ]
     },
     "execution_count": 58,
     "metadata": {},
     "output_type": "execute_result"
    }
   ],
   "source": [
    "## Display graphs\n",
    "import wand\n",
    "from wand.image import Image as WImage\n",
    "img = WImage(filename=outputgraph)\n",
    "img"
   ]
  },
  {
   "cell_type": "markdown",
   "metadata": {
    "collapsed": true
   },
   "source": [
    "<center> <font size=5> <h1>Classification using Random Forest</h1> </font> </center>  "
   ]
  },
  {
   "cell_type": "markdown",
   "metadata": {
    "collapsed": true
   },
   "source": [
    "### Prepare .csv for classification (training set and object to classify)"
   ]
  },
  {
   "cell_type": "code",
   "execution_count": 59,
   "metadata": {
    "collapsed": true
   },
   "outputs": [],
   "source": [
    "# Connect to an existing database\n",
    "db=pg.connect(database=dbname, user=dbuser, password=dbpassword, host=host)\n",
    "# Open a cursor to perform database operations\n",
    "cur=db.cursor()"
   ]
  },
  {
   "cell_type": "markdown",
   "metadata": {
    "collapsed": true
   },
   "source": [
    "#### Export training set as .csv"
   ]
  },
  {
   "cell_type": "code",
   "execution_count": 60,
   "metadata": {
    "collapsed": true
   },
   "outputs": [],
   "source": [
    "### Set if all feature have to be used (vsurfonly=False) \n",
    "### or only those resulting from prediction step of VSURF (vsurfonly=True)\n",
    "vsurfonly=True"
   ]
  },
  {
   "cell_type": "code",
   "execution_count": 61,
   "metadata": {
    "collapsed": true
   },
   "outputs": [],
   "source": [
    "## Save list of features to be used \n",
    "if vsurfonly:\n",
    "    features_for_classif=Surf_pred_features\n",
    "else:\n",
    "    features_for_classif=list(features.columns.values)[1:]"
   ]
  },
  {
   "cell_type": "code",
   "execution_count": 62,
   "metadata": {},
   "outputs": [
    {
     "data": {
      "text/plain": [
       "'opt_red_first_quart,opt_red_median,opt_nir_median,opt_nir_first_quart,opt_nir_third_quart,opt_red_mean,opt_red_third_quart,opt_blue_median,ndsm_median,ndsm_mean,opt_blue_third_quart,opt_nir_min,perimeter,ndsm_first_quart,compact_square,opt_green_first_quart,area,opt_green_median,ndsm_perc_90,opt_blue_stddev,opt_blue_max,ndsm_max'"
      ]
     },
     "execution_count": 62,
     "metadata": {},
     "output_type": "execute_result"
    }
   ],
   "source": [
    "','.join(features_for_classif)"
   ]
  },
  {
   "cell_type": "code",
   "execution_count": 63,
   "metadata": {
    "collapsed": true
   },
   "outputs": [],
   "source": [
    "## Define the path to the .csv\n",
    "training_csv=os.path.join(outputfolder,\"training_csv.csv\")"
   ]
  },
  {
   "cell_type": "code",
   "execution_count": 64,
   "metadata": {
    "collapsed": true
   },
   "outputs": [],
   "source": [
    "#### Export as .csv\n",
    "# Query\n",
    "query=\"COPY (\\\n",
    "SELECT seg_id, class_num, \"+\", \".join(features_for_classif)+\" \\\n",
    "FROM \"+classifB_schema+\".\"+sample_training+\") TO '\"+training_csv+\"' DELIMITER ',' CSV HEADER\"\n",
    "# Execute the CREATE TABLE query \n",
    "cur.execute(query)\n",
    "# Make the changes to the database persistent\n",
    "db.commit()"
   ]
  },
  {
   "cell_type": "markdown",
   "metadata": {
    "collapsed": true
   },
   "source": [
    "#### Export objects statistics as .csv"
   ]
  },
  {
   "cell_type": "code",
   "execution_count": 65,
   "metadata": {},
   "outputs": [
    {
     "name": "stdout",
     "output_type": "stream",
     "text": [
      "The table contains 15775456 rows (estimate).\n"
     ]
    }
   ],
   "source": [
    "## Evalutate the number of row in 'object_stat' table\n",
    "query=\"SELECT reltuples::bigint AS estimated_object \\\n",
    "FROM pg_class \\\n",
    "WHERE oid='\"+stat_schema+\".\"+object_stats_optical+\"'::regclass\"  \n",
    "# Execute query through panda\n",
    "df=pd.read_sql(query, db)\n",
    "# Save estimated number of objects\n",
    "estimate=list(df['estimated_object'])[0]\n",
    "# Print\n",
    "print \"The table contains \"+str(estimate)+\" rows (estimate).\""
   ]
  },
  {
   "cell_type": "code",
   "execution_count": 66,
   "metadata": {},
   "outputs": [
    {
     "name": "stdout",
     "output_type": "stream",
     "text": [
      "Classification will be made on 17 loop(s)\n"
     ]
    }
   ],
   "source": [
    "# Define number of object to classify on each loop\n",
    "nbobjloop=1000000\n",
    "# Add 10% of estimated number of rows to be sure to well cover the full dataset \n",
    "remaining_rows=int(estimate*1.05)\n",
    "# Define number of loops for classification\n",
    "import math\n",
    "loops=int(math.ceil(remaining_rows/(nbobjloop*1.0)))\n",
    "## Print what is going to happend\n",
    "print \"Classification will be made on \"+str(loops)+\" loop(s)\""
   ]
  },
  {
   "cell_type": "code",
   "execution_count": 67,
   "metadata": {},
   "outputs": [
    {
     "name": "stdout",
     "output_type": "stream",
     "text": [
      "Rows between 0 and 1000000 exported in .csv file '/media/tais/My_Book_1/MAUPP/Traitement/Ouagadougou/Segmentation_fullAOI_localapproach/Results/CLASSIF/classif_B/classification/objects_stats_1.csv'\n",
      "Rows between 1000000 and 2000000 exported in .csv file '/media/tais/My_Book_1/MAUPP/Traitement/Ouagadougou/Segmentation_fullAOI_localapproach/Results/CLASSIF/classif_B/classification/objects_stats_2.csv'\n",
      "Rows between 2000000 and 3000000 exported in .csv file '/media/tais/My_Book_1/MAUPP/Traitement/Ouagadougou/Segmentation_fullAOI_localapproach/Results/CLASSIF/classif_B/classification/objects_stats_3.csv'\n",
      "Rows between 3000000 and 4000000 exported in .csv file '/media/tais/My_Book_1/MAUPP/Traitement/Ouagadougou/Segmentation_fullAOI_localapproach/Results/CLASSIF/classif_B/classification/objects_stats_4.csv'\n",
      "Rows between 4000000 and 5000000 exported in .csv file '/media/tais/My_Book_1/MAUPP/Traitement/Ouagadougou/Segmentation_fullAOI_localapproach/Results/CLASSIF/classif_B/classification/objects_stats_5.csv'\n",
      "Rows between 5000000 and 6000000 exported in .csv file '/media/tais/My_Book_1/MAUPP/Traitement/Ouagadougou/Segmentation_fullAOI_localapproach/Results/CLASSIF/classif_B/classification/objects_stats_6.csv'\n",
      "Rows between 6000000 and 7000000 exported in .csv file '/media/tais/My_Book_1/MAUPP/Traitement/Ouagadougou/Segmentation_fullAOI_localapproach/Results/CLASSIF/classif_B/classification/objects_stats_7.csv'\n",
      "Rows between 7000000 and 8000000 exported in .csv file '/media/tais/My_Book_1/MAUPP/Traitement/Ouagadougou/Segmentation_fullAOI_localapproach/Results/CLASSIF/classif_B/classification/objects_stats_8.csv'\n",
      "Rows between 8000000 and 9000000 exported in .csv file '/media/tais/My_Book_1/MAUPP/Traitement/Ouagadougou/Segmentation_fullAOI_localapproach/Results/CLASSIF/classif_B/classification/objects_stats_9.csv'\n",
      "Rows between 9000000 and 10000000 exported in .csv file '/media/tais/My_Book_1/MAUPP/Traitement/Ouagadougou/Segmentation_fullAOI_localapproach/Results/CLASSIF/classif_B/classification/objects_stats_10.csv'\n",
      "Rows between 10000000 and 11000000 exported in .csv file '/media/tais/My_Book_1/MAUPP/Traitement/Ouagadougou/Segmentation_fullAOI_localapproach/Results/CLASSIF/classif_B/classification/objects_stats_11.csv'\n",
      "Rows between 11000000 and 12000000 exported in .csv file '/media/tais/My_Book_1/MAUPP/Traitement/Ouagadougou/Segmentation_fullAOI_localapproach/Results/CLASSIF/classif_B/classification/objects_stats_12.csv'\n",
      "Rows between 12000000 and 13000000 exported in .csv file '/media/tais/My_Book_1/MAUPP/Traitement/Ouagadougou/Segmentation_fullAOI_localapproach/Results/CLASSIF/classif_B/classification/objects_stats_13.csv'\n",
      "Rows between 13000000 and 14000000 exported in .csv file '/media/tais/My_Book_1/MAUPP/Traitement/Ouagadougou/Segmentation_fullAOI_localapproach/Results/CLASSIF/classif_B/classification/objects_stats_14.csv'\n",
      "Rows between 14000000 and 15000000 exported in .csv file '/media/tais/My_Book_1/MAUPP/Traitement/Ouagadougou/Segmentation_fullAOI_localapproach/Results/CLASSIF/classif_B/classification/objects_stats_15.csv'\n",
      "Rows between 15000000 and 16000000 exported in .csv file '/media/tais/My_Book_1/MAUPP/Traitement/Ouagadougou/Segmentation_fullAOI_localapproach/Results/CLASSIF/classif_B/classification/objects_stats_16.csv'\n",
      "Rows between 16000000 and 17000000 exported in .csv file '/media/tais/My_Book_1/MAUPP/Traitement/Ouagadougou/Segmentation_fullAOI_localapproach/Results/CLASSIF/classif_B/classification/objects_stats_17.csv'\n"
     ]
    }
   ],
   "source": [
    "# Define starting offset and limit (for the firsth loop)\n",
    "offset=0\n",
    "# Declare an empty list containing the paths to .csv\n",
    "list_objstat_csv=[]\n",
    "# Export object statistics on multiple .csv files\n",
    "for loop in range(loops):\n",
    "    ## Define the path to the .csv\n",
    "    objstat_csv=os.path.join(outputfolder,\"objects_stats_\"+str(loop+1)+\".csv\")\n",
    "    list_objstat_csv.append(objstat_csv)        \n",
    "    # Query to export as .csv\n",
    "    query=\"COPY (\\\n",
    "    SELECT cat, \"+\", \".join(features_for_classif)+\" \\\n",
    "    FROM \"+stat_schema+\".\"+object_stats_optical+\"\\\n",
    "    ORDER BY cat \\\n",
    "    OFFSET \"+str(offset)+\" LIMIT \"+str(nbobjloop)+\") TO '\"+objstat_csv+\"' DELIMITER ',' CSV HEADER\"\n",
    "    # Execute the CREATE TABLE query \n",
    "    cur.execute(query)  \n",
    "    # Print\n",
    "    print \"Rows between \"+str(offset)+\" and \"+str(offset+nbobjloop)+\" exported in .csv file '\"+objstat_csv+\"'\"\n",
    "    # Update offset and limit \n",
    "    offset+=nbobjloop"
   ]
  },
  {
   "cell_type": "code",
   "execution_count": 68,
   "metadata": {
    "collapsed": true
   },
   "outputs": [],
   "source": [
    "# Close cursor and communication with the database\n",
    "cur.close()\n",
    "db.close()"
   ]
  },
  {
   "cell_type": "code",
   "execution_count": 69,
   "metadata": {
    "collapsed": true
   },
   "outputs": [],
   "source": [
    "%%R \n",
    "\n",
    "# Install package\n",
    "if(!is.element('caret', installed.packages()[,1])){\n",
    "  cat('\\n\\nInstalling caret package from CRAN')\n",
    "  chooseCRANmirror(ind=1)\n",
    "  install.packages('caret')}\n",
    "# Install package\n",
    "if(!is.element('randomForest', installed.packages()[,1])){\n",
    "  cat('\\n\\nInstalling randomForest package from CRAN')\n",
    "  chooseCRANmirror(ind=1)\n",
    "  install.packages('randomForest')}\n",
    "# Install package\n",
    "if(!is.element('pROC', installed.packages()[,1])){\n",
    "  cat('\\n\\nInstalling pROC package from CRAN')\n",
    "  chooseCRANmirror(ind=1)\n",
    "  install.packages('pROC')}\n",
    "# Install package\n",
    "if(!is.element('e1071', installed.packages()[,1])){\n",
    "  cat('\\n\\nInstalling e1071 package from CRAN')\n",
    "  chooseCRANmirror(ind=1)\n",
    "  install.packages('e1071')}"
   ]
  },
  {
   "cell_type": "code",
   "execution_count": 70,
   "metadata": {
    "scrolled": true
   },
   "outputs": [
    {
     "name": "stderr",
     "output_type": "stream",
     "text": [
      "/usr/local/lib/python2.7/dist-packages/rpy2/rinterface/__init__.py:186: RRuntimeWarning: Le chargement a nécessité le package : lattice\n",
      "\n",
      "  warnings.warn(x, RRuntimeWarning)\n",
      "/usr/local/lib/python2.7/dist-packages/rpy2/rinterface/__init__.py:186: RRuntimeWarning: Le chargement a nécessité le package : ggplot2\n",
      "\n",
      "  warnings.warn(x, RRuntimeWarning)\n",
      "/usr/local/lib/python2.7/dist-packages/rpy2/rinterface/__init__.py:186: RRuntimeWarning: randomForest 4.6-12\n",
      "\n",
      "  warnings.warn(x, RRuntimeWarning)\n",
      "/usr/local/lib/python2.7/dist-packages/rpy2/rinterface/__init__.py:186: RRuntimeWarning: Type rfNews() to see new features/changes/bug fixes.\n",
      "\n",
      "  warnings.warn(x, RRuntimeWarning)\n",
      "/usr/local/lib/python2.7/dist-packages/rpy2/rinterface/__init__.py:186: RRuntimeWarning: \n",
      "Attachement du package : ‘randomForest’\n",
      "\n",
      "\n",
      "  warnings.warn(x, RRuntimeWarning)\n",
      "/usr/local/lib/python2.7/dist-packages/rpy2/rinterface/__init__.py:186: RRuntimeWarning: The following object is masked from ‘package:ggplot2’:\n",
      "\n",
      "    margin\n",
      "\n",
      "\n",
      "  warnings.warn(x, RRuntimeWarning)\n",
      "/usr/local/lib/python2.7/dist-packages/rpy2/rinterface/__init__.py:186: RRuntimeWarning: \n",
      "Attachement du package : ‘e1071’\n",
      "\n",
      "\n",
      "  warnings.warn(x, RRuntimeWarning)\n",
      "/usr/local/lib/python2.7/dist-packages/rpy2/rinterface/__init__.py:186: RRuntimeWarning: The following object is masked from ‘package:VSURF’:\n",
      "\n",
      "    tune\n",
      "\n",
      "\n",
      "  warnings.warn(x, RRuntimeWarning)\n"
     ]
    }
   ],
   "source": [
    "%%R \n",
    "\n",
    "# Load libraries\n",
    "library(parallel)\n",
    "require(parallel)\n",
    "library(doParallel)\n",
    "require(doParallel)\n",
    "library(caret)\n",
    "require(caret)\n",
    "library(randomForest)\n",
    "require(randomForest)\n",
    "library(e1071)\n",
    "require(e1071)"
   ]
  },
  {
   "cell_type": "markdown",
   "metadata": {},
   "source": [
    "## Train Random Forest model"
   ]
  },
  {
   "cell_type": "code",
   "execution_count": 71,
   "metadata": {
    "collapsed": true
   },
   "outputs": [],
   "source": [
    "## Set the path to the output of random forest classification\n",
    "output_accuracy=os.path.join(outputfolder,\"accuracy_RF.csv\")"
   ]
  },
  {
   "cell_type": "code",
   "execution_count": 72,
   "metadata": {
    "collapsed": true
   },
   "outputs": [],
   "source": [
    "%%R -i training_csv,output_accuracy\n",
    "\n",
    "# Set number of cores to use\n",
    "usedcores=detectCores()-5\n",
    "registerDoParallel(usedcores)\n",
    "\n",
    "# Import training\n",
    "training <- read.csv(training_csv, sep=\",\", header=TRUE, row.names=1)\n",
    "# Define factor\n",
    "training$class_num <- as.factor(training$class_num)\n",
    "\n",
    "# Cross-validation setting\n",
    "MyFolds.cv <- createMultiFolds(training$class_num, k=5, times=10)\n",
    "MyControl.cv <- trainControl(method='repeatedCV', index=MyFolds.cv, allowParallel = TRUE)\n",
    "\n",
    "# Train Random Forest\n",
    "rfModel <- train(class_num~.,training,method='rf', trControl=MyControl.cv,tuneLength=10)\n",
    "resamps.cv <- rfModel$resample\n",
    "accuracy_means <- mean(resamps.cv$Accuracy)\n",
    "kappa_means <- mean(resamps.cv$Kappa)\n",
    "df_means <- data.frame(method='rf',accuracy=accuracy_means, kappa=kappa_means)\n",
    "write.csv(df_means, output_accuracy, row.names=FALSE, quote=FALSE)"
   ]
  },
  {
   "cell_type": "code",
   "execution_count": 73,
   "metadata": {},
   "outputs": [
    {
     "data": {
      "text/html": [
       "<div>\n",
       "<table border=\"1\" class=\"dataframe\">\n",
       "  <thead>\n",
       "    <tr style=\"text-align: right;\">\n",
       "      <th></th>\n",
       "      <th>method</th>\n",
       "      <th>accuracy</th>\n",
       "      <th>kappa</th>\n",
       "    </tr>\n",
       "  </thead>\n",
       "  <tbody>\n",
       "    <tr>\n",
       "      <th>0</th>\n",
       "      <td>rf</td>\n",
       "      <td>0.871898</td>\n",
       "      <td>0.85446</td>\n",
       "    </tr>\n",
       "  </tbody>\n",
       "</table>\n",
       "</div>"
      ],
      "text/plain": [
       "  method  accuracy    kappa\n",
       "0     rf  0.871898  0.85446"
      ]
     },
     "execution_count": 73,
     "metadata": {},
     "output_type": "execute_result"
    }
   ],
   "source": [
    "#### Show mean accuracy results from cross-validation for tuning\n",
    "## Import .csv file\n",
    "accuracy=pd.read_csv(output_accuracy, sep=',',header=0)\n",
    "## Display table\n",
    "accuracy.head(15)"
   ]
  },
  {
   "cell_type": "code",
   "execution_count": 21,
   "metadata": {
    "collapsed": true
   },
   "outputs": [],
   "source": [
    "## Set the path to the output of random forest classification\n",
    "output_varimp=os.path.join(outputfolder,\"VariablesImportance_RF.pdf\")\n",
    "output_rfmodel=os.path.join(outputfolder,\"RF_model.txt\")\n",
    "output_cv=os.path.join(outputfolder,\"RF_cv.pdf\")"
   ]
  },
  {
   "cell_type": "code",
   "execution_count": 75,
   "metadata": {},
   "outputs": [
    {
     "name": "stderr",
     "output_type": "stream",
     "text": [
      "/usr/local/lib/python2.7/dist-packages/rpy2/rinterface/__init__.py:186: RRuntimeWarning: Type 'citation(\"pROC\")' for a citation.\n",
      "\n",
      "  warnings.warn(x, RRuntimeWarning)\n",
      "/usr/local/lib/python2.7/dist-packages/rpy2/rinterface/__init__.py:186: RRuntimeWarning: \n",
      "Attachement du package : ‘pROC’\n",
      "\n",
      "\n",
      "  warnings.warn(x, RRuntimeWarning)\n",
      "/usr/local/lib/python2.7/dist-packages/rpy2/rinterface/__init__.py:186: RRuntimeWarning: The following objects are masked from ‘package:stats’:\n",
      "\n",
      "    cov, smooth, var\n",
      "\n",
      "\n",
      "  warnings.warn(x, RRuntimeWarning)\n"
     ]
    },
    {
     "data": {
      "text/plain": [
       "png \n",
       "  2 \n"
      ]
     },
     "metadata": {},
     "output_type": "display_data"
    }
   ],
   "source": [
    "%%R -i output_varimp,output_rfmodel,output_cv\n",
    "\n",
    "# Plot variable importance\n",
    "library(pROC)\n",
    "importance <- varImp(rfModel, scale=FALSE)\n",
    "pdf(output_varimp, width = 11, height = ncol(features)/6 )\n",
    "print(plot(importance))\n",
    "dev.off()\n",
    "\n",
    "# Show final model\n",
    "tmp<-rfModel$finalModel\n",
    "sink(output_rfmodel)\n",
    "print(tmp)\n",
    "sink()\n",
    "\n",
    "# Plot cross validation tuning results\n",
    "pdf(output_cv)\n",
    "print(plot(rfModel))\n",
    "dev.off()"
   ]
  },
  {
   "cell_type": "code",
   "execution_count": 76,
   "metadata": {},
   "outputs": [
    {
     "name": "stdout",
     "output_type": "stream",
     "text": [
      "\n",
      "Call:\n",
      " randomForest(x = x, y = y, mtry = param$mtry) \n",
      "               Type of random forest: classification\n",
      "                     Number of trees: 500\n",
      "No. of variables tried at each split: 2\n",
      "\n",
      "        OOB estimate of  error rate: 11.97%\n",
      "Confusion matrix:\n",
      "    11  13 14  21  22  31  32 33  34  41 class.error\n",
      "11 355   1  0   2   3   1   0  0   0   0 0.019337017\n",
      "13   1 126  0   0   0   0   0  0   0   0 0.007874016\n",
      "14   1   0 88   3   0   0   0  0   0   7 0.111111111\n",
      "21   5   0  1 130  13   0   4  3   0   0 0.166666667\n",
      "22   3   0  0   7 109   0   2  1   0   0 0.106557377\n",
      "31   0   0  0   0   0 132   0  1  13   0 0.095890411\n",
      "32   0   0  0   6   3   0 117 15  12   0 0.235294118\n",
      "33   0   0  1   2   0   2  19 85  20   2 0.351145038\n",
      "34   0   0  0   0   0  15   9 15 221   0 0.150000000\n",
      "41   3   0  3   1   4   0   0  0   0 137 0.074324324\n",
      "\n"
     ]
    }
   ],
   "source": [
    "#### Import classifiers tuning parameters and confusion matrix\n",
    "## Open file\n",
    "classifier_runs = open(output_rfmodel, 'r')  \n",
    "## Read file\n",
    "print classifier_runs.read()"
   ]
  },
  {
   "cell_type": "markdown",
   "metadata": {},
   "source": [
    "The following cell display pdf figures. Please first install the **Wand** package using the folowwing command in the terminal : \n",
    "\n",
    "``` sudo pip instal Wand ```"
   ]
  },
  {
   "cell_type": "code",
   "execution_count": 77,
   "metadata": {},
   "outputs": [
    {
     "data": {
      "image/png": "[encoded data removed]",
      "text/plain": [
       "<wand.image.Image: d8f8404 'PNG' (792x612)>"
      ]
     },
     "execution_count": 77,
     "metadata": {},
     "output_type": "execute_result"
    }
   ],
   "source": [
    "## Display graphs\n",
    "import wand\n",
    "from wand.image import Image as WImage\n",
    "img = WImage(filename=output_varimp)\n",
    "img"
   ]
  },
  {
   "cell_type": "code",
   "execution_count": 78,
   "metadata": {},
   "outputs": [
    {
     "data": {
      "image/png": "[encoded data removed]",
      "text/plain": [
       "<wand.image.Image: a4597b2 'PNG' (504x504)>"
      ]
     },
     "execution_count": 78,
     "metadata": {},
     "output_type": "execute_result"
    }
   ],
   "source": [
    "## Display graphs\n",
    "import wand\n",
    "from wand.image import Image as WImage\n",
    "img = WImage(filename=output_cv)\n",
    "img"
   ]
  },
  {
   "cell_type": "markdown",
   "metadata": {},
   "source": [
    "## Predict classes for objects"
   ]
  },
  {
   "cell_type": "code",
   "execution_count": 79,
   "metadata": {
    "scrolled": true
   },
   "outputs": [
    {
     "name": "stdout",
     "output_type": "stream",
     "text": [
      "\n",
      "Erreur : variables ‘opt_red_first_quart’, ‘opt_red_median’, ‘opt_nir_median’, ‘opt_nir_first_quart’, ‘opt_nir_third_quart’, ‘opt_red_mean’, ‘opt_red_third_quart’, ‘opt_blue_median’, ‘ndsm_median’, ‘ndsm_mean’, ‘opt_blue_third_quart’, ‘opt_nir_min’, ‘perimeter’, ‘ndsm_first_quart’, ‘compact_square’, ‘opt_green_first_quart’, ‘area’, ‘opt_green_median’, ‘ndsm_perc_90’, ‘opt_blue_stddev’, ‘opt_blue_max’, ‘ndsm_max’ were specified with different types from the fit\n"
     ]
    },
    {
     "name": "stderr",
     "output_type": "stream",
     "text": [
      "/usr/local/lib/python2.7/dist-packages/rpy2/rinterface/__init__.py:186: RRuntimeWarning: Erreur : variables ‘opt_red_first_quart’, ‘opt_red_median’, ‘opt_nir_median’, ‘opt_nir_first_quart’, ‘opt_nir_third_quart’, ‘opt_red_mean’, ‘opt_red_third_quart’, ‘opt_blue_median’, ‘ndsm_median’, ‘ndsm_mean’, ‘opt_blue_third_quart’, ‘opt_nir_min’, ‘perimeter’, ‘ndsm_first_quart’, ‘compact_square’, ‘opt_green_first_quart’, ‘area’, ‘opt_green_median’, ‘ndsm_perc_90’, ‘opt_blue_stddev’, ‘opt_blue_max’, ‘ndsm_max’ were specified with different types from the fit\n",
      "\n",
      "  warnings.warn(x, RRuntimeWarning)\n"
     ]
    }
   ],
   "source": [
    "%%R -i list_objstat_csv\n",
    "\n",
    "# Classification using loop\n",
    "for(i in 1:length(list_objstat_csv)) {\n",
    "    filepath<-list_objstat_csv[i]\n",
    "    # Import object statistics as dataframe\n",
    "    features <- read.csv(filepath, sep=\",\", header=TRUE, row.names=1)\n",
    "    # Predict class \n",
    "    predicted <- data.frame(predict(rfModel, features))\n",
    "    name<-paste('resultsdf',i,sep='')\n",
    "    assign(name,data.frame(id=rownames(features), predicted))\n",
    "    rm(features)\n",
    "    rm(predicted)\n",
    "    gc()\n",
    "}"
   ]
  },
  {
   "cell_type": "code",
   "execution_count": 80,
   "metadata": {
    "collapsed": true
   },
   "outputs": [],
   "source": [
    "%%R\n",
    "\n",
    "# Merge predictions in one single dataframe\n",
    "listdf<-lapply(ls(pattern = \"resultsdf*\"), get)\n",
    "rf_predictions<-do.call(rbind,listdf)"
   ]
  },
  {
   "cell_type": "markdown",
   "metadata": {
    "collapsed": true
   },
   "source": [
    "### Save training set and predictions in .csv files"
   ]
  },
  {
   "cell_type": "code",
   "execution_count": 22,
   "metadata": {
    "collapsed": true
   },
   "outputs": [],
   "source": [
    "## Define outputfile for .csv with training data for R\n",
    "trainingset_R=os.path.join(outputfolder,\"RF_trainingset_R.csv\")\n",
    "## Define outputfile for .csv with predictions of classification\n",
    "classif_results=os.path.join(outputfolder,\"RF_classif_results_R.csv\")"
   ]
  },
  {
   "cell_type": "code",
   "execution_count": 82,
   "metadata": {
    "collapsed": true
   },
   "outputs": [],
   "source": [
    "%%R -i trainingset_R,classif_results\n",
    "write.csv(training, file=trainingset_R, row.names=FALSE, quote=FALSE)\n",
    "write.csv(rf_predictions, file=classif_results, row.names=FALSE, quote=FALSE)"
   ]
  },
  {
   "cell_type": "code",
   "execution_count": 83,
   "metadata": {},
   "outputs": [
    {
     "data": {
      "text/plain": [
       "           used  (Mb) gc trigger   (Mb)  max used   (Mb)\n",
       "Ncells 17528805 936.2   30163339 1610.9  19661350 1050.1\n",
       "Vcells 73376365 559.9  202906586 1548.1 253343085 1932.9\n"
      ]
     },
     "metadata": {},
     "output_type": "display_data"
    }
   ],
   "source": [
    "%%R \n",
    "\n",
    "# Remove variables not needed anymore\n",
    "rm(training)\n",
    "gc()\n",
    "\n",
    "rm(list=ls(pattern = \"resultsdf*\"))\n",
    "rm(listdf)\n",
    "gc()"
   ]
  },
  {
   "cell_type": "markdown",
   "metadata": {},
   "source": [
    "### Delete csv files with object statistics for each loop of classification"
   ]
  },
  {
   "cell_type": "code",
   "execution_count": null,
   "metadata": {
    "collapsed": true
   },
   "outputs": [],
   "source": [
    "for csv in list_objstat_csv:\n",
    "    os.remove(csv)"
   ]
  },
  {
   "cell_type": "markdown",
   "metadata": {},
   "source": [
    "<center> <font size=3> <h2>Import classification results in postgis </h2> </font> </center>  "
   ]
  },
  {
   "cell_type": "code",
   "execution_count": 23,
   "metadata": {
    "collapsed": true
   },
   "outputs": [],
   "source": [
    "# Connect to an existing database\n",
    "db=pg.connect(database=dbname, user=dbuser, password=dbpassword, host=host)\n",
    "# Open a cursor to perform database operations\n",
    "cur=db.cursor()"
   ]
  },
  {
   "cell_type": "markdown",
   "metadata": {},
   "source": [
    "### Import predictions of Random forest at level 2"
   ]
  },
  {
   "cell_type": "code",
   "execution_count": 22,
   "metadata": {
    "collapsed": true
   },
   "outputs": [],
   "source": [
    "# Drop table if exists:\n",
    "cur.execute(\"DROP TABLE IF EXISTS \"+classifB_schema+\".\"+classif)\n",
    "# Make the changes to the database persistent\n",
    "db.commit()\n",
    "\n",
    "# Create new table\n",
    "query=\"CREATE TABLE \"+classifB_schema+\".\"+classif+\" (seg_id integer PRIMARY KEY, rf_pred_l2 integer)\"\n",
    "# Execute the CREATE TABLE query \n",
    "cur.execute(query)\n",
    "# Make the changes to the database persistent\n",
    "db.commit()\n",
    "\n",
    "# Create query for copy data from csv\n",
    "query=\"COPY \"+classifB_schema+\".\"+classif+\" FROM '\"+str(classif_results)+\"' HEADER DELIMITER ',' CSV\" \n",
    "# Execute the COPY FROM CSV query \n",
    "cur.execute(query)\n",
    "# Make the changes to the database persistent\n",
    "db.commit()    "
   ]
  },
  {
   "cell_type": "markdown",
   "metadata": {},
   "source": [
    "### Merge classes of level 2 to reach level 2b"
   ]
  },
  {
   "cell_type": "code",
   "execution_count": 23,
   "metadata": {
    "collapsed": true
   },
   "outputs": [],
   "source": [
    "## Add column for prediction at level 2b\n",
    "query=\"ALTER TABLE \"+classifB_schema+\".\"+classif+\" ADD COLUMN rf_pred_l2b integer\"\n",
    "# Execute the query \n",
    "cur.execute(query)\n",
    "# Make the changes to the database persistent\n",
    "db.commit()\n",
    "\n",
    "# Update the value\n",
    "query=\"UPDATE \"+classifB_schema+\".\"+classif+\" SET \\\n",
    "rf_pred_l2b = '20' WHERE  rf_pred_l2 IN ('21','22')\"\n",
    "# Execute the query \n",
    "cur.execute(query)\n",
    "# Make the changes to the database persistent\n",
    "db.commit()\n",
    "\n",
    "# Update the value\n",
    "query=\"UPDATE \"+classifB_schema+\".\"+classif+\" SET \\\n",
    "rf_pred_l2b = '30' WHERE  rf_pred_l2 IN ('32','33','34')\"\n",
    "# Execute the query \n",
    "cur.execute(query)\n",
    "# Make the changes to the database persistent\n",
    "db.commit()\n",
    "\n",
    "# Update the value\n",
    "query=\"UPDATE \"+classifB_schema+\".\"+classif+\" SET \\\n",
    "rf_pred_l2b = rf_pred_l2 WHERE rf_pred_l2b IS NULL\"\n",
    "# Execute the query \n",
    "cur.execute(query)\n",
    "# Make the changes to the database persistent\n",
    "db.commit()"
   ]
  },
  {
   "cell_type": "markdown",
   "metadata": {},
   "source": [
    "### Merge classes of level 2 to reach level 1"
   ]
  },
  {
   "cell_type": "code",
   "execution_count": 24,
   "metadata": {
    "collapsed": true
   },
   "outputs": [],
   "source": [
    "## Add column for prediction at level 1\n",
    "query=\"ALTER TABLE \"+classifB_schema+\".\"+classif+\" ADD COLUMN rf_pred_l1 integer\"\n",
    "# Execute the query \n",
    "cur.execute(query)\n",
    "## Update column for prediction and ground truth at level 2 \n",
    "query=\"UPDATE \"+classifB_schema+\".\"+classif+\" SET rf_pred_l1=rf_pred_l2/10\"\n",
    "# Execute the query \n",
    "cur.execute(query)\n",
    "# Make the changes to the database persistent\n",
    "db.commit()"
   ]
  },
  {
   "cell_type": "markdown",
   "metadata": {},
   "source": [
    "### Export to csv for archive"
   ]
  },
  {
   "cell_type": "code",
   "execution_count": 25,
   "metadata": {
    "collapsed": true
   },
   "outputs": [],
   "source": [
    "## Define path of .txt file for saving prediction at different level\n",
    "outputfile=classif_results.split(\".\")[0]+'_diff_levels.csv'"
   ]
  },
  {
   "cell_type": "code",
   "execution_count": 26,
   "metadata": {
    "collapsed": true
   },
   "outputs": [],
   "source": [
    "#### Export as .csv\n",
    "# Query\n",
    "query=\"COPY \"+classifB_schema+\".\"+classif+\" TO '\"+outputfile+\"' DELIMITER ',' CSV HEADER\"\n",
    "# Execute the CREATE TABLE query \n",
    "cur.execute(query)\n",
    "# Make the changes to the database persistent\n",
    "db.commit()"
   ]
  },
  {
   "cell_type": "code",
   "execution_count": 27,
   "metadata": {
    "collapsed": true
   },
   "outputs": [],
   "source": [
    "# Close cursor and communication with the database\n",
    "cur.close()\n",
    "db.close()"
   ]
  },
  {
   "cell_type": "markdown",
   "metadata": {},
   "source": [
    "<center> <font size=3> <h2>Accuracy assesment</h2> </font> </center>  "
   ]
  },
  {
   "cell_type": "markdown",
   "metadata": {},
   "source": [
    "### Change the outputfolder"
   ]
  },
  {
   "cell_type": "code",
   "execution_count": 43,
   "metadata": {
    "collapsed": true
   },
   "outputs": [],
   "source": [
    "## Folder in which save processing time output\n",
    "outputfolder=os.path.join(resultfolder,\"accuracy_assess\")\n",
    "\n",
    "## Create the folder if does not exists\n",
    "if not os.path.exists(outputfolder):\n",
    "    os.makedirs(outputfolder)\n",
    "    print \"Folder '\"+outputfolder+\"' created\""
   ]
  },
  {
   "cell_type": "markdown",
   "metadata": {
    "collapsed": true
   },
   "source": [
    "## Join sample test and classifier predictions in postgresql"
   ]
  },
  {
   "cell_type": "code",
   "execution_count": 32,
   "metadata": {
    "collapsed": true
   },
   "outputs": [],
   "source": [
    "# Connect to an existing database\n",
    "db=pg.connect(database=dbname, user=dbuser, password=dbpassword, host=host)\n",
    "# Open a cursor to perform database operations\n",
    "cur=db.cursor()"
   ]
  },
  {
   "cell_type": "code",
   "execution_count": 33,
   "metadata": {
    "collapsed": true
   },
   "outputs": [],
   "source": [
    "# Build a query to drop view if exists\n",
    "query=\"DROP TABLE IF EXISTS \"+classifB_schema+\".\"+groundtruth_classif\n",
    "# Execute the query \n",
    "cur.execute(query)\n",
    "# Make the changes to the database persistent\n",
    "db.commit()"
   ]
  },
  {
   "cell_type": "code",
   "execution_count": 34,
   "metadata": {
    "collapsed": true
   },
   "outputs": [],
   "source": [
    "#### Join sample_test and classification results\n",
    "query=\"CREATE TABLE \"+classifB_schema+\".\"+groundtruth_classif+\" AS (\\\n",
    "SELECT a.cat_point, a.id, \\\n",
    "a.class AS level2_label, \\\n",
    "a.class_b AS level2b_label, \\\n",
    "a.class_l1 AS level1_label, \\\n",
    "a.class_num::integer AS level2_groundtr, \\\n",
    "a.class_num_b::integer AS level2b_groundtr, \\\n",
    "a.class_num_l1::integer AS level1_groundtr, \\\n",
    "c.rf_pred_l2 AS rf_level2, \\\n",
    "c.rf_pred_l2b AS rf_level2b, \\\n",
    "c.rf_pred_l1 AS rf_level1 \\\n",
    "FROM \"+sample_schema+\".\"+sample_test+\" AS a \\\n",
    "LEFT JOIN \"+classifB_schema+\".\"+classif+\" AS c ON a.seg_id = c.seg_id)\"\n",
    "# Execute the query \n",
    "cur.execute(query)\n",
    "# Make the changes to the database persistent\n",
    "db.commit()"
   ]
  },
  {
   "cell_type": "code",
   "execution_count": 24,
   "metadata": {},
   "outputs": [
    {
     "data": {
      "text/html": [
       "<div>\n",
       "<table border=\"1\" class=\"dataframe\">\n",
       "  <thead>\n",
       "    <tr style=\"text-align: right;\">\n",
       "      <th></th>\n",
       "      <th>cat_point</th>\n",
       "      <th>id</th>\n",
       "      <th>level2_label</th>\n",
       "      <th>level2b_label</th>\n",
       "      <th>level1_label</th>\n",
       "      <th>level2_groundtr</th>\n",
       "      <th>level2b_groundtr</th>\n",
       "      <th>level1_groundtr</th>\n",
       "      <th>rf_level2</th>\n",
       "      <th>rf_level2b</th>\n",
       "      <th>rf_level1</th>\n",
       "    </tr>\n",
       "  </thead>\n",
       "  <tbody>\n",
       "    <tr>\n",
       "      <th>0</th>\n",
       "      <td>1834</td>\n",
       "      <td>1007</td>\n",
       "      <td>Dry vegetation</td>\n",
       "      <td>Low vegetation</td>\n",
       "      <td>Vegetation</td>\n",
       "      <td>33</td>\n",
       "      <td>30</td>\n",
       "      <td>3</td>\n",
       "      <td>32</td>\n",
       "      <td>30</td>\n",
       "      <td>3</td>\n",
       "    </tr>\n",
       "    <tr>\n",
       "      <th>1</th>\n",
       "      <td>1842</td>\n",
       "      <td>1012</td>\n",
       "      <td>Other vegetation</td>\n",
       "      <td>Low vegetation</td>\n",
       "      <td>Vegetation</td>\n",
       "      <td>34</td>\n",
       "      <td>30</td>\n",
       "      <td>3</td>\n",
       "      <td>33</td>\n",
       "      <td>30</td>\n",
       "      <td>3</td>\n",
       "    </tr>\n",
       "    <tr>\n",
       "      <th>2</th>\n",
       "      <td>1851</td>\n",
       "      <td>1018</td>\n",
       "      <td>Other vegetation</td>\n",
       "      <td>Low vegetation</td>\n",
       "      <td>Vegetation</td>\n",
       "      <td>34</td>\n",
       "      <td>30</td>\n",
       "      <td>3</td>\n",
       "      <td>32</td>\n",
       "      <td>30</td>\n",
       "      <td>3</td>\n",
       "    </tr>\n",
       "    <tr>\n",
       "      <th>3</th>\n",
       "      <td>1858</td>\n",
       "      <td>1022</td>\n",
       "      <td>Brown/red bare soil</td>\n",
       "      <td>Bare soils</td>\n",
       "      <td>Natural material surfaces</td>\n",
       "      <td>21</td>\n",
       "      <td>20</td>\n",
       "      <td>2</td>\n",
       "      <td>21</td>\n",
       "      <td>20</td>\n",
       "      <td>2</td>\n",
       "    </tr>\n",
       "    <tr>\n",
       "      <th>4</th>\n",
       "      <td>274</td>\n",
       "      <td>1022</td>\n",
       "      <td>Buildings</td>\n",
       "      <td>Buildings</td>\n",
       "      <td>Artificial surfaces</td>\n",
       "      <td>11</td>\n",
       "      <td>11</td>\n",
       "      <td>1</td>\n",
       "      <td>11</td>\n",
       "      <td>11</td>\n",
       "      <td>1</td>\n",
       "    </tr>\n",
       "    <tr>\n",
       "      <th>5</th>\n",
       "      <td>1859</td>\n",
       "      <td>1024</td>\n",
       "      <td>Mixed bare soil/vegetation</td>\n",
       "      <td>Low vegetation</td>\n",
       "      <td>Vegetation</td>\n",
       "      <td>32</td>\n",
       "      <td>30</td>\n",
       "      <td>3</td>\n",
       "      <td>32</td>\n",
       "      <td>30</td>\n",
       "      <td>3</td>\n",
       "    </tr>\n",
       "    <tr>\n",
       "      <th>6</th>\n",
       "      <td>1860</td>\n",
       "      <td>1025</td>\n",
       "      <td>Trees</td>\n",
       "      <td>Trees</td>\n",
       "      <td>Vegetation</td>\n",
       "      <td>31</td>\n",
       "      <td>31</td>\n",
       "      <td>3</td>\n",
       "      <td>31</td>\n",
       "      <td>31</td>\n",
       "      <td>3</td>\n",
       "    </tr>\n",
       "    <tr>\n",
       "      <th>7</th>\n",
       "      <td>1861</td>\n",
       "      <td>1025</td>\n",
       "      <td>Inland waters</td>\n",
       "      <td>Inland waters</td>\n",
       "      <td>Water</td>\n",
       "      <td>41</td>\n",
       "      <td>41</td>\n",
       "      <td>4</td>\n",
       "      <td>41</td>\n",
       "      <td>41</td>\n",
       "      <td>4</td>\n",
       "    </tr>\n",
       "    <tr>\n",
       "      <th>8</th>\n",
       "      <td>1871</td>\n",
       "      <td>1031</td>\n",
       "      <td>Mixed bare soil/vegetation</td>\n",
       "      <td>Low vegetation</td>\n",
       "      <td>Vegetation</td>\n",
       "      <td>32</td>\n",
       "      <td>30</td>\n",
       "      <td>3</td>\n",
       "      <td>32</td>\n",
       "      <td>30</td>\n",
       "      <td>3</td>\n",
       "    </tr>\n",
       "    <tr>\n",
       "      <th>9</th>\n",
       "      <td>1878</td>\n",
       "      <td>1036</td>\n",
       "      <td>Trees</td>\n",
       "      <td>Trees</td>\n",
       "      <td>Vegetation</td>\n",
       "      <td>31</td>\n",
       "      <td>31</td>\n",
       "      <td>3</td>\n",
       "      <td>34</td>\n",
       "      <td>30</td>\n",
       "      <td>3</td>\n",
       "    </tr>\n",
       "    <tr>\n",
       "      <th>10</th>\n",
       "      <td>284</td>\n",
       "      <td>1037</td>\n",
       "      <td>Buildings</td>\n",
       "      <td>Buildings</td>\n",
       "      <td>Artificial surfaces</td>\n",
       "      <td>11</td>\n",
       "      <td>11</td>\n",
       "      <td>1</td>\n",
       "      <td>11</td>\n",
       "      <td>11</td>\n",
       "      <td>1</td>\n",
       "    </tr>\n",
       "    <tr>\n",
       "      <th>11</th>\n",
       "      <td>1882</td>\n",
       "      <td>1041</td>\n",
       "      <td>Inland waters</td>\n",
       "      <td>Inland waters</td>\n",
       "      <td>Water</td>\n",
       "      <td>41</td>\n",
       "      <td>41</td>\n",
       "      <td>4</td>\n",
       "      <td>41</td>\n",
       "      <td>41</td>\n",
       "      <td>4</td>\n",
       "    </tr>\n",
       "    <tr>\n",
       "      <th>12</th>\n",
       "      <td>1884</td>\n",
       "      <td>1042</td>\n",
       "      <td>Mixed bare soil/vegetation</td>\n",
       "      <td>Low vegetation</td>\n",
       "      <td>Vegetation</td>\n",
       "      <td>32</td>\n",
       "      <td>30</td>\n",
       "      <td>3</td>\n",
       "      <td>32</td>\n",
       "      <td>30</td>\n",
       "      <td>3</td>\n",
       "    </tr>\n",
       "    <tr>\n",
       "      <th>13</th>\n",
       "      <td>1892</td>\n",
       "      <td>1047</td>\n",
       "      <td>Dry vegetation</td>\n",
       "      <td>Low vegetation</td>\n",
       "      <td>Vegetation</td>\n",
       "      <td>33</td>\n",
       "      <td>30</td>\n",
       "      <td>3</td>\n",
       "      <td>33</td>\n",
       "      <td>30</td>\n",
       "      <td>3</td>\n",
       "    </tr>\n",
       "    <tr>\n",
       "      <th>14</th>\n",
       "      <td>1898</td>\n",
       "      <td>1050</td>\n",
       "      <td>White/grey bare soil</td>\n",
       "      <td>Bare soils</td>\n",
       "      <td>Natural material surfaces</td>\n",
       "      <td>22</td>\n",
       "      <td>20</td>\n",
       "      <td>2</td>\n",
       "      <td>22</td>\n",
       "      <td>20</td>\n",
       "      <td>2</td>\n",
       "    </tr>\n",
       "    <tr>\n",
       "      <th>15</th>\n",
       "      <td>1901</td>\n",
       "      <td>1052</td>\n",
       "      <td>Inland waters</td>\n",
       "      <td>Inland waters</td>\n",
       "      <td>Water</td>\n",
       "      <td>41</td>\n",
       "      <td>41</td>\n",
       "      <td>4</td>\n",
       "      <td>41</td>\n",
       "      <td>41</td>\n",
       "      <td>4</td>\n",
       "    </tr>\n",
       "    <tr>\n",
       "      <th>16</th>\n",
       "      <td>293</td>\n",
       "      <td>1054</td>\n",
       "      <td>Buildings</td>\n",
       "      <td>Buildings</td>\n",
       "      <td>Artificial surfaces</td>\n",
       "      <td>11</td>\n",
       "      <td>11</td>\n",
       "      <td>1</td>\n",
       "      <td>11</td>\n",
       "      <td>11</td>\n",
       "      <td>1</td>\n",
       "    </tr>\n",
       "    <tr>\n",
       "      <th>17</th>\n",
       "      <td>1904</td>\n",
       "      <td>1054</td>\n",
       "      <td>Inland waters</td>\n",
       "      <td>Inland waters</td>\n",
       "      <td>Water</td>\n",
       "      <td>41</td>\n",
       "      <td>41</td>\n",
       "      <td>4</td>\n",
       "      <td>32</td>\n",
       "      <td>30</td>\n",
       "      <td>3</td>\n",
       "    </tr>\n",
       "    <tr>\n",
       "      <th>18</th>\n",
       "      <td>1911</td>\n",
       "      <td>1058</td>\n",
       "      <td>Trees</td>\n",
       "      <td>Trees</td>\n",
       "      <td>Vegetation</td>\n",
       "      <td>31</td>\n",
       "      <td>31</td>\n",
       "      <td>3</td>\n",
       "      <td>31</td>\n",
       "      <td>31</td>\n",
       "      <td>3</td>\n",
       "    </tr>\n",
       "    <tr>\n",
       "      <th>19</th>\n",
       "      <td>1919</td>\n",
       "      <td>1063</td>\n",
       "      <td>Dry vegetation</td>\n",
       "      <td>Low vegetation</td>\n",
       "      <td>Vegetation</td>\n",
       "      <td>33</td>\n",
       "      <td>30</td>\n",
       "      <td>3</td>\n",
       "      <td>34</td>\n",
       "      <td>30</td>\n",
       "      <td>3</td>\n",
       "    </tr>\n",
       "    <tr>\n",
       "      <th>20</th>\n",
       "      <td>299</td>\n",
       "      <td>1065</td>\n",
       "      <td>Buildings</td>\n",
       "      <td>Buildings</td>\n",
       "      <td>Artificial surfaces</td>\n",
       "      <td>11</td>\n",
       "      <td>11</td>\n",
       "      <td>1</td>\n",
       "      <td>11</td>\n",
       "      <td>11</td>\n",
       "      <td>1</td>\n",
       "    </tr>\n",
       "    <tr>\n",
       "      <th>21</th>\n",
       "      <td>1920</td>\n",
       "      <td>1065</td>\n",
       "      <td>White/grey bare soil</td>\n",
       "      <td>Bare soils</td>\n",
       "      <td>Natural material surfaces</td>\n",
       "      <td>22</td>\n",
       "      <td>20</td>\n",
       "      <td>2</td>\n",
       "      <td>22</td>\n",
       "      <td>20</td>\n",
       "      <td>2</td>\n",
       "    </tr>\n",
       "    <tr>\n",
       "      <th>22</th>\n",
       "      <td>1930</td>\n",
       "      <td>1071</td>\n",
       "      <td>White/grey bare soil</td>\n",
       "      <td>Bare soils</td>\n",
       "      <td>Natural material surfaces</td>\n",
       "      <td>22</td>\n",
       "      <td>20</td>\n",
       "      <td>2</td>\n",
       "      <td>22</td>\n",
       "      <td>20</td>\n",
       "      <td>2</td>\n",
       "    </tr>\n",
       "    <tr>\n",
       "      <th>23</th>\n",
       "      <td>1929</td>\n",
       "      <td>1071</td>\n",
       "      <td>Dry vegetation</td>\n",
       "      <td>Low vegetation</td>\n",
       "      <td>Vegetation</td>\n",
       "      <td>33</td>\n",
       "      <td>30</td>\n",
       "      <td>3</td>\n",
       "      <td>33</td>\n",
       "      <td>30</td>\n",
       "      <td>3</td>\n",
       "    </tr>\n",
       "    <tr>\n",
       "      <th>24</th>\n",
       "      <td>1931</td>\n",
       "      <td>1072</td>\n",
       "      <td>Brown/red bare soil</td>\n",
       "      <td>Bare soils</td>\n",
       "      <td>Natural material surfaces</td>\n",
       "      <td>21</td>\n",
       "      <td>20</td>\n",
       "      <td>2</td>\n",
       "      <td>21</td>\n",
       "      <td>20</td>\n",
       "      <td>2</td>\n",
       "    </tr>\n",
       "    <tr>\n",
       "      <th>25</th>\n",
       "      <td>1935</td>\n",
       "      <td>1074</td>\n",
       "      <td>White/grey bare soil</td>\n",
       "      <td>Bare soils</td>\n",
       "      <td>Natural material surfaces</td>\n",
       "      <td>22</td>\n",
       "      <td>20</td>\n",
       "      <td>2</td>\n",
       "      <td>22</td>\n",
       "      <td>20</td>\n",
       "      <td>2</td>\n",
       "    </tr>\n",
       "    <tr>\n",
       "      <th>26</th>\n",
       "      <td>1939</td>\n",
       "      <td>1076</td>\n",
       "      <td>Trees</td>\n",
       "      <td>Trees</td>\n",
       "      <td>Vegetation</td>\n",
       "      <td>31</td>\n",
       "      <td>31</td>\n",
       "      <td>3</td>\n",
       "      <td>31</td>\n",
       "      <td>31</td>\n",
       "      <td>3</td>\n",
       "    </tr>\n",
       "    <tr>\n",
       "      <th>27</th>\n",
       "      <td>304</td>\n",
       "      <td>1080</td>\n",
       "      <td>Buildings</td>\n",
       "      <td>Buildings</td>\n",
       "      <td>Artificial surfaces</td>\n",
       "      <td>11</td>\n",
       "      <td>11</td>\n",
       "      <td>1</td>\n",
       "      <td>11</td>\n",
       "      <td>11</td>\n",
       "      <td>1</td>\n",
       "    </tr>\n",
       "    <tr>\n",
       "      <th>28</th>\n",
       "      <td>1948</td>\n",
       "      <td>1082</td>\n",
       "      <td>White/grey bare soil</td>\n",
       "      <td>Bare soils</td>\n",
       "      <td>Natural material surfaces</td>\n",
       "      <td>22</td>\n",
       "      <td>20</td>\n",
       "      <td>2</td>\n",
       "      <td>22</td>\n",
       "      <td>20</td>\n",
       "      <td>2</td>\n",
       "    </tr>\n",
       "    <tr>\n",
       "      <th>29</th>\n",
       "      <td>1954</td>\n",
       "      <td>1085</td>\n",
       "      <td>White/grey bare soil</td>\n",
       "      <td>Bare soils</td>\n",
       "      <td>Natural material surfaces</td>\n",
       "      <td>22</td>\n",
       "      <td>20</td>\n",
       "      <td>2</td>\n",
       "      <td>22</td>\n",
       "      <td>20</td>\n",
       "      <td>2</td>\n",
       "    </tr>\n",
       "    <tr>\n",
       "      <th>30</th>\n",
       "      <td>1956</td>\n",
       "      <td>1087</td>\n",
       "      <td>Asphalt surfaces</td>\n",
       "      <td>Asphalt surfaces</td>\n",
       "      <td>Artificial surfaces</td>\n",
       "      <td>14</td>\n",
       "      <td>14</td>\n",
       "      <td>1</td>\n",
       "      <td>14</td>\n",
       "      <td>14</td>\n",
       "      <td>1</td>\n",
       "    </tr>\n",
       "    <tr>\n",
       "      <th>31</th>\n",
       "      <td>587</td>\n",
       "      <td>109</td>\n",
       "      <td>Dry vegetation</td>\n",
       "      <td>Low vegetation</td>\n",
       "      <td>Vegetation</td>\n",
       "      <td>33</td>\n",
       "      <td>30</td>\n",
       "      <td>3</td>\n",
       "      <td>34</td>\n",
       "      <td>30</td>\n",
       "      <td>3</td>\n",
       "    </tr>\n",
       "    <tr>\n",
       "      <th>32</th>\n",
       "      <td>309</td>\n",
       "      <td>1093</td>\n",
       "      <td>Buildings</td>\n",
       "      <td>Buildings</td>\n",
       "      <td>Artificial surfaces</td>\n",
       "      <td>11</td>\n",
       "      <td>11</td>\n",
       "      <td>1</td>\n",
       "      <td>11</td>\n",
       "      <td>11</td>\n",
       "      <td>1</td>\n",
       "    </tr>\n",
       "    <tr>\n",
       "      <th>33</th>\n",
       "      <td>1973</td>\n",
       "      <td>1098</td>\n",
       "      <td>Dry vegetation</td>\n",
       "      <td>Low vegetation</td>\n",
       "      <td>Vegetation</td>\n",
       "      <td>33</td>\n",
       "      <td>30</td>\n",
       "      <td>3</td>\n",
       "      <td>34</td>\n",
       "      <td>30</td>\n",
       "      <td>3</td>\n",
       "    </tr>\n",
       "    <tr>\n",
       "      <th>34</th>\n",
       "      <td>1977</td>\n",
       "      <td>1101</td>\n",
       "      <td>Mixed bare soil/vegetation</td>\n",
       "      <td>Low vegetation</td>\n",
       "      <td>Vegetation</td>\n",
       "      <td>32</td>\n",
       "      <td>30</td>\n",
       "      <td>3</td>\n",
       "      <td>32</td>\n",
       "      <td>30</td>\n",
       "      <td>3</td>\n",
       "    </tr>\n",
       "    <tr>\n",
       "      <th>35</th>\n",
       "      <td>1979</td>\n",
       "      <td>1102</td>\n",
       "      <td>Other vegetation</td>\n",
       "      <td>Low vegetation</td>\n",
       "      <td>Vegetation</td>\n",
       "      <td>34</td>\n",
       "      <td>30</td>\n",
       "      <td>3</td>\n",
       "      <td>34</td>\n",
       "      <td>30</td>\n",
       "      <td>3</td>\n",
       "    </tr>\n",
       "    <tr>\n",
       "      <th>36</th>\n",
       "      <td>1985</td>\n",
       "      <td>1106</td>\n",
       "      <td>Brown/red bare soil</td>\n",
       "      <td>Bare soils</td>\n",
       "      <td>Natural material surfaces</td>\n",
       "      <td>21</td>\n",
       "      <td>20</td>\n",
       "      <td>2</td>\n",
       "      <td>21</td>\n",
       "      <td>20</td>\n",
       "      <td>2</td>\n",
       "    </tr>\n",
       "    <tr>\n",
       "      <th>37</th>\n",
       "      <td>1987</td>\n",
       "      <td>1108</td>\n",
       "      <td>White/grey bare soil</td>\n",
       "      <td>Bare soils</td>\n",
       "      <td>Natural material surfaces</td>\n",
       "      <td>22</td>\n",
       "      <td>20</td>\n",
       "      <td>2</td>\n",
       "      <td>22</td>\n",
       "      <td>20</td>\n",
       "      <td>2</td>\n",
       "    </tr>\n",
       "    <tr>\n",
       "      <th>38</th>\n",
       "      <td>1993</td>\n",
       "      <td>1111</td>\n",
       "      <td>White/grey bare soil</td>\n",
       "      <td>Bare soils</td>\n",
       "      <td>Natural material surfaces</td>\n",
       "      <td>22</td>\n",
       "      <td>20</td>\n",
       "      <td>2</td>\n",
       "      <td>22</td>\n",
       "      <td>20</td>\n",
       "      <td>2</td>\n",
       "    </tr>\n",
       "    <tr>\n",
       "      <th>39</th>\n",
       "      <td>1999</td>\n",
       "      <td>1115</td>\n",
       "      <td>Brown/red bare soil</td>\n",
       "      <td>Bare soils</td>\n",
       "      <td>Natural material surfaces</td>\n",
       "      <td>21</td>\n",
       "      <td>20</td>\n",
       "      <td>2</td>\n",
       "      <td>21</td>\n",
       "      <td>20</td>\n",
       "      <td>2</td>\n",
       "    </tr>\n",
       "    <tr>\n",
       "      <th>40</th>\n",
       "      <td>2004</td>\n",
       "      <td>1117</td>\n",
       "      <td>Inland waters</td>\n",
       "      <td>Inland waters</td>\n",
       "      <td>Water</td>\n",
       "      <td>41</td>\n",
       "      <td>41</td>\n",
       "      <td>4</td>\n",
       "      <td>41</td>\n",
       "      <td>41</td>\n",
       "      <td>4</td>\n",
       "    </tr>\n",
       "    <tr>\n",
       "      <th>41</th>\n",
       "      <td>2009</td>\n",
       "      <td>1121</td>\n",
       "      <td>Other vegetation</td>\n",
       "      <td>Low vegetation</td>\n",
       "      <td>Vegetation</td>\n",
       "      <td>34</td>\n",
       "      <td>30</td>\n",
       "      <td>3</td>\n",
       "      <td>34</td>\n",
       "      <td>30</td>\n",
       "      <td>3</td>\n",
       "    </tr>\n",
       "    <tr>\n",
       "      <th>42</th>\n",
       "      <td>2022</td>\n",
       "      <td>1132</td>\n",
       "      <td>Asphalt surfaces</td>\n",
       "      <td>Asphalt surfaces</td>\n",
       "      <td>Artificial surfaces</td>\n",
       "      <td>14</td>\n",
       "      <td>14</td>\n",
       "      <td>1</td>\n",
       "      <td>14</td>\n",
       "      <td>14</td>\n",
       "      <td>1</td>\n",
       "    </tr>\n",
       "    <tr>\n",
       "      <th>43</th>\n",
       "      <td>2029</td>\n",
       "      <td>1137</td>\n",
       "      <td>Other vegetation</td>\n",
       "      <td>Low vegetation</td>\n",
       "      <td>Vegetation</td>\n",
       "      <td>34</td>\n",
       "      <td>30</td>\n",
       "      <td>3</td>\n",
       "      <td>31</td>\n",
       "      <td>31</td>\n",
       "      <td>3</td>\n",
       "    </tr>\n",
       "    <tr>\n",
       "      <th>44</th>\n",
       "      <td>2030</td>\n",
       "      <td>1138</td>\n",
       "      <td>Inland waters</td>\n",
       "      <td>Inland waters</td>\n",
       "      <td>Water</td>\n",
       "      <td>41</td>\n",
       "      <td>41</td>\n",
       "      <td>4</td>\n",
       "      <td>41</td>\n",
       "      <td>41</td>\n",
       "      <td>4</td>\n",
       "    </tr>\n",
       "    <tr>\n",
       "      <th>45</th>\n",
       "      <td>337</td>\n",
       "      <td>1140</td>\n",
       "      <td>Buildings</td>\n",
       "      <td>Buildings</td>\n",
       "      <td>Artificial surfaces</td>\n",
       "      <td>11</td>\n",
       "      <td>11</td>\n",
       "      <td>1</td>\n",
       "      <td>11</td>\n",
       "      <td>11</td>\n",
       "      <td>1</td>\n",
       "    </tr>\n",
       "    <tr>\n",
       "      <th>46</th>\n",
       "      <td>355</td>\n",
       "      <td>1142</td>\n",
       "      <td>Trees</td>\n",
       "      <td>Trees</td>\n",
       "      <td>Vegetation</td>\n",
       "      <td>31</td>\n",
       "      <td>31</td>\n",
       "      <td>3</td>\n",
       "      <td>31</td>\n",
       "      <td>31</td>\n",
       "      <td>3</td>\n",
       "    </tr>\n",
       "    <tr>\n",
       "      <th>47</th>\n",
       "      <td>2041</td>\n",
       "      <td>1146</td>\n",
       "      <td>Trees</td>\n",
       "      <td>Trees</td>\n",
       "      <td>Vegetation</td>\n",
       "      <td>31</td>\n",
       "      <td>31</td>\n",
       "      <td>3</td>\n",
       "      <td>31</td>\n",
       "      <td>31</td>\n",
       "      <td>3</td>\n",
       "    </tr>\n",
       "    <tr>\n",
       "      <th>48</th>\n",
       "      <td>591</td>\n",
       "      <td>115</td>\n",
       "      <td>White/grey bare soil</td>\n",
       "      <td>Bare soils</td>\n",
       "      <td>Natural material surfaces</td>\n",
       "      <td>22</td>\n",
       "      <td>20</td>\n",
       "      <td>2</td>\n",
       "      <td>22</td>\n",
       "      <td>20</td>\n",
       "      <td>2</td>\n",
       "    </tr>\n",
       "    <tr>\n",
       "      <th>49</th>\n",
       "      <td>341</td>\n",
       "      <td>1151</td>\n",
       "      <td>Buildings</td>\n",
       "      <td>Buildings</td>\n",
       "      <td>Artificial surfaces</td>\n",
       "      <td>11</td>\n",
       "      <td>11</td>\n",
       "      <td>1</td>\n",
       "      <td>11</td>\n",
       "      <td>11</td>\n",
       "      <td>1</td>\n",
       "    </tr>\n",
       "  </tbody>\n",
       "</table>\n",
       "</div>"
      ],
      "text/plain": [
       "    cat_point    id                level2_label     level2b_label  \\\n",
       "0        1834  1007              Dry vegetation    Low vegetation   \n",
       "1        1842  1012            Other vegetation    Low vegetation   \n",
       "2        1851  1018            Other vegetation    Low vegetation   \n",
       "3        1858  1022         Brown/red bare soil        Bare soils   \n",
       "4         274  1022                   Buildings         Buildings   \n",
       "5        1859  1024  Mixed bare soil/vegetation    Low vegetation   \n",
       "6        1860  1025                       Trees             Trees   \n",
       "7        1861  1025               Inland waters     Inland waters   \n",
       "8        1871  1031  Mixed bare soil/vegetation    Low vegetation   \n",
       "9        1878  1036                       Trees             Trees   \n",
       "10        284  1037                   Buildings         Buildings   \n",
       "11       1882  1041               Inland waters     Inland waters   \n",
       "12       1884  1042  Mixed bare soil/vegetation    Low vegetation   \n",
       "13       1892  1047              Dry vegetation    Low vegetation   \n",
       "14       1898  1050        White/grey bare soil        Bare soils   \n",
       "15       1901  1052               Inland waters     Inland waters   \n",
       "16        293  1054                   Buildings         Buildings   \n",
       "17       1904  1054               Inland waters     Inland waters   \n",
       "18       1911  1058                       Trees             Trees   \n",
       "19       1919  1063              Dry vegetation    Low vegetation   \n",
       "20        299  1065                   Buildings         Buildings   \n",
       "21       1920  1065        White/grey bare soil        Bare soils   \n",
       "22       1930  1071        White/grey bare soil        Bare soils   \n",
       "23       1929  1071              Dry vegetation    Low vegetation   \n",
       "24       1931  1072         Brown/red bare soil        Bare soils   \n",
       "25       1935  1074        White/grey bare soil        Bare soils   \n",
       "26       1939  1076                       Trees             Trees   \n",
       "27        304  1080                   Buildings         Buildings   \n",
       "28       1948  1082        White/grey bare soil        Bare soils   \n",
       "29       1954  1085        White/grey bare soil        Bare soils   \n",
       "30       1956  1087            Asphalt surfaces  Asphalt surfaces   \n",
       "31        587   109              Dry vegetation    Low vegetation   \n",
       "32        309  1093                   Buildings         Buildings   \n",
       "33       1973  1098              Dry vegetation    Low vegetation   \n",
       "34       1977  1101  Mixed bare soil/vegetation    Low vegetation   \n",
       "35       1979  1102            Other vegetation    Low vegetation   \n",
       "36       1985  1106         Brown/red bare soil        Bare soils   \n",
       "37       1987  1108        White/grey bare soil        Bare soils   \n",
       "38       1993  1111        White/grey bare soil        Bare soils   \n",
       "39       1999  1115         Brown/red bare soil        Bare soils   \n",
       "40       2004  1117               Inland waters     Inland waters   \n",
       "41       2009  1121            Other vegetation    Low vegetation   \n",
       "42       2022  1132            Asphalt surfaces  Asphalt surfaces   \n",
       "43       2029  1137            Other vegetation    Low vegetation   \n",
       "44       2030  1138               Inland waters     Inland waters   \n",
       "45        337  1140                   Buildings         Buildings   \n",
       "46        355  1142                       Trees             Trees   \n",
       "47       2041  1146                       Trees             Trees   \n",
       "48        591   115        White/grey bare soil        Bare soils   \n",
       "49        341  1151                   Buildings         Buildings   \n",
       "\n",
       "                 level1_label  level2_groundtr  level2b_groundtr  \\\n",
       "0                  Vegetation               33                30   \n",
       "1                  Vegetation               34                30   \n",
       "2                  Vegetation               34                30   \n",
       "3   Natural material surfaces               21                20   \n",
       "4         Artificial surfaces               11                11   \n",
       "5                  Vegetation               32                30   \n",
       "6                  Vegetation               31                31   \n",
       "7                       Water               41                41   \n",
       "8                  Vegetation               32                30   \n",
       "9                  Vegetation               31                31   \n",
       "10        Artificial surfaces               11                11   \n",
       "11                      Water               41                41   \n",
       "12                 Vegetation               32                30   \n",
       "13                 Vegetation               33                30   \n",
       "14  Natural material surfaces               22                20   \n",
       "15                      Water               41                41   \n",
       "16        Artificial surfaces               11                11   \n",
       "17                      Water               41                41   \n",
       "18                 Vegetation               31                31   \n",
       "19                 Vegetation               33                30   \n",
       "20        Artificial surfaces               11                11   \n",
       "21  Natural material surfaces               22                20   \n",
       "22  Natural material surfaces               22                20   \n",
       "23                 Vegetation               33                30   \n",
       "24  Natural material surfaces               21                20   \n",
       "25  Natural material surfaces               22                20   \n",
       "26                 Vegetation               31                31   \n",
       "27        Artificial surfaces               11                11   \n",
       "28  Natural material surfaces               22                20   \n",
       "29  Natural material surfaces               22                20   \n",
       "30        Artificial surfaces               14                14   \n",
       "31                 Vegetation               33                30   \n",
       "32        Artificial surfaces               11                11   \n",
       "33                 Vegetation               33                30   \n",
       "34                 Vegetation               32                30   \n",
       "35                 Vegetation               34                30   \n",
       "36  Natural material surfaces               21                20   \n",
       "37  Natural material surfaces               22                20   \n",
       "38  Natural material surfaces               22                20   \n",
       "39  Natural material surfaces               21                20   \n",
       "40                      Water               41                41   \n",
       "41                 Vegetation               34                30   \n",
       "42        Artificial surfaces               14                14   \n",
       "43                 Vegetation               34                30   \n",
       "44                      Water               41                41   \n",
       "45        Artificial surfaces               11                11   \n",
       "46                 Vegetation               31                31   \n",
       "47                 Vegetation               31                31   \n",
       "48  Natural material surfaces               22                20   \n",
       "49        Artificial surfaces               11                11   \n",
       "\n",
       "    level1_groundtr  rf_level2  rf_level2b  rf_level1  \n",
       "0                 3         32          30          3  \n",
       "1                 3         33          30          3  \n",
       "2                 3         32          30          3  \n",
       "3                 2         21          20          2  \n",
       "4                 1         11          11          1  \n",
       "5                 3         32          30          3  \n",
       "6                 3         31          31          3  \n",
       "7                 4         41          41          4  \n",
       "8                 3         32          30          3  \n",
       "9                 3         34          30          3  \n",
       "10                1         11          11          1  \n",
       "11                4         41          41          4  \n",
       "12                3         32          30          3  \n",
       "13                3         33          30          3  \n",
       "14                2         22          20          2  \n",
       "15                4         41          41          4  \n",
       "16                1         11          11          1  \n",
       "17                4         32          30          3  \n",
       "18                3         31          31          3  \n",
       "19                3         34          30          3  \n",
       "20                1         11          11          1  \n",
       "21                2         22          20          2  \n",
       "22                2         22          20          2  \n",
       "23                3         33          30          3  \n",
       "24                2         21          20          2  \n",
       "25                2         22          20          2  \n",
       "26                3         31          31          3  \n",
       "27                1         11          11          1  \n",
       "28                2         22          20          2  \n",
       "29                2         22          20          2  \n",
       "30                1         14          14          1  \n",
       "31                3         34          30          3  \n",
       "32                1         11          11          1  \n",
       "33                3         34          30          3  \n",
       "34                3         32          30          3  \n",
       "35                3         34          30          3  \n",
       "36                2         21          20          2  \n",
       "37                2         22          20          2  \n",
       "38                2         22          20          2  \n",
       "39                2         21          20          2  \n",
       "40                4         41          41          4  \n",
       "41                3         34          30          3  \n",
       "42                1         14          14          1  \n",
       "43                3         31          31          3  \n",
       "44                4         41          41          4  \n",
       "45                1         11          11          1  \n",
       "46                3         31          31          3  \n",
       "47                3         31          31          3  \n",
       "48                2         22          20          2  \n",
       "49                1         11          11          1  "
      ]
     },
     "execution_count": 24,
     "metadata": {},
     "output_type": "execute_result"
    }
   ],
   "source": [
    "#### Save ground truth, optical_predic, opticalsar_predic as lists, for Level-1 and Level-2\n",
    "# Query \n",
    "query=\"SELECT * FROM \"+classifB_schema+\".\"+groundtruth_classif+\" ORDER BY id\"\n",
    "# Execute query through panda\n",
    "df=pd.read_sql(query, db)\n",
    "\n",
    "# Show dataframe\n",
    "df.head(50)"
   ]
  },
  {
   "cell_type": "code",
   "execution_count": 25,
   "metadata": {
    "collapsed": true
   },
   "outputs": [],
   "source": [
    "# Save ground truth - Level2\n",
    "groundtruth_L2=list(df['level2_groundtr'])\n",
    "# Save ground truth - Level2b\n",
    "groundtruth_L2b=list(df['level2b_groundtr'])\n",
    "# Save ground truth - Level1\n",
    "groundtruth_L1=list(df['level1_groundtr'])\n",
    "\n",
    "# Save predictions - level2\n",
    "prediction_L2=list(df['rf_level2'])\n",
    "# Save predictions - level2b\n",
    "prediction_L2b=list(df['rf_level2b'])\n",
    "# Save predictions - level1\n",
    "prediction_L1=list(df['rf_level1'])"
   ]
  },
  {
   "cell_type": "code",
   "execution_count": 26,
   "metadata": {},
   "outputs": [
    {
     "name": "stdout",
     "output_type": "stream",
     "text": [
      "400\n"
     ]
    }
   ],
   "source": [
    "# Display number of objects in test sample\n",
    "nrows=len(groundtruth_L2)\n",
    "print nrows"
   ]
  },
  {
   "cell_type": "code",
   "execution_count": 27,
   "metadata": {
    "collapsed": true
   },
   "outputs": [],
   "source": [
    "## Zip the list together - Level 2\n",
    "ziped_results=zip(groundtruth_L2,prediction_L2)\n",
    "## Sort\n",
    "ziped_results.sort()\n",
    "## Unzip\n",
    "groundtruth_L2,prediction_L2=zip(*ziped_results)"
   ]
  },
  {
   "cell_type": "code",
   "execution_count": 28,
   "metadata": {
    "collapsed": true
   },
   "outputs": [],
   "source": [
    "## Zip the list together - Level 2b\n",
    "ziped_results=zip(groundtruth_L2b,prediction_L2b)\n",
    "## Sort\n",
    "ziped_results.sort()\n",
    "## Unzip\n",
    "groundtruth_L2b,prediction_L2b=zip(*ziped_results)"
   ]
  },
  {
   "cell_type": "code",
   "execution_count": 29,
   "metadata": {
    "collapsed": true
   },
   "outputs": [],
   "source": [
    "## Zip the list together - Level 1\n",
    "ziped_results=zip(groundtruth_L1,prediction_L1)\n",
    "## Sort\n",
    "ziped_results.sort()\n",
    "## Unzip\n",
    "groundtruth_L1,prediction_L1=zip(*ziped_results)"
   ]
  },
  {
   "cell_type": "code",
   "execution_count": 30,
   "metadata": {
    "collapsed": true
   },
   "outputs": [],
   "source": [
    "## Check if lists contain th same distinct values\n",
    "tmp1=list(set(groundtruth_L2))\n",
    "tmp1.sort()\n",
    "tmp2=list(set(prediction_L2))\n",
    "tmp2.sort()\n",
    "if tmp1 != tmp2:\n",
    "    sys.exit('WARNING: Lists contain different distinct values. Please check before continue')\n",
    "\n",
    "## Check if lists contain th same distinct values\n",
    "tmp1=list(set(groundtruth_L2b))\n",
    "tmp1.sort()\n",
    "tmp2=list(set(prediction_L2b))\n",
    "tmp2.sort()\n",
    "if tmp1 != tmp2:\n",
    "    sys.exit('WARNING: Lists contain different distinct values. Please check before continue')\n",
    "\n",
    "## Check if lists contain th same distinct values\n",
    "tmp1=list(set(groundtruth_L1))\n",
    "tmp1.sort()\n",
    "tmp2=list(set(prediction_L1))\n",
    "tmp2.sort()\n",
    "if tmp1 != tmp2:\n",
    "    sys.exit('WARNING: Lists contain different distinct values. Please check before continue')"
   ]
  },
  {
   "cell_type": "code",
   "execution_count": 31,
   "metadata": {
    "collapsed": true
   },
   "outputs": [],
   "source": [
    "#### Save ground truth, optical_predic, opticalsar_predic as lists, for Level-1 and Level-2\n",
    "# Query \n",
    "query=\"SELECT DISTINCT level2_groundtr, level2_label \\\n",
    "FROM \"+classifB_schema+\".\"+groundtruth_classif+\" ORDER BY level2_groundtr\"\n",
    "# Execute query through panda\n",
    "df=pd.read_sql(query, db)\n",
    "# Save ground truth classes labels - Level2\n",
    "classes_L2=list(df['level2_label'])\n",
    "\n",
    "# Query \n",
    "query=\"SELECT DISTINCT level2b_groundtr, level2b_label \\\n",
    "FROM \"+classifB_schema+\".\"+groundtruth_classif+\" ORDER BY level2b_groundtr\"\n",
    "# Execute query through panda\n",
    "df=pd.read_sql(query, db)\n",
    "# Save ground truth classes labels - Level2\n",
    "classes_L2b=list(df['level2b_label'])\n",
    "\n",
    "# Query \n",
    "query=\"SELECT DISTINCT level1_groundtr, level1_label \\\n",
    "FROM \"+classifB_schema+\".\"+groundtruth_classif+\" ORDER BY level1_groundtr\"\n",
    "# Execute query through panda\n",
    "df=pd.read_sql(query, db)\n",
    "# Save ground truth classes labels - Level2\n",
    "classes_L1=list(df['level1_label'])"
   ]
  },
  {
   "cell_type": "code",
   "execution_count": 32,
   "metadata": {},
   "outputs": [
    {
     "name": "stdout",
     "output_type": "stream",
     "text": [
      "Level 2 classes:\n",
      "\n",
      "Buildings\n",
      "Swimming pools\n",
      "Asphalt surfaces\n",
      "Brown/red bare soil\n",
      "White/grey bare soil\n",
      "Trees\n",
      "Mixed bare soil/vegetation\n",
      "Dry vegetation\n",
      "Other vegetation\n",
      "Inland waters\n"
     ]
    }
   ],
   "source": [
    "print \"Level 2 classes:\\n\\n\"+'\\n'.join(classes_L2)"
   ]
  },
  {
   "cell_type": "code",
   "execution_count": 33,
   "metadata": {},
   "outputs": [
    {
     "name": "stdout",
     "output_type": "stream",
     "text": [
      "Level 2b classes:\n",
      "\n",
      "Buildings\n",
      "Swimming pools\n",
      "Asphalt surfaces\n",
      "Bare soils\n",
      "Low vegetation\n",
      "Trees\n",
      "Inland waters\n"
     ]
    }
   ],
   "source": [
    "print \"Level 2b classes:\\n\\n\"+'\\n'.join(classes_L2b)"
   ]
  },
  {
   "cell_type": "code",
   "execution_count": 34,
   "metadata": {},
   "outputs": [
    {
     "name": "stdout",
     "output_type": "stream",
     "text": [
      "Level 1 classes:\n",
      "\n",
      "Artificial surfaces\n",
      "Natural material surfaces\n",
      "Vegetation\n",
      "Water\n"
     ]
    }
   ],
   "source": [
    "print \"Level 1 classes:\\n\\n\"+'\\n'.join(classes_L1)"
   ]
  },
  {
   "cell_type": "markdown",
   "metadata": {},
   "source": [
    "<center> <font size=4>  <h2>Confusion matrix</h2> </font> </center>"
   ]
  },
  {
   "cell_type": "markdown",
   "metadata": {},
   "source": [
    "The classification performance evaluation is made mainly using [Scikit-learn](http://scikit-learn.org/stable/modules/model_evaluation.html).\n",
    "\n",
    "The trick to plot the confusion matrix was found [here](http://scikit-learn.org/stable/auto_examples/model_selection/plot_confusion_matrix.html#sphx-glr-auto-examples-model-selection-plot-confusion-matrix-py)."
   ]
  },
  {
   "cell_type": "code",
   "execution_count": 35,
   "metadata": {
    "collapsed": true
   },
   "outputs": [],
   "source": [
    "## Import libraries\n",
    "import matplotlib.pyplot as plt\n",
    "from sklearn.metrics import confusion_matrix\n",
    "import itertools\n",
    "import numpy as np\n",
    "%matplotlib inline  "
   ]
  },
  {
   "cell_type": "code",
   "execution_count": 36,
   "metadata": {
    "collapsed": true
   },
   "outputs": [],
   "source": [
    "def plot_confusion_matrix(cm, classes,\n",
    "                          normalize=False,\n",
    "                          title='Confusion matrix',\n",
    "                          cmap=plt.cm.Blues):\n",
    "    \"\"\"\n",
    "    This function prints and plots the confusion matrix.\n",
    "    Normalization can be applied by setting `normalize=True`.\n",
    "    \"\"\"\n",
    "    plt.imshow(cm, interpolation='nearest', cmap=cmap)\n",
    "    plt.title(title)\n",
    "    plt.colorbar()\n",
    "    tick_marks = np.arange(len(classes))\n",
    "    plt.xticks(tick_marks, classes, ha='right', rotation=45)\n",
    "    plt.yticks(tick_marks, classes)\n",
    "\n",
    "    if normalize:\n",
    "        cm = cm.astype('float') / cm.sum(axis=1)[:, np.newaxis]\n",
    "        print(\"Normalized confusion matrix\")\n",
    "    else:\n",
    "        print('Confusion matrix, without normalization')\n",
    "\n",
    "    #print(cm)\n",
    "\n",
    "    thresh = cm.max() / 2.\n",
    "    for i, j in itertools.product(range(cm.shape[0]), range(cm.shape[1])):\n",
    "        if normalize:\n",
    "            plt.text(j, i, round(cm[i, j],2),\n",
    "            horizontalalignment=\"center\",\n",
    "            color=\"white\" if cm[i, j] > thresh else \"black\")\n",
    "        else:\n",
    "            plt.text(j, i, cm[i, j],\n",
    "            horizontalalignment=\"center\",\n",
    "            color=\"white\" if cm[i, j] > thresh else \"black\")\n",
    "\n",
    "    plt.tight_layout()\n",
    "    plt.ylabel('True label')\n",
    "    plt.xlabel('Predicted label')"
   ]
  },
  {
   "cell_type": "markdown",
   "metadata": {},
   "source": [
    "### Level 2"
   ]
  },
  {
   "cell_type": "code",
   "execution_count": 50,
   "metadata": {},
   "outputs": [
    {
     "name": "stderr",
     "output_type": "stream",
     "text": [
      "/usr/lib/python2.7/dist-packages/numpy/core/fromnumeric.py:2652: VisibleDeprecationWarning: `rank` is deprecated; use the `ndim` attribute or function instead. To find the rank of a matrix see `numpy.linalg.matrix_rank`.\n",
      "  VisibleDeprecationWarning)\n"
     ]
    }
   ],
   "source": [
    "# Compute confusion matrix\n",
    "cnf_matrix_L2=confusion_matrix(groundtruth_L2, prediction_L2)"
   ]
  },
  {
   "cell_type": "code",
   "execution_count": 51,
   "metadata": {
    "collapsed": true
   },
   "outputs": [],
   "source": [
    "## Set the path to the output\n",
    "output_rowconfmat=os.path.join(outputfolder,\"rowconfusionmatrix_L2.txt\")\n",
    "\n",
    "## Export the row confusion matrix\n",
    "numpy.savetxt(output_rowconfmat, cnf_matrix_L2.astype(np.int), fmt='%d', delimiter=\",\")"
   ]
  },
  {
   "cell_type": "code",
   "execution_count": 52,
   "metadata": {},
   "outputs": [
    {
     "name": "stdout",
     "output_type": "stream",
     "text": [
      "Confusion matrix, without normalization\n",
      "Normalized confusion matrix\n"
     ]
    },
    {
     "data": {
      "image/png": "[encoded data removed]",
      "text/plain": [
       "<matplotlib.figure.Figure at 0x7f8c20426c90>"
      ]
     },
     "metadata": {},
     "output_type": "display_data"
    },
    {
     "data": {
      "image/png": "[encoded data removed]",
      "text/plain": [
       "<matplotlib.figure.Figure at 0x7f8c20433310>"
      ]
     },
     "metadata": {},
     "output_type": "display_data"
    }
   ],
   "source": [
    "# Plot non-normalized confusion matrix\n",
    "fig_cm=plt.figure(figsize=(15,10))\n",
    "plot_confusion_matrix(cnf_matrix_L2, classes=classes_L2,\n",
    "                      title='Confusion matrix, without normalization')\n",
    "# Plot normalized confusion matrix\n",
    "fig_cm_normal=plt.figure(figsize=(15,10))\n",
    "plot_confusion_matrix(cnf_matrix_L2, classes=classes_L2, normalize=True,\n",
    "                      title='Normalized confusion matrix')\n",
    "\n",
    "plt.show()"
   ]
  },
  {
   "cell_type": "code",
   "execution_count": 53,
   "metadata": {
    "collapsed": true
   },
   "outputs": [],
   "source": [
    "## Set the path to the output\n",
    "output_confmat_pdf=os.path.join(outputfolder,\"confusionmatrix_L2.pdf\")\n",
    "output_confmatA_png=os.path.join(outputfolder,\"confusionmatrixA_L2.png\")\n",
    "output_confmatB_png=os.path.join(outputfolder,\"confusionmatrixB_L2.png\")"
   ]
  },
  {
   "cell_type": "code",
   "execution_count": 54,
   "metadata": {
    "collapsed": true
   },
   "outputs": [],
   "source": [
    "# Export in PDF\n",
    "from matplotlib.backends.backend_pdf import PdfPages\n",
    "pp=PdfPages(output_confmat_pdf)\n",
    "pp.savefig(fig_cm)\n",
    "pp.savefig(fig_cm_normal)\n",
    "pp.close()\n",
    "\n",
    "# Export in PNG\n",
    "fig_cm.savefig(output_confmatA_png, format='png', dpi=300)\n",
    "fig_cm_normal.savefig(output_confmatB_png, format='png', dpi=300)"
   ]
  },
  {
   "cell_type": "markdown",
   "metadata": {},
   "source": [
    "### Level 2b"
   ]
  },
  {
   "cell_type": "code",
   "execution_count": 58,
   "metadata": {
    "collapsed": true
   },
   "outputs": [],
   "source": [
    "# Compute confusion matrix\n",
    "cnf_matrix_L2b=confusion_matrix(groundtruth_L2b, prediction_L2b)"
   ]
  },
  {
   "cell_type": "code",
   "execution_count": 59,
   "metadata": {
    "collapsed": true
   },
   "outputs": [],
   "source": [
    "## Set the path to the output\n",
    "output_rowconfmat=os.path.join(outputfolder,\"rowconfusionmatrix_L2b.txt\")\n",
    "\n",
    "## Export the row confusion matrix\n",
    "numpy.savetxt(output_rowconfmat, cnf_matrix_L2b.astype(np.int), fmt='%d', delimiter=\",\")"
   ]
  },
  {
   "cell_type": "code",
   "execution_count": 60,
   "metadata": {},
   "outputs": [
    {
     "name": "stdout",
     "output_type": "stream",
     "text": [
      "Confusion matrix, without normalization\n",
      "Normalized confusion matrix\n"
     ]
    },
    {
     "data": {
      "image/png": "[encoded data removed]",
      "text/plain": [
       "<matplotlib.figure.Figure at 0x7f8c1f686210>"
      ]
     },
     "metadata": {},
     "output_type": "display_data"
    },
    {
     "data": {
      "image/png": "[encoded data removed]",
      "text/plain": [
       "<matplotlib.figure.Figure at 0x7f8c1f6e4dd0>"
      ]
     },
     "metadata": {},
     "output_type": "display_data"
    }
   ],
   "source": [
    "# Plot non-normalized confusion matrix\n",
    "fig_cm=plt.figure(figsize=(15,10))\n",
    "plot_confusion_matrix(cnf_matrix_L2b, classes=classes_L2b,\n",
    "                      title='Confusion matrix, without normalization')\n",
    "# Plot normalized confusion matrix\n",
    "fig_cm_normal=plt.figure(figsize=(15,10))\n",
    "plot_confusion_matrix(cnf_matrix_L2b, classes=classes_L2b, normalize=True,\n",
    "                      title='Normalized confusion matrix')\n",
    "\n",
    "plt.show()"
   ]
  },
  {
   "cell_type": "code",
   "execution_count": 61,
   "metadata": {
    "collapsed": true
   },
   "outputs": [],
   "source": [
    "## Set the path to the output\n",
    "output_confmat_pdf=os.path.join(outputfolder,\"confusionmatrix_L2b.pdf\")\n",
    "output_confmatA_png=os.path.join(outputfolder,\"confusionmatrixA_L2b.png\")\n",
    "output_confmatB_png=os.path.join(outputfolder,\"confusionmatrixB_L2b.png\")"
   ]
  },
  {
   "cell_type": "code",
   "execution_count": 62,
   "metadata": {
    "collapsed": true
   },
   "outputs": [],
   "source": [
    "# Export in PDF\n",
    "from matplotlib.backends.backend_pdf import PdfPages\n",
    "pp=PdfPages(output_confmat_pdf)\n",
    "pp.savefig(fig_cm)\n",
    "pp.savefig(fig_cm_normal)\n",
    "pp.close()\n",
    "\n",
    "# Export in PNG\n",
    "fig_cm.savefig(output_confmatA_png, format='png', dpi=300)\n",
    "fig_cm_normal.savefig(output_confmatB_png, format='png', dpi=300)"
   ]
  },
  {
   "cell_type": "markdown",
   "metadata": {},
   "source": [
    "### Level 1"
   ]
  },
  {
   "cell_type": "code",
   "execution_count": 63,
   "metadata": {
    "collapsed": true
   },
   "outputs": [],
   "source": [
    "# Compute confusion matrix\n",
    "cnf_matrix_L1=confusion_matrix(groundtruth_L1, prediction_L1)"
   ]
  },
  {
   "cell_type": "code",
   "execution_count": 64,
   "metadata": {
    "collapsed": true
   },
   "outputs": [],
   "source": [
    "## Set the path to the output\n",
    "output_rowconfmat=os.path.join(outputfolder,\"rowconfusionmatrix_L1.txt\")\n",
    "\n",
    "## Export the row confusion matrix\n",
    "numpy.savetxt(output_rowconfmat, cnf_matrix_L1.astype(np.int), fmt='%d', delimiter=\",\")"
   ]
  },
  {
   "cell_type": "code",
   "execution_count": 65,
   "metadata": {},
   "outputs": [
    {
     "name": "stdout",
     "output_type": "stream",
     "text": [
      "Confusion matrix, without normalization\n",
      "Normalized confusion matrix\n"
     ]
    },
    {
     "data": {
      "image/png": "[encoded data removed]",
      "text/plain": [
       "<matplotlib.figure.Figure at 0x7f8c1faf8d10>"
      ]
     },
     "metadata": {},
     "output_type": "display_data"
    },
    {
     "data": {
      "image/png": "[encoded data removed]",
      "text/plain": [
       "<matplotlib.figure.Figure at 0x7f8c201f74d0>"
      ]
     },
     "metadata": {},
     "output_type": "display_data"
    }
   ],
   "source": [
    "# Plot non-normalized confusion matrix\n",
    "fig_cm=plt.figure(figsize=(10,7))\n",
    "plot_confusion_matrix(cnf_matrix_L1, classes=classes_L1,\n",
    "                      title='Confusion matrix, without normalization')\n",
    "# Plot normalized confusion matrix\n",
    "fig_cm_normal=plt.figure(figsize=(10,7))\n",
    "plot_confusion_matrix(cnf_matrix_L1, classes=classes_L1, normalize=True,\n",
    "                      title='Normalized confusion matrix')\n",
    "\n",
    "plt.show()"
   ]
  },
  {
   "cell_type": "code",
   "execution_count": 66,
   "metadata": {
    "collapsed": true
   },
   "outputs": [],
   "source": [
    "## Set the path to the output\n",
    "output_confmat_pdf=os.path.join(outputfolder,\"confusionmatrix_L1.pdf\")\n",
    "output_confmatA_png=os.path.join(outputfolder,\"confusionmatrixA_L1.png\")\n",
    "output_confmatB_png=os.path.join(outputfolder,\"confusionmatrixB_L1.png\")"
   ]
  },
  {
   "cell_type": "code",
   "execution_count": 67,
   "metadata": {
    "collapsed": true
   },
   "outputs": [],
   "source": [
    "# Export in PDF\n",
    "from matplotlib.backends.backend_pdf import PdfPages\n",
    "pp=PdfPages(output_confmat_pdf)\n",
    "pp.savefig(fig_cm)\n",
    "pp.savefig(fig_cm_normal)\n",
    "pp.close()\n",
    "\n",
    "# Export in PNG\n",
    "fig_cm.savefig(output_confmatA_png, format='png', dpi=300)\n",
    "fig_cm_normal.savefig(output_confmatB_png, format='png', dpi=300)"
   ]
  },
  {
   "cell_type": "markdown",
   "metadata": {
    "collapsed": true
   },
   "source": [
    "<center> <font size=4>  <h2>Accuracy measures</h2> </font> </center>"
   ]
  },
  {
   "cell_type": "markdown",
   "metadata": {
    "collapsed": true
   },
   "source": [
    "## Classification report"
   ]
  },
  {
   "cell_type": "markdown",
   "metadata": {
    "collapsed": true
   },
   "source": [
    "TODO: Find a way to compute comission and omission errore / User's Producers' accuracies"
   ]
  },
  {
   "cell_type": "code",
   "execution_count": 39,
   "metadata": {
    "collapsed": true
   },
   "outputs": [],
   "source": [
    "## Import libraries\n",
    "from sklearn.metrics import accuracy_score\n",
    "from sklearn.metrics import cohen_kappa_score\n",
    "from sklearn.metrics import classification_report\n",
    "\n",
    "from sklearn.metrics import f1_score"
   ]
  },
  {
   "cell_type": "markdown",
   "metadata": {},
   "source": [
    "#### Level 2"
   ]
  },
  {
   "cell_type": "code",
   "execution_count": 69,
   "metadata": {
    "collapsed": true
   },
   "outputs": [],
   "source": [
    "## Set the path to the output\n",
    "output=os.path.join(outputfolder,\"RF_classif_repport_L2.txt\")"
   ]
  },
  {
   "cell_type": "code",
   "execution_count": 70,
   "metadata": {},
   "outputs": [
    {
     "name": "stdout",
     "output_type": "stream",
     "text": [
      "Performance evalutation: \n",
      "Overall Accuracy: 0.8075\n",
      "Cohen's Kappa: 0.786111111111\n",
      "F1-score: 0.805624146985\n",
      "\n",
      "\n",
      "Classification report: \n",
      "                             precision    recall  f1-score   support\n",
      "\n",
      "                 Buildings       0.95      0.97      0.96        40\n",
      "            Swimming pools       1.00      0.97      0.99        40\n",
      "          Asphalt surfaces       0.97      0.90      0.94        40\n",
      "       Brown/red bare soil       0.78      0.90      0.84        40\n",
      "      White/grey bare soil       0.84      0.95      0.89        40\n",
      "                     Trees       0.92      0.85      0.88        40\n",
      "Mixed bare soil/vegetation       0.58      0.65      0.61        40\n",
      "            Dry vegetation       0.59      0.40      0.48        40\n",
      "          Other vegetation       0.57      0.70      0.63        40\n",
      "             Inland waters       0.91      0.78      0.84        40\n",
      "\n",
      "               avg / total       0.81      0.81      0.81       400\n",
      "\n"
     ]
    }
   ],
   "source": [
    "# Define dataset to take into account\n",
    "y_true=groundtruth_L2\n",
    "y_pred=prediction_L2\n",
    "class_label=classes_L2\n",
    "\n",
    "# Compute precision accuracy\n",
    "accuracy=accuracy_score(y_true, y_pred, normalize=True)\n",
    "# Compute Cohen's Kappa\n",
    "cohen_kappa=cohen_kappa_score(y_true, y_pred)\n",
    "# Compute f1-score\n",
    "f_1=f1_score(y_true, y_pred, average='weighted')\n",
    "# Compute 'classification report'\n",
    "classif_report=classification_report(y_true, y_pred, target_names=class_label)\n",
    "\n",
    "# Save as .txt file\n",
    "f=open(output, 'w')\n",
    "f.write(\"Performance evalutation: \\n\")\n",
    "f.write(\"Overall Accuracy: \"+str(accuracy)+\"\\n\")\n",
    "f.write(\"Cohen's Kappa: \"+str(cohen_kappa)+\"\\n\")\n",
    "f.write(\"F1-score: \"+str(f_1)+\"\\n\")\n",
    "f.write(\"\\n\\n\")\n",
    "f.write(\"Classification report: \\n \"+classif_report)\n",
    "f.close()\n",
    "\n",
    "# Show file content\n",
    "f=open(output,'r')\n",
    "file_contents=f.read()\n",
    "print (file_contents)\n",
    "f.close()"
   ]
  },
  {
   "cell_type": "markdown",
   "metadata": {},
   "source": [
    "#### Level 2b"
   ]
  },
  {
   "cell_type": "code",
   "execution_count": 44,
   "metadata": {
    "collapsed": true
   },
   "outputs": [],
   "source": [
    "## Set the path to the output\n",
    "output=os.path.join(outputfolder,\"RF_classif_repport_L2b.txt\")"
   ]
  },
  {
   "cell_type": "code",
   "execution_count": 45,
   "metadata": {},
   "outputs": [
    {
     "name": "stdout",
     "output_type": "stream",
     "text": [
      "Performance evalutation: \n",
      "Overall Accuracy: 0.925\n",
      "Cohen's Kappa: 0.908172635445\n",
      "F1-score: 0.924115489755\n",
      "\n",
      "\n",
      "Classification report: \n",
      "                   precision    recall  f1-score   support\n",
      "\n",
      "       Buildings       0.95      0.97      0.96        40\n",
      "  Swimming pools       1.00      0.97      0.99        40\n",
      "Asphalt surfaces       0.97      0.90      0.94        40\n",
      "      Bare soils       0.88      1.00      0.94        80\n",
      "  Low vegetation       0.92      0.93      0.92       120\n",
      "           Trees       0.92      0.85      0.88        40\n",
      "   Inland waters       0.91      0.78      0.84        40\n",
      "\n",
      "     avg / total       0.93      0.93      0.92       400\n",
      "\n"
     ]
    }
   ],
   "source": [
    "# Define dataset to take into account\n",
    "y_true=groundtruth_L2b\n",
    "y_pred=prediction_L2b\n",
    "class_label=classes_L2b\n",
    "\n",
    "# Compute precision accuracy\n",
    "accuracy=accuracy_score(y_true, y_pred, normalize=True)\n",
    "# Compute Cohen's Kappa\n",
    "cohen_kappa=cohen_kappa_score(y_true, y_pred)\n",
    "# Compute f1-score\n",
    "f_1=f1_score(y_true, y_pred, average='weighted')\n",
    "# Compute 'classification report'\n",
    "classif_report=classification_report(y_true, y_pred, target_names=class_label)\n",
    "\n",
    "# Save as .txt file\n",
    "f=open(output, 'w')\n",
    "f.write(\"Performance evalutation: \\n\")\n",
    "f.write(\"Overall Accuracy: \"+str(accuracy)+\"\\n\")\n",
    "f.write(\"Cohen's Kappa: \"+str(cohen_kappa)+\"\\n\")\n",
    "f.write(\"F1-score: \"+str(f_1)+\"\\n\")\n",
    "f.write(\"\\n\\n\")\n",
    "f.write(\"Classification report: \\n \"+classif_report)\n",
    "f.close()\n",
    "\n",
    "# Show file content\n",
    "f=open(output,'r')\n",
    "file_contents=f.read()\n",
    "print (file_contents)\n",
    "f.close()"
   ]
  },
  {
   "cell_type": "markdown",
   "metadata": {},
   "source": [
    "#### Level 1"
   ]
  },
  {
   "cell_type": "code",
   "execution_count": 72,
   "metadata": {
    "collapsed": true
   },
   "outputs": [],
   "source": [
    "## Set the path to the output\n",
    "output=os.path.join(outputfolder,\"RF_classif_repport_L1.txt\")"
   ]
  },
  {
   "cell_type": "code",
   "execution_count": 73,
   "metadata": {},
   "outputs": [
    {
     "name": "stdout",
     "output_type": "stream",
     "text": [
      "Performance evalutation: \n",
      "Overall Accuracy: 0.9525\n",
      "Cohen's Kappa: 0.932167083185\n",
      "F1-score: 0.952010556432\n",
      "\n",
      "\n",
      "Classification report: \n",
      "                            precision    recall  f1-score   support\n",
      "\n",
      "      Artificial surfaces       0.99      0.97      0.98       120\n",
      "Natural material surfaces       0.88      1.00      0.94        80\n",
      "               Vegetation       0.97      0.96      0.97       160\n",
      "                    Water       0.91      0.78      0.84        40\n",
      "\n",
      "              avg / total       0.95      0.95      0.95       400\n",
      "\n"
     ]
    }
   ],
   "source": [
    "# Define dataset to take into account\n",
    "y_true=groundtruth_L1\n",
    "y_pred=prediction_L1\n",
    "class_label=classes_L1\n",
    "\n",
    "# Compute precision accuracy\n",
    "accuracy=accuracy_score(y_true, y_pred, normalize=True)\n",
    "# Compute Cohen's Kappa\n",
    "cohen_kappa=cohen_kappa_score(y_true, y_pred)\n",
    "# Compute f1-score\n",
    "f_1=f1_score(y_true, y_pred, average='weighted')\n",
    "# Compute 'classification report'\n",
    "classif_report=classification_report(y_true, y_pred, target_names=class_label)\n",
    "\n",
    "# Save as .txt file\n",
    "f=open(output, 'w')\n",
    "f.write(\"Performance evalutation: \\n\")\n",
    "f.write(\"Overall Accuracy: \"+str(accuracy)+\"\\n\")\n",
    "f.write(\"Cohen's Kappa: \"+str(cohen_kappa)+\"\\n\")\n",
    "f.write(\"F1-score: \"+str(f_1)+\"\\n\")\n",
    "f.write(\"\\n\\n\")\n",
    "f.write(\"Classification report: \\n \"+classif_report)\n",
    "f.close()\n",
    "\n",
    "# Show file content\n",
    "f=open(output,'r')\n",
    "file_contents=f.read()\n",
    "print (file_contents)\n",
    "f.close()"
   ]
  },
  {
   "cell_type": "markdown",
   "metadata": {},
   "source": [
    "<center> <font size=3> <h2>Reclass segmentation rasters with classification results</h2> </font> </center>  "
   ]
  },
  {
   "cell_type": "code",
   "execution_count": 21,
   "metadata": {},
   "outputs": [
    {
     "name": "stdout",
     "output_type": "stream",
     "text": [
      "You are currently working in the <classif_B> mapset\n"
     ]
    }
   ],
   "source": [
    "## Print current mapset\n",
    "print \"You are currently working in the <\"+str(mapsetname)+\"> mapset\""
   ]
  },
  {
   "cell_type": "markdown",
   "metadata": {},
   "source": [
    "#### Change the outputfolder"
   ]
  },
  {
   "cell_type": "code",
   "execution_count": 22,
   "metadata": {
    "collapsed": true
   },
   "outputs": [],
   "source": [
    "## Folder in which save processing time output\n",
    "outputfolder=os.path.join(resultfolder,\"classified_rasters\")\n",
    "\n",
    "## Create the folder if does not exists\n",
    "if not os.path.exists(outputfolder):\n",
    "    os.makedirs(outputfolder)\n",
    "    print \"Folder '\"+outputfolder+\"' created\""
   ]
  },
  {
   "cell_type": "markdown",
   "metadata": {},
   "source": [
    "## Reclass segmentation raster"
   ]
  },
  {
   "cell_type": "markdown",
   "metadata": {
    "collapsed": true
   },
   "source": [
    "Here after, the segment raster will be reclassed (using r.reclass) with the classification results."
   ]
  },
  {
   "cell_type": "code",
   "execution_count": 23,
   "metadata": {
    "collapsed": true
   },
   "outputs": [],
   "source": [
    "# Connect to an existing database\n",
    "db=pg.connect(database=dbname, user=dbuser, password=dbpassword, host=host)\n",
    "# Open a cursor to perform database operations\n",
    "cur=db.cursor()"
   ]
  },
  {
   "cell_type": "code",
   "execution_count": 24,
   "metadata": {},
   "outputs": [
    {
     "name": "stdout",
     "output_type": "stream",
     "text": [
      "Start creating classified rasters\n",
      "15775526 segment are going to be reclassified\n",
      "Working on <rf_classif_l2>: Reclassify original segment layer\n",
      "Working on <rf_classif_l2>: Make hard copy of the reclassified layer\n",
      "Working on <rf_classif_l2>: Renaming layer\n",
      "15775526 segment are going to be reclassified\n",
      "Working on <rf_classif_l2b>: Reclassify original segment layer\n",
      "Working on <rf_classif_l2b>: Make hard copy of the reclassified layer\n",
      "Working on <rf_classif_l2b>: Renaming layer\n",
      "15775526 segment are going to be reclassified\n",
      "Working on <rf_classif_l1>: Reclassify original segment layer\n",
      "Working on <rf_classif_l1>: Make hard copy of the reclassified layer\n",
      "Working on <rf_classif_l1>: Renaming layer\n"
     ]
    }
   ],
   "source": [
    "print \"Start creating classified rasters\"\n",
    "\n",
    "classif_suffix=('l2','l2b','l1')\n",
    "for x in classif_suffix:\n",
    "    ## Set name for raster with the prediction at level 2\n",
    "    prediction_raster='rf_classif_'+x\n",
    "\n",
    "    #### Save 'seg_id' and the corresponding prediction for in a list\n",
    "    query=\"SELECT seg_id, rf_pred_\"+x+\" FROM \"+classifB_schema+\".\"+classif\n",
    "    df=pd.read_sql(query, db)\n",
    "\n",
    "    # Save seg_id of objects in a list\n",
    "    listsegid=list(df['seg_id'])\n",
    "    # Save predictions at level_2 in a list\n",
    "    listpredict=list(df['rf_pred_'+x])\n",
    "\n",
    "    if len(listsegid) <> len(listpredict):\n",
    "        sys.exit('WARNING: lenght of lists containing segid and prediction are not the same. Please check before continue')\n",
    "    else:\n",
    "        nrows=len(listsegid)\n",
    "        print str(nrows)+\" segment are going to be reclassified\"\n",
    "    \n",
    "    ##### Reclassify raster\n",
    "    ## Create a temporary 'reclass_rule.csv' file\n",
    "    temprulecsv=os.path.join(tempfile.gettempdir(),\"reclass_rules.csv\") # Define the csv output file name\n",
    "    f = open(temprulecsv, 'w')\n",
    "    # Write rules in the csv file\n",
    "    for i in range(0,nrows-1):\n",
    "        f.write(str(listsegid[i]))\n",
    "        f.write(\"=\")\n",
    "        f.write(str(listpredict[i]))\n",
    "        f.write(\"\\n\")\n",
    "    f.write(\"*\")\n",
    "    f.write(\"=\")\n",
    "    f.write(\"NULL\")\n",
    "    f.close()\n",
    "\n",
    "    ## Reclass segments raster layer to keep only outliers segments, using the reclas_rule.csv file (create temporary raster)\n",
    "    grass.run_command('g.region', overwrite=True, raster=\"segments\"+\"@\"+user[\"classificationA_mapsetname\"])\n",
    "    print (\"Working on <\"+prediction_raster+\">: Reclassify original segment layer\")\n",
    "    grass.run_command('r.reclass', overwrite=True, input=\"segments\"+\"@\"+user[\"classificationA_mapsetname\"], \n",
    "                      output=prediction_raster, rules=temprulecsv)\n",
    "    os.remove(temprulecsv)\n",
    "\n",
    "    #### Create 'real raster'\n",
    "    #### Make a copy of the classified maps of faster display in GRASS GIS\n",
    "    ## Saving current time for processing time management\n",
    "    print (\"Working on <\"+prediction_raster+\">: Make hard copy of the reclassified layer\")\n",
    "    ## Set computational region\n",
    "    grass.run_command('g.region', overwrite=True, raster=\"segments\"+\"@\"+user[\"classificationA_mapsetname\"])\n",
    "    ## Create the same raster with r.mapcalc\n",
    "    formula=prediction_raster+\"_temp=\"+prediction_raster\n",
    "    grass.mapcalc(formula, overwrite=True)\n",
    "    ## Rename the new raster with the name of the original one (will be overwrited)\n",
    "    print (\"Working on <\"+prediction_raster+\">: Renaming layer\")\n",
    "    renameformula=prediction_raster+\"_temp,\"+prediction_raster\n",
    "    grass.run_command('g.rename', overwrite=True, raster=renameformula)"
   ]
  },
  {
   "cell_type": "markdown",
   "metadata": {},
   "source": [
    "### Change color table and export in .tif"
   ]
  },
  {
   "cell_type": "code",
   "execution_count": 25,
   "metadata": {
    "collapsed": true
   },
   "outputs": [],
   "source": [
    "# Define color table. Replace with the RGB values of wanted colors of each class\n",
    "color_rule=\"11  227:26:28\"+\"\\n\"\n",
    "color_rule+=\"12  255:141:1\"+\"\\n\"\n",
    "color_rule+=\"13  94:221:227\"+\"\\n\"\n",
    "color_rule+=\"14  102:102:102\"+\"\\n\"\n",
    "color_rule+=\"21  246:194:142\"+\"\\n\"\n",
    "color_rule+=\"22  211:217:173\"+\"\\n\"\n",
    "color_rule+=\"31  0:128:0\"+\"\\n\"\n",
    "color_rule+=\"32  189:255:185\"+\"\\n\"\n",
    "color_rule+=\"33  88:190:141\"+\"\\n\"\n",
    "color_rule+=\"34  29:220:0\"+\"\\n\"\n",
    "color_rule+=\"41  30:30:192\"+\"\\n\"\n",
    "color_rule+=\"51  0:0:0\"+\"\\n\"\n",
    "\n",
    "## Create a temporary 'color_table.txt' file\n",
    "color_table=os.path.join(outputfolder,\"color_table_l2.txt\") # Define the csv output file name\n",
    "f = open(color_table, 'w')\n",
    "f.write(color_rule)\n",
    "f.close()"
   ]
  },
  {
   "cell_type": "code",
   "execution_count": 26,
   "metadata": {
    "collapsed": true
   },
   "outputs": [],
   "source": [
    "# Define color table. Replace with the RGB values of wanted colors of each class\n",
    "color_rule=\"11  227:26:28\"+\"\\n\"\n",
    "color_rule+=\"12  255:141:1\"+\"\\n\"\n",
    "color_rule+=\"13  94:221:227\"+\"\\n\"\n",
    "color_rule+=\"14  102:102:102\"+\"\\n\"\n",
    "color_rule+=\"20  211:217:173\"+\"\\n\"\n",
    "color_rule+=\"30  29:220:0\"+\"\\n\"\n",
    "color_rule+=\"31  0:128:0\"+\"\\n\"\n",
    "color_rule+=\"41  30:30:192\"+\"\\n\"\n",
    "color_rule+=\"51  0:0:0\"+\"\\n\"\n",
    "\n",
    "## Create a temporary 'color_table.txt' file\n",
    "color_table=os.path.join(outputfolder,\"color_table_l2b.txt\") # Define the csv output file name\n",
    "f = open(color_table, 'w')\n",
    "f.write(color_rule)\n",
    "f.close()"
   ]
  },
  {
   "cell_type": "code",
   "execution_count": 27,
   "metadata": {
    "collapsed": true
   },
   "outputs": [],
   "source": [
    "# Define color table. Replace with the RGB values of wanted colors of each class\n",
    "color_rule=\"1   227:26:28\"+\"\\n\"\n",
    "color_rule+=\"2   211:217:173\"+\"\\n\"\n",
    "color_rule+=\"3   29:220:0\"+\"\\n\"\n",
    "color_rule+=\"4   30:30:192\"+\"\\n\"\n",
    "color_rule+=\"5   0:0:0\"+\"\\n\"\n",
    "\n",
    "## Create a temporary 'color_table.txt' file\n",
    "color_table=os.path.join(outputfolder,\"color_table_l1.txt\") # Define the csv output file name\n",
    "f = open(color_table, 'w')\n",
    "f.write(color_rule)\n",
    "f.close()"
   ]
  },
  {
   "cell_type": "code",
   "execution_count": 28,
   "metadata": {},
   "outputs": [
    {
     "name": "stdout",
     "output_type": "stream",
     "text": [
      "['rf_classif_l1@classif_B', 'rf_classif_l2@classif_B', 'rf_classif_l2b@classif_B']\n"
     ]
    }
   ],
   "source": [
    "# Create a list with classified raster\n",
    "classifiedraster_list=grass.list_strings(\"rast\", pattern=\"rf_classif_*\", flag='r', mapset=classifB_schema)\n",
    "print classifiedraster_list"
   ]
  },
  {
   "cell_type": "code",
   "execution_count": 29,
   "metadata": {
    "collapsed": true
   },
   "outputs": [],
   "source": [
    "for prediction_raster in classifiedraster_list:\n",
    "    ## Apply new color the existing GRASS colortable (for faster display in GRASS map display)\n",
    "    suffix=prediction_raster.split(\"@\")[0].split(\"_\")[-1]\n",
    "    color_table_file=os.path.join(outputfolder,\"color_table_\"+suffix+\".txt\")\n",
    "    grass.run_command('r.colors', map=prediction_raster, rules=color_table_file)"
   ]
  },
  {
   "cell_type": "markdown",
   "metadata": {},
   "source": [
    "#### Export of classification raster"
   ]
  },
  {
   "cell_type": "code",
   "execution_count": 32,
   "metadata": {},
   "outputs": [
    {
     "name": "stdout",
     "output_type": "stream",
     "text": [
      "Export classified raster maps on Wed Dec  6 15:24:41 2017\n"
     ]
    },
    {
     "data": {
      "text/plain": [
       "'Classified raster maps exported in 7 minutes and 3.4 seconds'"
      ]
     },
     "execution_count": 32,
     "metadata": {},
     "output_type": "execute_result"
    }
   ],
   "source": [
    "## Saving current time for processing time management\n",
    "print (\"Export classified raster maps on \" + time.ctime())\n",
    "begintime_exportraster=time.time()\n",
    "\n",
    "for prediction_raster in classifiedraster_list:\n",
    "    outputname=os.path.join(outputfolder,prediction_raster+\".tif\")\n",
    "    grass.run_command('g.region', overwrite=True, raster=prediction_raster)\n",
    "    grass.run_command('r.out.gdal', overwrite=True, input=prediction_raster, output=outputname, format='GTiff')\n",
    "    \n",
    "## Compute processing time and print it\n",
    "print_processing_time(begintime_exportraster, \"Classified raster maps exported in \")"
   ]
  },
  {
   "cell_type": "markdown",
   "metadata": {},
   "source": [
    "<left> <font size=4> <b> End of classification part </b> </font> </left> "
   ]
  },
  {
   "cell_type": "code",
   "execution_count": null,
   "metadata": {
    "collapsed": true,
    "scrolled": true
   },
   "outputs": [],
   "source": [
    "print(\"The script ends at \"+ time.ctime())\n",
    "print_processing_time(begintime_segmentation_full, \"Entire process has been achieved in \")"
   ]
  },
  {
   "cell_type": "markdown",
   "metadata": {},
   "source": [
    "**-_-_-_-_-_-_-_-_-_-_-_-_-_-_-_-_-_-_-_-_-_-_-_-_-_-_-_-_-_-_-_-_-_-_-_-_-_-_-_-_-_-_-_-_-_-_-_-_-_-_-_-_-_-_-_-_-_-_-_-_-**"
   ]
  }
 ],
 "metadata": {
  "anaconda-cloud": {},
  "kernelspec": {
   "display_name": "Python 2",
   "language": "python",
   "name": "python2"
  },
  "language_info": {
   "codemirror_mode": {
    "name": "ipython",
    "version": 2
   },
   "file_extension": ".py",
   "mimetype": "text/x-python",
   "name": "python",
   "nbconvert_exporter": "python",
   "pygments_lexer": "ipython2",
   "version": "2.7.12"
  }
 },
 "nbformat": 4,
 "nbformat_minor": 1
}
